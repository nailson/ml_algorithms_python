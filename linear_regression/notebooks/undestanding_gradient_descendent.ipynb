{
 "metadata": {
  "language_info": {
   "codemirror_mode": {
    "name": "ipython",
    "version": 3
   },
   "file_extension": ".py",
   "mimetype": "text/x-python",
   "name": "python",
   "nbconvert_exporter": "python",
   "pygments_lexer": "ipython3",
   "version": "3.7.6-final"
  },
  "orig_nbformat": 2,
  "kernelspec": {
   "name": "python3",
   "display_name": "Python 3"
  }
 },
 "nbformat": 4,
 "nbformat_minor": 2,
 "cells": [
  {
   "cell_type": "markdown",
   "metadata": {},
   "source": [
    "# Understanding Gradient Descendent"
   ]
  },
  {
   "cell_type": "code",
   "execution_count": 1,
   "metadata": {},
   "outputs": [
    {
     "output_type": "execute_result",
     "data": {
      "text/plain": "<matplotlib.collections.PathCollection at 0x7f9a8e3d9a50>"
     },
     "metadata": {},
     "execution_count": 1
    },
    {
     "output_type": "display_data",
     "data": {
      "text/plain": "<Figure size 432x288 with 1 Axes>",
      "image/svg+xml": "<?xml version=\"1.0\" encoding=\"utf-8\" standalone=\"no\"?>\n<!DOCTYPE svg PUBLIC \"-//W3C//DTD SVG 1.1//EN\"\n  \"http://www.w3.org/Graphics/SVG/1.1/DTD/svg11.dtd\">\n<!-- Created with matplotlib (https://matplotlib.org/) -->\n<svg height=\"248.518125pt\" version=\"1.1\" viewBox=\"0 0 368.925 248.518125\" width=\"368.925pt\" xmlns=\"http://www.w3.org/2000/svg\" xmlns:xlink=\"http://www.w3.org/1999/xlink\">\n <defs>\n  <style type=\"text/css\">\n*{stroke-linecap:butt;stroke-linejoin:round;}\n  </style>\n </defs>\n <g id=\"figure_1\">\n  <g id=\"patch_1\">\n   <path d=\"M -0 248.518125 \nL 368.925 248.518125 \nL 368.925 0 \nL -0 0 \nz\n\" style=\"fill:none;\"/>\n  </g>\n  <g id=\"axes_1\">\n   <g id=\"patch_2\">\n    <path d=\"M 26.925 224.64 \nL 361.725 224.64 \nL 361.725 7.2 \nL 26.925 7.2 \nz\n\" style=\"fill:#ffffff;\"/>\n   </g>\n   <g id=\"PathCollection_1\">\n    <defs>\n     <path d=\"M 0 3 \nC 0.795609 3 1.55874 2.683901 2.12132 2.12132 \nC 2.683901 1.55874 3 0.795609 3 0 \nC 3 -0.795609 2.683901 -1.55874 2.12132 -2.12132 \nC 1.55874 -2.683901 0.795609 -3 0 -3 \nC -0.795609 -3 -1.55874 -2.683901 -2.12132 -2.12132 \nC -2.683901 -1.55874 -3 -0.795609 -3 0 \nC -3 0.795609 -2.683901 1.55874 -2.12132 2.12132 \nC -1.55874 2.683901 -0.795609 3 0 3 \nz\n\" id=\"m98a40fbc5e\" style=\"stroke:#1f77b4;\"/>\n    </defs>\n    <g clip-path=\"url(#pdf799aa9b6)\">\n     <use style=\"fill:#1f77b4;stroke:#1f77b4;\" x=\"283.04644\" xlink:href=\"#m98a40fbc5e\" y=\"56.178955\"/>\n     <use style=\"fill:#1f77b4;stroke:#1f77b4;\" x=\"201.995104\" xlink:href=\"#m98a40fbc5e\" y=\"105.334264\"/>\n     <use style=\"fill:#1f77b4;stroke:#1f77b4;\" x=\"303.517659\" xlink:href=\"#m98a40fbc5e\" y=\"90.250999\"/>\n     <use style=\"fill:#1f77b4;stroke:#1f77b4;\" x=\"83.805925\" xlink:href=\"#m98a40fbc5e\" y=\"184.15965\"/>\n     <use style=\"fill:#1f77b4;stroke:#1f77b4;\" x=\"106.007622\" xlink:href=\"#m98a40fbc5e\" y=\"161.025832\"/>\n     <use style=\"fill:#1f77b4;stroke:#1f77b4;\" x=\"195.722511\" xlink:href=\"#m98a40fbc5e\" y=\"137.712749\"/>\n     <use style=\"fill:#1f77b4;stroke:#1f77b4;\" x=\"326.09401\" xlink:href=\"#m98a40fbc5e\" y=\"76.244914\"/>\n     <use style=\"fill:#1f77b4;stroke:#1f77b4;\" x=\"136.211546\" xlink:href=\"#m98a40fbc5e\" y=\"154.715629\"/>\n     <use style=\"fill:#1f77b4;stroke:#1f77b4;\" x=\"231.61601\" xlink:href=\"#m98a40fbc5e\" y=\"112.146362\"/>\n     <use style=\"fill:#1f77b4;stroke:#1f77b4;\" x=\"74.365132\" xlink:href=\"#m98a40fbc5e\" y=\"168.038074\"/>\n     <use style=\"fill:#1f77b4;stroke:#1f77b4;\" x=\"168.051776\" xlink:href=\"#m98a40fbc5e\" y=\"108.599449\"/>\n     <use style=\"fill:#1f77b4;stroke:#1f77b4;\" x=\"279.279932\" xlink:href=\"#m98a40fbc5e\" y=\"75.726241\"/>\n     <use style=\"fill:#1f77b4;stroke:#1f77b4;\" x=\"290.186672\" xlink:href=\"#m98a40fbc5e\" y=\"57.897438\"/>\n     <use style=\"fill:#1f77b4;stroke:#1f77b4;\" x=\"107.476267\" xlink:href=\"#m98a40fbc5e\" y=\"147.476473\"/>\n     <use style=\"fill:#1f77b4;stroke:#1f77b4;\" x=\"215.520854\" xlink:href=\"#m98a40fbc5e\" y=\"120.221008\"/>\n     <use style=\"fill:#1f77b4;stroke:#1f77b4;\" x=\"207.029039\" xlink:href=\"#m98a40fbc5e\" y=\"71.63395\"/>\n     <use style=\"fill:#1f77b4;stroke:#1f77b4;\" x=\"67.231193\" xlink:href=\"#m98a40fbc5e\" y=\"117.113736\"/>\n     <use style=\"fill:#1f77b4;stroke:#1f77b4;\" x=\"253.588609\" xlink:href=\"#m98a40fbc5e\" y=\"77.047053\"/>\n     <use style=\"fill:#1f77b4;stroke:#1f77b4;\" x=\"46.734086\" xlink:href=\"#m98a40fbc5e\" y=\"152.747049\"/>\n     <use style=\"fill:#1f77b4;stroke:#1f77b4;\" x=\"55.714442\" xlink:href=\"#m98a40fbc5e\" y=\"179.052853\"/>\n     <use style=\"fill:#1f77b4;stroke:#1f77b4;\" x=\"205.978558\" xlink:href=\"#m98a40fbc5e\" y=\"84.938016\"/>\n     <use style=\"fill:#1f77b4;stroke:#1f77b4;\" x=\"126.742558\" xlink:href=\"#m98a40fbc5e\" y=\"144.682579\"/>\n     <use style=\"fill:#1f77b4;stroke:#1f77b4;\" x=\"102.979091\" xlink:href=\"#m98a40fbc5e\" y=\"176.042026\"/>\n     <use style=\"fill:#1f77b4;stroke:#1f77b4;\" x=\"251.226494\" xlink:href=\"#m98a40fbc5e\" y=\"81.413037\"/>\n     <use style=\"fill:#1f77b4;stroke:#1f77b4;\" x=\"270.213323\" xlink:href=\"#m98a40fbc5e\" y=\"86.922329\"/>\n     <use style=\"fill:#1f77b4;stroke:#1f77b4;\" x=\"195.661525\" xlink:href=\"#m98a40fbc5e\" y=\"145.869883\"/>\n     <use style=\"fill:#1f77b4;stroke:#1f77b4;\" x=\"296.196785\" xlink:href=\"#m98a40fbc5e\" y=\"42.035956\"/>\n     <use style=\"fill:#1f77b4;stroke:#1f77b4;\" x=\"269.688225\" xlink:href=\"#m98a40fbc5e\" y=\"66.989202\"/>\n     <use style=\"fill:#1f77b4;stroke:#1f77b4;\" x=\"44.074391\" xlink:href=\"#m98a40fbc5e\" y=\"214.457516\"/>\n     <use style=\"fill:#1f77b4;stroke:#1f77b4;\" x=\"83.279723\" xlink:href=\"#m98a40fbc5e\" y=\"164.988408\"/>\n     <use style=\"fill:#1f77b4;stroke:#1f77b4;\" x=\"149.642061\" xlink:href=\"#m98a40fbc5e\" y=\"136.949254\"/>\n     <use style=\"fill:#1f77b4;stroke:#1f77b4;\" x=\"222.071531\" xlink:href=\"#m98a40fbc5e\" y=\"107.461446\"/>\n     <use style=\"fill:#1f77b4;stroke:#1f77b4;\" x=\"120.835948\" xlink:href=\"#m98a40fbc5e\" y=\"172.885599\"/>\n     <use style=\"fill:#1f77b4;stroke:#1f77b4;\" x=\"64.930222\" xlink:href=\"#m98a40fbc5e\" y=\"147.810559\"/>\n     <use style=\"fill:#1f77b4;stroke:#1f77b4;\" x=\"206.765901\" xlink:href=\"#m98a40fbc5e\" y=\"103.273114\"/>\n     <use style=\"fill:#1f77b4;stroke:#1f77b4;\" x=\"310.87121\" xlink:href=\"#m98a40fbc5e\" y=\"36.656396\"/>\n     <use style=\"fill:#1f77b4;stroke:#1f77b4;\" x=\"152.756651\" xlink:href=\"#m98a40fbc5e\" y=\"138.544718\"/>\n     <use style=\"fill:#1f77b4;stroke:#1f77b4;\" x=\"189.936054\" xlink:href=\"#m98a40fbc5e\" y=\"115.555508\"/>\n     <use style=\"fill:#1f77b4;stroke:#1f77b4;\" x=\"155.318332\" xlink:href=\"#m98a40fbc5e\" y=\"86.906545\"/>\n     <use style=\"fill:#1f77b4;stroke:#1f77b4;\" x=\"136.711881\" xlink:href=\"#m98a40fbc5e\" y=\"117.814505\"/>\n     <use style=\"fill:#1f77b4;stroke:#1f77b4;\" x=\"127.025267\" xlink:href=\"#m98a40fbc5e\" y=\"146.505975\"/>\n     <use style=\"fill:#1f77b4;stroke:#1f77b4;\" x=\"166.553068\" xlink:href=\"#m98a40fbc5e\" y=\"127.82268\"/>\n     <use style=\"fill:#1f77b4;stroke:#1f77b4;\" x=\"216.671311\" xlink:href=\"#m98a40fbc5e\" y=\"89.805906\"/>\n     <use style=\"fill:#1f77b4;stroke:#1f77b4;\" x=\"345.135121\" xlink:href=\"#m98a40fbc5e\" y=\"43.71173\"/>\n     <use style=\"fill:#1f77b4;stroke:#1f77b4;\" x=\"304.862305\" xlink:href=\"#m98a40fbc5e\" y=\"82.089831\"/>\n     <use style=\"fill:#1f77b4;stroke:#1f77b4;\" x=\"135.635933\" xlink:href=\"#m98a40fbc5e\" y=\"115.845844\"/>\n     <use style=\"fill:#1f77b4;stroke:#1f77b4;\" x=\"318.440771\" xlink:href=\"#m98a40fbc5e\" y=\"76.507171\"/>\n     <use style=\"fill:#1f77b4;stroke:#1f77b4;\" x=\"317.810316\" xlink:href=\"#m98a40fbc5e\" y=\"52.402928\"/>\n     <use style=\"fill:#1f77b4;stroke:#1f77b4;\" x=\"47.859361\" xlink:href=\"#m98a40fbc5e\" y=\"148.359128\"/>\n     <use style=\"fill:#1f77b4;stroke:#1f77b4;\" x=\"326.316141\" xlink:href=\"#m98a40fbc5e\" y=\"64.192652\"/>\n     <use style=\"fill:#1f77b4;stroke:#1f77b4;\" x=\"336.236711\" xlink:href=\"#m98a40fbc5e\" y=\"39.301788\"/>\n     <use style=\"fill:#1f77b4;stroke:#1f77b4;\" x=\"126.766782\" xlink:href=\"#m98a40fbc5e\" y=\"98.036381\"/>\n     <use style=\"fill:#1f77b4;stroke:#1f77b4;\" x=\"314.131646\" xlink:href=\"#m98a40fbc5e\" y=\"63.338634\"/>\n     <use style=\"fill:#1f77b4;stroke:#1f77b4;\" x=\"252.683135\" xlink:href=\"#m98a40fbc5e\" y=\"59.312398\"/>\n     <use style=\"fill:#1f77b4;stroke:#1f77b4;\" x=\"175.22513\" xlink:href=\"#m98a40fbc5e\" y=\"139.228973\"/>\n     <use style=\"fill:#1f77b4;stroke:#1f77b4;\" x=\"80.677955\" xlink:href=\"#m98a40fbc5e\" y=\"128.592716\"/>\n     <use style=\"fill:#1f77b4;stroke:#1f77b4;\" x=\"157.487222\" xlink:href=\"#m98a40fbc5e\" y=\"127.806556\"/>\n     <use style=\"fill:#1f77b4;stroke:#1f77b4;\" x=\"237.631049\" xlink:href=\"#m98a40fbc5e\" y=\"123.279863\"/>\n     <use style=\"fill:#1f77b4;stroke:#1f77b4;\" x=\"296.390708\" xlink:href=\"#m98a40fbc5e\" y=\"77.730176\"/>\n     <use style=\"fill:#1f77b4;stroke:#1f77b4;\" x=\"268.290575\" xlink:href=\"#m98a40fbc5e\" y=\"121.41669\"/>\n     <use style=\"fill:#1f77b4;stroke:#1f77b4;\" x=\"115.202813\" xlink:href=\"#m98a40fbc5e\" y=\"167.744325\"/>\n     <use style=\"fill:#1f77b4;stroke:#1f77b4;\" x=\"61.35424\" xlink:href=\"#m98a40fbc5e\" y=\"168.782163\"/>\n     <use style=\"fill:#1f77b4;stroke:#1f77b4;\" x=\"171.934916\" xlink:href=\"#m98a40fbc5e\" y=\"126.940701\"/>\n     <use style=\"fill:#1f77b4;stroke:#1f77b4;\" x=\"191.187369\" xlink:href=\"#m98a40fbc5e\" y=\"108.844652\"/>\n     <use style=\"fill:#1f77b4;stroke:#1f77b4;\" x=\"59.867839\" xlink:href=\"#m98a40fbc5e\" y=\"137.386474\"/>\n     <use style=\"fill:#1f77b4;stroke:#1f77b4;\" x=\"195.022319\" xlink:href=\"#m98a40fbc5e\" y=\"124.436196\"/>\n     <use style=\"fill:#1f77b4;stroke:#1f77b4;\" x=\"269.677024\" xlink:href=\"#m98a40fbc5e\" y=\"82.889292\"/>\n     <use style=\"fill:#1f77b4;stroke:#1f77b4;\" x=\"312.466043\" xlink:href=\"#m98a40fbc5e\" y=\"53.844044\"/>\n     <use style=\"fill:#1f77b4;stroke:#1f77b4;\" x=\"189.940685\" xlink:href=\"#m98a40fbc5e\" y=\"127.497494\"/>\n     <use style=\"fill:#1f77b4;stroke:#1f77b4;\" x=\"344.839434\" xlink:href=\"#m98a40fbc5e\" y=\"45.839929\"/>\n     <use style=\"fill:#1f77b4;stroke:#1f77b4;\" x=\"86.890213\" xlink:href=\"#m98a40fbc5e\" y=\"139.351986\"/>\n     <use style=\"fill:#1f77b4;stroke:#1f77b4;\" x=\"329.740576\" xlink:href=\"#m98a40fbc5e\" y=\"17.382484\"/>\n     <use style=\"fill:#1f77b4;stroke:#1f77b4;\" x=\"242.279591\" xlink:href=\"#m98a40fbc5e\" y=\"90.024533\"/>\n     <use style=\"fill:#1f77b4;stroke:#1f77b4;\" x=\"87.765607\" xlink:href=\"#m98a40fbc5e\" y=\"145.759311\"/>\n     <use style=\"fill:#1f77b4;stroke:#1f77b4;\" x=\"114.514853\" xlink:href=\"#m98a40fbc5e\" y=\"118.488314\"/>\n     <use style=\"fill:#1f77b4;stroke:#1f77b4;\" x=\"214.605396\" xlink:href=\"#m98a40fbc5e\" y=\"83.88298\"/>\n     <use style=\"fill:#1f77b4;stroke:#1f77b4;\" x=\"163.842856\" xlink:href=\"#m98a40fbc5e\" y=\"120.801759\"/>\n     <use style=\"fill:#1f77b4;stroke:#1f77b4;\" x=\"262.648578\" xlink:href=\"#m98a40fbc5e\" y=\"56.925026\"/>\n     <use style=\"fill:#1f77b4;stroke:#1f77b4;\" x=\"53.661921\" xlink:href=\"#m98a40fbc5e\" y=\"181.802008\"/>\n     <use style=\"fill:#1f77b4;stroke:#1f77b4;\" x=\"307.465504\" xlink:href=\"#m98a40fbc5e\" y=\"62.73099\"/>\n     <use style=\"fill:#1f77b4;stroke:#1f77b4;\" x=\"296.878489\" xlink:href=\"#m98a40fbc5e\" y=\"79.276953\"/>\n     <use style=\"fill:#1f77b4;stroke:#1f77b4;\" x=\"214.48049\" xlink:href=\"#m98a40fbc5e\" y=\"68.346666\"/>\n     <use style=\"fill:#1f77b4;stroke:#1f77b4;\" x=\"287.865653\" xlink:href=\"#m98a40fbc5e\" y=\"64.226619\"/>\n     <use style=\"fill:#1f77b4;stroke:#1f77b4;\" x=\"248.4081\" xlink:href=\"#m98a40fbc5e\" y=\"57.621246\"/>\n     <use style=\"fill:#1f77b4;stroke:#1f77b4;\" x=\"273.783293\" xlink:href=\"#m98a40fbc5e\" y=\"52.884458\"/>\n     <use style=\"fill:#1f77b4;stroke:#1f77b4;\" x=\"240.212416\" xlink:href=\"#m98a40fbc5e\" y=\"105.569904\"/>\n     <use style=\"fill:#1f77b4;stroke:#1f77b4;\" x=\"226.694443\" xlink:href=\"#m98a40fbc5e\" y=\"108.184999\"/>\n     <use style=\"fill:#1f77b4;stroke:#1f77b4;\" x=\"216.515615\" xlink:href=\"#m98a40fbc5e\" y=\"72.266291\"/>\n     <use style=\"fill:#1f77b4;stroke:#1f77b4;\" x=\"290.711337\" xlink:href=\"#m98a40fbc5e\" y=\"84.897806\"/>\n     <use style=\"fill:#1f77b4;stroke:#1f77b4;\" x=\"43.514879\" xlink:href=\"#m98a40fbc5e\" y=\"145.579879\"/>\n     <use style=\"fill:#1f77b4;stroke:#1f77b4;\" x=\"46.205397\" xlink:href=\"#m98a40fbc5e\" y=\"163.219954\"/>\n     <use style=\"fill:#1f77b4;stroke:#1f77b4;\" x=\"224.526271\" xlink:href=\"#m98a40fbc5e\" y=\"82.276388\"/>\n     <use style=\"fill:#1f77b4;stroke:#1f77b4;\" x=\"225.18913\" xlink:href=\"#m98a40fbc5e\" y=\"100.372643\"/>\n     <use style=\"fill:#1f77b4;stroke:#1f77b4;\" x=\"118.410055\" xlink:href=\"#m98a40fbc5e\" y=\"176.468942\"/>\n     <use style=\"fill:#1f77b4;stroke:#1f77b4;\" x=\"166.852684\" xlink:href=\"#m98a40fbc5e\" y=\"114.763044\"/>\n     <use style=\"fill:#1f77b4;stroke:#1f77b4;\" x=\"150.546035\" xlink:href=\"#m98a40fbc5e\" y=\"164.475516\"/>\n     <use style=\"fill:#1f77b4;stroke:#1f77b4;\" x=\"287.350919\" xlink:href=\"#m98a40fbc5e\" y=\"64.200063\"/>\n     <use style=\"fill:#1f77b4;stroke:#1f77b4;\" x=\"339.762218\" xlink:href=\"#m98a40fbc5e\" y=\"60.832246\"/>\n     <use style=\"fill:#1f77b4;stroke:#1f77b4;\" x=\"146.049863\" xlink:href=\"#m98a40fbc5e\" y=\"129.881033\"/>\n     <use style=\"fill:#1f77b4;stroke:#1f77b4;\" x=\"306.726783\" xlink:href=\"#m98a40fbc5e\" y=\"48.24196\"/>\n    </g>\n   </g>\n   <g id=\"matplotlib.axis_1\">\n    <g id=\"xtick_1\">\n     <g id=\"line2d_1\">\n      <defs>\n       <path d=\"M 0 0 \nL 0 3.5 \n\" id=\"mf15dffda96\" style=\"stroke:#000000;stroke-width:0.8;\"/>\n      </defs>\n      <g>\n       <use style=\"stroke:#000000;stroke-width:0.8;\" x=\"40.236973\" xlink:href=\"#mf15dffda96\" y=\"224.64\"/>\n      </g>\n     </g>\n     <g id=\"text_1\">\n      <!-- 0.00 -->\n      <defs>\n       <path d=\"M 31.78125 66.40625 \nQ 24.171875 66.40625 20.328125 58.90625 \nQ 16.5 51.421875 16.5 36.375 \nQ 16.5 21.390625 20.328125 13.890625 \nQ 24.171875 6.390625 31.78125 6.390625 \nQ 39.453125 6.390625 43.28125 13.890625 \nQ 47.125 21.390625 47.125 36.375 \nQ 47.125 51.421875 43.28125 58.90625 \nQ 39.453125 66.40625 31.78125 66.40625 \nz\nM 31.78125 74.21875 \nQ 44.046875 74.21875 50.515625 64.515625 \nQ 56.984375 54.828125 56.984375 36.375 \nQ 56.984375 17.96875 50.515625 8.265625 \nQ 44.046875 -1.421875 31.78125 -1.421875 \nQ 19.53125 -1.421875 13.0625 8.265625 \nQ 6.59375 17.96875 6.59375 36.375 \nQ 6.59375 54.828125 13.0625 64.515625 \nQ 19.53125 74.21875 31.78125 74.21875 \nz\n\" id=\"DejaVuSans-48\"/>\n       <path d=\"M 10.6875 12.40625 \nL 21 12.40625 \nL 21 0 \nL 10.6875 0 \nz\n\" id=\"DejaVuSans-46\"/>\n      </defs>\n      <g transform=\"translate(29.10416 239.238437)scale(0.1 -0.1)\">\n       <use xlink:href=\"#DejaVuSans-48\"/>\n       <use x=\"63.623047\" xlink:href=\"#DejaVuSans-46\"/>\n       <use x=\"95.410156\" xlink:href=\"#DejaVuSans-48\"/>\n       <use x=\"159.033203\" xlink:href=\"#DejaVuSans-48\"/>\n      </g>\n     </g>\n    </g>\n    <g id=\"xtick_2\">\n     <g id=\"line2d_2\">\n      <g>\n       <use style=\"stroke:#000000;stroke-width:0.8;\" x=\"78.507333\" xlink:href=\"#mf15dffda96\" y=\"224.64\"/>\n      </g>\n     </g>\n     <g id=\"text_2\">\n      <!-- 0.25 -->\n      <defs>\n       <path d=\"M 19.1875 8.296875 \nL 53.609375 8.296875 \nL 53.609375 0 \nL 7.328125 0 \nL 7.328125 8.296875 \nQ 12.9375 14.109375 22.625 23.890625 \nQ 32.328125 33.6875 34.8125 36.53125 \nQ 39.546875 41.84375 41.421875 45.53125 \nQ 43.3125 49.21875 43.3125 52.78125 \nQ 43.3125 58.59375 39.234375 62.25 \nQ 35.15625 65.921875 28.609375 65.921875 \nQ 23.96875 65.921875 18.8125 64.3125 \nQ 13.671875 62.703125 7.8125 59.421875 \nL 7.8125 69.390625 \nQ 13.765625 71.78125 18.9375 73 \nQ 24.125 74.21875 28.421875 74.21875 \nQ 39.75 74.21875 46.484375 68.546875 \nQ 53.21875 62.890625 53.21875 53.421875 \nQ 53.21875 48.921875 51.53125 44.890625 \nQ 49.859375 40.875 45.40625 35.40625 \nQ 44.1875 33.984375 37.640625 27.21875 \nQ 31.109375 20.453125 19.1875 8.296875 \nz\n\" id=\"DejaVuSans-50\"/>\n       <path d=\"M 10.796875 72.90625 \nL 49.515625 72.90625 \nL 49.515625 64.59375 \nL 19.828125 64.59375 \nL 19.828125 46.734375 \nQ 21.96875 47.46875 24.109375 47.828125 \nQ 26.265625 48.1875 28.421875 48.1875 \nQ 40.625 48.1875 47.75 41.5 \nQ 54.890625 34.8125 54.890625 23.390625 \nQ 54.890625 11.625 47.5625 5.09375 \nQ 40.234375 -1.421875 26.90625 -1.421875 \nQ 22.3125 -1.421875 17.546875 -0.640625 \nQ 12.796875 0.140625 7.71875 1.703125 \nL 7.71875 11.625 \nQ 12.109375 9.234375 16.796875 8.0625 \nQ 21.484375 6.890625 26.703125 6.890625 \nQ 35.15625 6.890625 40.078125 11.328125 \nQ 45.015625 15.765625 45.015625 23.390625 \nQ 45.015625 31 40.078125 35.4375 \nQ 35.15625 39.890625 26.703125 39.890625 \nQ 22.75 39.890625 18.8125 39.015625 \nQ 14.890625 38.140625 10.796875 36.28125 \nz\n\" id=\"DejaVuSans-53\"/>\n      </defs>\n      <g transform=\"translate(67.374521 239.238437)scale(0.1 -0.1)\">\n       <use xlink:href=\"#DejaVuSans-48\"/>\n       <use x=\"63.623047\" xlink:href=\"#DejaVuSans-46\"/>\n       <use x=\"95.410156\" xlink:href=\"#DejaVuSans-50\"/>\n       <use x=\"159.033203\" xlink:href=\"#DejaVuSans-53\"/>\n      </g>\n     </g>\n    </g>\n    <g id=\"xtick_3\">\n     <g id=\"line2d_3\">\n      <g>\n       <use style=\"stroke:#000000;stroke-width:0.8;\" x=\"116.777694\" xlink:href=\"#mf15dffda96\" y=\"224.64\"/>\n      </g>\n     </g>\n     <g id=\"text_3\">\n      <!-- 0.50 -->\n      <g transform=\"translate(105.644881 239.238437)scale(0.1 -0.1)\">\n       <use xlink:href=\"#DejaVuSans-48\"/>\n       <use x=\"63.623047\" xlink:href=\"#DejaVuSans-46\"/>\n       <use x=\"95.410156\" xlink:href=\"#DejaVuSans-53\"/>\n       <use x=\"159.033203\" xlink:href=\"#DejaVuSans-48\"/>\n      </g>\n     </g>\n    </g>\n    <g id=\"xtick_4\">\n     <g id=\"line2d_4\">\n      <g>\n       <use style=\"stroke:#000000;stroke-width:0.8;\" x=\"155.048054\" xlink:href=\"#mf15dffda96\" y=\"224.64\"/>\n      </g>\n     </g>\n     <g id=\"text_4\">\n      <!-- 0.75 -->\n      <defs>\n       <path d=\"M 8.203125 72.90625 \nL 55.078125 72.90625 \nL 55.078125 68.703125 \nL 28.609375 0 \nL 18.3125 0 \nL 43.21875 64.59375 \nL 8.203125 64.59375 \nz\n\" id=\"DejaVuSans-55\"/>\n      </defs>\n      <g transform=\"translate(143.915242 239.238437)scale(0.1 -0.1)\">\n       <use xlink:href=\"#DejaVuSans-48\"/>\n       <use x=\"63.623047\" xlink:href=\"#DejaVuSans-46\"/>\n       <use x=\"95.410156\" xlink:href=\"#DejaVuSans-55\"/>\n       <use x=\"159.033203\" xlink:href=\"#DejaVuSans-53\"/>\n      </g>\n     </g>\n    </g>\n    <g id=\"xtick_5\">\n     <g id=\"line2d_5\">\n      <g>\n       <use style=\"stroke:#000000;stroke-width:0.8;\" x=\"193.318415\" xlink:href=\"#mf15dffda96\" y=\"224.64\"/>\n      </g>\n     </g>\n     <g id=\"text_5\">\n      <!-- 1.00 -->\n      <defs>\n       <path d=\"M 12.40625 8.296875 \nL 28.515625 8.296875 \nL 28.515625 63.921875 \nL 10.984375 60.40625 \nL 10.984375 69.390625 \nL 28.421875 72.90625 \nL 38.28125 72.90625 \nL 38.28125 8.296875 \nL 54.390625 8.296875 \nL 54.390625 0 \nL 12.40625 0 \nz\n\" id=\"DejaVuSans-49\"/>\n      </defs>\n      <g transform=\"translate(182.185602 239.238437)scale(0.1 -0.1)\">\n       <use xlink:href=\"#DejaVuSans-49\"/>\n       <use x=\"63.623047\" xlink:href=\"#DejaVuSans-46\"/>\n       <use x=\"95.410156\" xlink:href=\"#DejaVuSans-48\"/>\n       <use x=\"159.033203\" xlink:href=\"#DejaVuSans-48\"/>\n      </g>\n     </g>\n    </g>\n    <g id=\"xtick_6\">\n     <g id=\"line2d_6\">\n      <g>\n       <use style=\"stroke:#000000;stroke-width:0.8;\" x=\"231.588775\" xlink:href=\"#mf15dffda96\" y=\"224.64\"/>\n      </g>\n     </g>\n     <g id=\"text_6\">\n      <!-- 1.25 -->\n      <g transform=\"translate(220.455963 239.238437)scale(0.1 -0.1)\">\n       <use xlink:href=\"#DejaVuSans-49\"/>\n       <use x=\"63.623047\" xlink:href=\"#DejaVuSans-46\"/>\n       <use x=\"95.410156\" xlink:href=\"#DejaVuSans-50\"/>\n       <use x=\"159.033203\" xlink:href=\"#DejaVuSans-53\"/>\n      </g>\n     </g>\n    </g>\n    <g id=\"xtick_7\">\n     <g id=\"line2d_7\">\n      <g>\n       <use style=\"stroke:#000000;stroke-width:0.8;\" x=\"269.859136\" xlink:href=\"#mf15dffda96\" y=\"224.64\"/>\n      </g>\n     </g>\n     <g id=\"text_7\">\n      <!-- 1.50 -->\n      <g transform=\"translate(258.726323 239.238437)scale(0.1 -0.1)\">\n       <use xlink:href=\"#DejaVuSans-49\"/>\n       <use x=\"63.623047\" xlink:href=\"#DejaVuSans-46\"/>\n       <use x=\"95.410156\" xlink:href=\"#DejaVuSans-53\"/>\n       <use x=\"159.033203\" xlink:href=\"#DejaVuSans-48\"/>\n      </g>\n     </g>\n    </g>\n    <g id=\"xtick_8\">\n     <g id=\"line2d_8\">\n      <g>\n       <use style=\"stroke:#000000;stroke-width:0.8;\" x=\"308.129496\" xlink:href=\"#mf15dffda96\" y=\"224.64\"/>\n      </g>\n     </g>\n     <g id=\"text_8\">\n      <!-- 1.75 -->\n      <g transform=\"translate(296.996684 239.238437)scale(0.1 -0.1)\">\n       <use xlink:href=\"#DejaVuSans-49\"/>\n       <use x=\"63.623047\" xlink:href=\"#DejaVuSans-46\"/>\n       <use x=\"95.410156\" xlink:href=\"#DejaVuSans-55\"/>\n       <use x=\"159.033203\" xlink:href=\"#DejaVuSans-53\"/>\n      </g>\n     </g>\n    </g>\n    <g id=\"xtick_9\">\n     <g id=\"line2d_9\">\n      <g>\n       <use style=\"stroke:#000000;stroke-width:0.8;\" x=\"346.399857\" xlink:href=\"#mf15dffda96\" y=\"224.64\"/>\n      </g>\n     </g>\n     <g id=\"text_9\">\n      <!-- 2.00 -->\n      <g transform=\"translate(335.267044 239.238437)scale(0.1 -0.1)\">\n       <use xlink:href=\"#DejaVuSans-50\"/>\n       <use x=\"63.623047\" xlink:href=\"#DejaVuSans-46\"/>\n       <use x=\"95.410156\" xlink:href=\"#DejaVuSans-48\"/>\n       <use x=\"159.033203\" xlink:href=\"#DejaVuSans-48\"/>\n      </g>\n     </g>\n    </g>\n   </g>\n   <g id=\"matplotlib.axis_2\">\n    <g id=\"ytick_1\">\n     <g id=\"line2d_10\">\n      <defs>\n       <path d=\"M 0 0 \nL -3.5 0 \n\" id=\"mf33aaf5440\" style=\"stroke:#000000;stroke-width:0.8;\"/>\n      </defs>\n      <g>\n       <use style=\"stroke:#000000;stroke-width:0.8;\" x=\"26.925\" xlink:href=\"#mf33aaf5440\" y=\"216.422966\"/>\n      </g>\n     </g>\n     <g id=\"text_10\">\n      <!-- 2 -->\n      <g transform=\"translate(13.5625 220.222184)scale(0.1 -0.1)\">\n       <use xlink:href=\"#DejaVuSans-50\"/>\n      </g>\n     </g>\n    </g>\n    <g id=\"ytick_2\">\n     <g id=\"line2d_11\">\n      <g>\n       <use style=\"stroke:#000000;stroke-width:0.8;\" x=\"26.925\" xlink:href=\"#mf33aaf5440\" y=\"173.10197\"/>\n      </g>\n     </g>\n     <g id=\"text_11\">\n      <!-- 4 -->\n      <defs>\n       <path d=\"M 37.796875 64.3125 \nL 12.890625 25.390625 \nL 37.796875 25.390625 \nz\nM 35.203125 72.90625 \nL 47.609375 72.90625 \nL 47.609375 25.390625 \nL 58.015625 25.390625 \nL 58.015625 17.1875 \nL 47.609375 17.1875 \nL 47.609375 0 \nL 37.796875 0 \nL 37.796875 17.1875 \nL 4.890625 17.1875 \nL 4.890625 26.703125 \nz\n\" id=\"DejaVuSans-52\"/>\n      </defs>\n      <g transform=\"translate(13.5625 176.901189)scale(0.1 -0.1)\">\n       <use xlink:href=\"#DejaVuSans-52\"/>\n      </g>\n     </g>\n    </g>\n    <g id=\"ytick_3\">\n     <g id=\"line2d_12\">\n      <g>\n       <use style=\"stroke:#000000;stroke-width:0.8;\" x=\"26.925\" xlink:href=\"#mf33aaf5440\" y=\"129.780975\"/>\n      </g>\n     </g>\n     <g id=\"text_12\">\n      <!-- 6 -->\n      <defs>\n       <path d=\"M 33.015625 40.375 \nQ 26.375 40.375 22.484375 35.828125 \nQ 18.609375 31.296875 18.609375 23.390625 \nQ 18.609375 15.53125 22.484375 10.953125 \nQ 26.375 6.390625 33.015625 6.390625 \nQ 39.65625 6.390625 43.53125 10.953125 \nQ 47.40625 15.53125 47.40625 23.390625 \nQ 47.40625 31.296875 43.53125 35.828125 \nQ 39.65625 40.375 33.015625 40.375 \nz\nM 52.59375 71.296875 \nL 52.59375 62.3125 \nQ 48.875 64.0625 45.09375 64.984375 \nQ 41.3125 65.921875 37.59375 65.921875 \nQ 27.828125 65.921875 22.671875 59.328125 \nQ 17.53125 52.734375 16.796875 39.40625 \nQ 19.671875 43.65625 24.015625 45.921875 \nQ 28.375 48.1875 33.59375 48.1875 \nQ 44.578125 48.1875 50.953125 41.515625 \nQ 57.328125 34.859375 57.328125 23.390625 \nQ 57.328125 12.15625 50.6875 5.359375 \nQ 44.046875 -1.421875 33.015625 -1.421875 \nQ 20.359375 -1.421875 13.671875 8.265625 \nQ 6.984375 17.96875 6.984375 36.375 \nQ 6.984375 53.65625 15.1875 63.9375 \nQ 23.390625 74.21875 37.203125 74.21875 \nQ 40.921875 74.21875 44.703125 73.484375 \nQ 48.484375 72.75 52.59375 71.296875 \nz\n\" id=\"DejaVuSans-54\"/>\n      </defs>\n      <g transform=\"translate(13.5625 133.580194)scale(0.1 -0.1)\">\n       <use xlink:href=\"#DejaVuSans-54\"/>\n      </g>\n     </g>\n    </g>\n    <g id=\"ytick_4\">\n     <g id=\"line2d_13\">\n      <g>\n       <use style=\"stroke:#000000;stroke-width:0.8;\" x=\"26.925\" xlink:href=\"#mf33aaf5440\" y=\"86.45998\"/>\n      </g>\n     </g>\n     <g id=\"text_13\">\n      <!-- 8 -->\n      <defs>\n       <path d=\"M 31.78125 34.625 \nQ 24.75 34.625 20.71875 30.859375 \nQ 16.703125 27.09375 16.703125 20.515625 \nQ 16.703125 13.921875 20.71875 10.15625 \nQ 24.75 6.390625 31.78125 6.390625 \nQ 38.8125 6.390625 42.859375 10.171875 \nQ 46.921875 13.96875 46.921875 20.515625 \nQ 46.921875 27.09375 42.890625 30.859375 \nQ 38.875 34.625 31.78125 34.625 \nz\nM 21.921875 38.8125 \nQ 15.578125 40.375 12.03125 44.71875 \nQ 8.5 49.078125 8.5 55.328125 \nQ 8.5 64.0625 14.71875 69.140625 \nQ 20.953125 74.21875 31.78125 74.21875 \nQ 42.671875 74.21875 48.875 69.140625 \nQ 55.078125 64.0625 55.078125 55.328125 \nQ 55.078125 49.078125 51.53125 44.71875 \nQ 48 40.375 41.703125 38.8125 \nQ 48.828125 37.15625 52.796875 32.3125 \nQ 56.78125 27.484375 56.78125 20.515625 \nQ 56.78125 9.90625 50.3125 4.234375 \nQ 43.84375 -1.421875 31.78125 -1.421875 \nQ 19.734375 -1.421875 13.25 4.234375 \nQ 6.78125 9.90625 6.78125 20.515625 \nQ 6.78125 27.484375 10.78125 32.3125 \nQ 14.796875 37.15625 21.921875 38.8125 \nz\nM 18.3125 54.390625 \nQ 18.3125 48.734375 21.84375 45.5625 \nQ 25.390625 42.390625 31.78125 42.390625 \nQ 38.140625 42.390625 41.71875 45.5625 \nQ 45.3125 48.734375 45.3125 54.390625 \nQ 45.3125 60.0625 41.71875 63.234375 \nQ 38.140625 66.40625 31.78125 66.40625 \nQ 25.390625 66.40625 21.84375 63.234375 \nQ 18.3125 60.0625 18.3125 54.390625 \nz\n\" id=\"DejaVuSans-56\"/>\n      </defs>\n      <g transform=\"translate(13.5625 90.259199)scale(0.1 -0.1)\">\n       <use xlink:href=\"#DejaVuSans-56\"/>\n      </g>\n     </g>\n    </g>\n    <g id=\"ytick_5\">\n     <g id=\"line2d_14\">\n      <g>\n       <use style=\"stroke:#000000;stroke-width:0.8;\" x=\"26.925\" xlink:href=\"#mf33aaf5440\" y=\"43.138985\"/>\n      </g>\n     </g>\n     <g id=\"text_14\">\n      <!-- 10 -->\n      <g transform=\"translate(7.2 46.938203)scale(0.1 -0.1)\">\n       <use xlink:href=\"#DejaVuSans-49\"/>\n       <use x=\"63.623047\" xlink:href=\"#DejaVuSans-48\"/>\n      </g>\n     </g>\n    </g>\n   </g>\n   <g id=\"patch_3\">\n    <path d=\"M 26.925 224.64 \nL 26.925 7.2 \n\" style=\"fill:none;stroke:#000000;stroke-linecap:square;stroke-linejoin:miter;stroke-width:0.8;\"/>\n   </g>\n   <g id=\"patch_4\">\n    <path d=\"M 361.725 224.64 \nL 361.725 7.2 \n\" style=\"fill:none;stroke:#000000;stroke-linecap:square;stroke-linejoin:miter;stroke-width:0.8;\"/>\n   </g>\n   <g id=\"patch_5\">\n    <path d=\"M 26.925 224.64 \nL 361.725 224.64 \n\" style=\"fill:none;stroke:#000000;stroke-linecap:square;stroke-linejoin:miter;stroke-width:0.8;\"/>\n   </g>\n   <g id=\"patch_6\">\n    <path d=\"M 26.925 7.2 \nL 361.725 7.2 \n\" style=\"fill:none;stroke:#000000;stroke-linecap:square;stroke-linejoin:miter;stroke-width:0.8;\"/>\n   </g>\n  </g>\n </g>\n <defs>\n  <clipPath id=\"pdf799aa9b6\">\n   <rect height=\"217.44\" width=\"334.8\" x=\"26.925\" y=\"7.2\"/>\n  </clipPath>\n </defs>\n</svg>\n",
      "image/png": "[encoded data removed]"
     },
     "metadata": {
      "needs_background": "light"
     }
    }
   ],
   "source": [
    "import numpy as np\n",
    "import pandas as pd\n",
    "import matplotlib.pyplot as plt\n",
    "\n",
    "X = 2 * np.random.rand(100, 1) \n",
    "y = 4 + 3 * X + np.random.randn(100, 1)\n",
    "\n",
    "plt.scatter(X, y)"
   ]
  },
  {
   "cell_type": "code",
   "execution_count": 4,
   "metadata": {
    "tags": []
   },
   "outputs": [
    {
     "output_type": "stream",
     "name": "stdout",
     "text": "intercept:[3.97904652], slope: [[2.94411809]]\n"
    }
   ],
   "source": [
    "from sklearn.linear_model import LinearRegression\n",
    "\n",
    "lm = LinearRegression()\n",
    "lm.fit(X, y)\n",
    "\n",
    "print(\"intercept:{}, slope: {}\".format(lm.intercept_, lm.coef_))"
   ]
  },
  {
   "cell_type": "markdown",
   "metadata": {},
   "source": [
    "## Simple Gradient Descent"
   ]
  },
  {
   "cell_type": "code",
   "execution_count": 3,
   "metadata": {
    "tags": []
   },
   "outputs": [
    {
     "output_type": "stream",
     "name": "stdout",
     "text": "Initial Theta: [[1.9555190693950832], [1.3430333529066216]]\nInteraction 0\n\tMSE: 5.208561066763562\n\tgradients: [[-7.361064172352111], [-8.687012834476901]]\n\tnew theta: [[2.6916254866302944], [2.211734636354312]]\nInteraction 1\n\tMSE: 2.185396531092635\n\tgradients: [[-4.09076780257176], [-4.722568514867793]]\n\tnew theta: [[3.1007022668874704], [2.683991487841091]]\nInteraction 2\n\tMSE: 1.2739770745438113\n\tgradients: [[-2.2951122108349358], [-2.5489275482124687]]\n\tnew theta: [[3.330213487970964], [2.9388842426623376]]\nInteraction 3\n\tMSE: 0.9982164451183719\n\tgradients: [[-1.3084993593446104], [-1.3576943642599195]]\n\tnew theta: [[3.461063423905425], [3.0746536790883296]]\nInteraction 4\n\tMSE: 0.913853789705552\n\tgradients: [[-0.7657767781883194], [-0.7053793769130257]]\n\tnew theta: [[3.5376411017242573], [3.1451916167796323]]\nInteraction 5\n\tMSE: 0.8871756082479834\n\tgradients: [[-0.46661829490006], [-0.34868259890696324]]\n\tnew theta: [[3.584302931214263], [3.1800598766703287]]\nInteraction 6\n\tMSE: 0.877933690848376\n\tgradients: [[-0.30112248053247764], [-0.15412923668042564]]\n\tnew theta: [[3.6144151792675108], [3.195472800338371]]\nInteraction 7\n\tMSE: 0.8740102160290832\n\tgradients: [[-0.20899550562624328], [-0.04849523164516006]]\n\tnew theta: [[3.635314729830135], [3.200322323502887]]\nInteraction 8\n\tMSE: 0.8717539809166103\n\tgradients: [[-0.15715860678805355], [0.008389587054409604]]\n\tnew theta: [[3.6510305905089404], [3.199483364797446]]\nInteraction 9\n\tMSE: 0.8700622090725281\n\tgradients: [[-0.12746340621589858], [0.03856185668134381]]\n\tnew theta: [[3.6637769311305304], [3.1956271791293114]]\n"
    },
    {
     "output_type": "execute_result",
     "data": {
      "text/plain": "array([[3.66377693],\n       [3.19562718]])"
     },
     "metadata": {},
     "execution_count": 3
    }
   ],
   "source": [
    "X_b = np.c_[np.ones((100, 1)), X]\n",
    "\n",
    "n_iterations = 10\n",
    "eta = 0.1 # learning rate\n",
    "theta = np.random.randn(2,1) # random initialization\n",
    "\n",
    "print(\"Initial Theta: {}\".format(theta.tolist()))\n",
    "for iteration in range(n_iterations): \n",
    "    \n",
    "    gradients = 2/len(X) * X_b.T.dot(X_b.dot(theta) - y) \n",
    "    theta = theta - eta * gradients\n",
    "\n",
    "    print(\"Interaction {}\".format(iteration))\n",
    "    print(\"\\tMSE: {}\".format(np.mean((X_b.dot(theta) - y)**2)))\n",
    "    print(\"\\tgradients: {}\".format(gradients.tolist()))\n",
    "    print(\"\\tnew theta: {}\".format(theta.tolist()))\n",
    "theta"
   ]
  },
  {
   "cell_type": "markdown",
   "metadata": {},
   "source": [
    "# Regularization on Gradient Descent"
   ]
  },
  {
   "cell_type": "markdown",
   "metadata": {},
   "source": [
    "## Using L1 Regularization (Lasso)"
   ]
  },
  {
   "cell_type": "code",
   "execution_count": null,
   "metadata": {},
   "outputs": [],
   "source": [
    "X_b = np.c_[np.ones((100, 1)), X]\n",
    "\n",
    "n_iterations = 10\n",
    "eta = 0.1 # learning rate\n",
    "theta = np.random.randn(2,1) # random initialization\n",
    "\n",
    "print(\"Initial Theta: {}\".format(theta.tolist()))\n",
    "for iteration in range(n_iterations): \n",
    "    \n",
    "    gradients = 2/len(X) * X_b.T.dot(X_b.dot(theta) - y) \n",
    "    theta = theta - eta * gradients\n",
    "\n",
    "    print(\"Interaction {}\".format(iteration))\n",
    "    print(\"\\tMSE: {}\".format(np.mean((X_b.dot(theta) - y)**2)))\n",
    "    print(\"\\tgradients: {}\".format(gradients.tolist()))\n",
    "    print(\"\\tnew theta: {}\".format(theta.tolist()))\n",
    "theta"
   ]
  },
  {
   "cell_type": "markdown",
   "metadata": {},
   "source": [
    "## Using L2 Regularization (Ridge)"
   ]
  },
  {
   "cell_type": "code",
   "execution_count": null,
   "metadata": {},
   "outputs": [],
   "source": [
    "X_b = np.c_[np.ones((100, 1)), X]\n",
    "\n",
    "n_iterations = 10\n",
    "eta = 0.1 # learning rate\n",
    "theta = np.random.randn(2,1) # random initialization\n",
    "\n",
    "print(\"Initial Theta: {}\".format(theta.tolist()))\n",
    "for iteration in range(n_iterations): \n",
    "    \n",
    "    gradients = 2/len(X) * X_b.T.dot(X_b.dot(theta) - y) \n",
    "    theta = theta - eta * gradients\n",
    "\n",
    "    print(\"Interaction {}\".format(iteration))\n",
    "    print(\"\\tMSE: {}\".format(np.mean((X_b.dot(theta) - y)**2)))\n",
    "    print(\"\\tgradients: {}\".format(gradients.tolist()))\n",
    "    print(\"\\tnew theta: {}\".format(theta.tolist()))\n",
    "theta"
   ]
  },
  {
   "cell_type": "markdown",
   "metadata": {},
   "source": [
    "## Using Elastic-Net Regularization"
   ]
  },
  {
   "cell_type": "code",
   "execution_count": null,
   "metadata": {},
   "outputs": [],
   "source": [
    "X_b = np.c_[np.ones((100, 1)), X]\n",
    "\n",
    "n_iterations = 10\n",
    "eta = 0.1 # learning rate\n",
    "theta = np.random.randn(2,1) # random initialization\n",
    "\n",
    "print(\"Initial Theta: {}\".format(theta.tolist()))\n",
    "for iteration in range(n_iterations): \n",
    "    \n",
    "    gradients = 2/len(X) * X_b.T.dot(X_b.dot(theta) - y) \n",
    "    theta = theta - eta * gradients\n",
    "\n",
    "    print(\"Interaction {}\".format(iteration))\n",
    "    print(\"\\tMSE: {}\".format(np.mean((X_b.dot(theta) - y)**2)))\n",
    "    print(\"\\tgradients: {}\".format(gradients.tolist()))\n",
    "    print(\"\\tnew theta: {}\".format(theta.tolist()))\n",
    "theta"
   ]
  },
  {
   "cell_type": "code",
   "execution_count": null,
   "metadata": {},
   "outputs": [],
   "source": []
  }
 ]
}