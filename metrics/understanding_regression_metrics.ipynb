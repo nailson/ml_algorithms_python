{
 "metadata": {
  "language_info": {
   "codemirror_mode": {
    "name": "ipython",
    "version": 3
   },
   "file_extension": ".py",
   "mimetype": "text/x-python",
   "name": "python",
   "nbconvert_exporter": "python",
   "pygments_lexer": "ipython3",
   "version": "3.7.6-final"
  },
  "orig_nbformat": 2,
  "kernelspec": {
   "name": "python3",
   "display_name": "Python 3"
  }
 },
 "nbformat": 4,
 "nbformat_minor": 2,
 "cells": [
  {
   "cell_type": "markdown",
   "metadata": {},
   "source": [
    "# Regression Metrics From Scratch"
   ]
  },
  {
   "cell_type": "code",
   "execution_count": 1,
   "metadata": {},
   "outputs": [
    {
     "output_type": "execute_result",
     "data": {
      "text/plain": "[<matplotlib.lines.Line2D at 0x7fed6fd92550>]"
     },
     "metadata": {},
     "execution_count": 1
    },
    {
     "output_type": "display_data",
     "data": {
      "text/plain": "<Figure size 432x288 with 1 Axes>",
      "image/svg+xml": "<?xml version=\"1.0\" encoding=\"utf-8\" standalone=\"no\"?>\n<!DOCTYPE svg PUBLIC \"-//W3C//DTD SVG 1.1//EN\"\n  \"http://www.w3.org/Graphics/SVG/1.1/DTD/svg11.dtd\">\n<!-- Created with matplotlib (https://matplotlib.org/) -->\n<svg height=\"248.518125pt\" version=\"1.1\" viewBox=\"0 0 368.925 248.518125\" width=\"368.925pt\" xmlns=\"http://www.w3.org/2000/svg\" xmlns:xlink=\"http://www.w3.org/1999/xlink\">\n <defs>\n  <style type=\"text/css\">\n*{stroke-linecap:butt;stroke-linejoin:round;}\n  </style>\n </defs>\n <g id=\"figure_1\">\n  <g id=\"patch_1\">\n   <path d=\"M -0 248.518125 \nL 368.925 248.518125 \nL 368.925 0 \nL -0 0 \nz\n\" style=\"fill:none;\"/>\n  </g>\n  <g id=\"axes_1\">\n   <g id=\"patch_2\">\n    <path d=\"M 26.925 224.64 \nL 361.725 224.64 \nL 361.725 7.2 \nL 26.925 7.2 \nz\n\" style=\"fill:#ffffff;\"/>\n   </g>\n   <g id=\"PathCollection_1\">\n    <defs>\n     <path d=\"M 0 3 \nC 0.795609 3 1.55874 2.683901 2.12132 2.12132 \nC 2.683901 1.55874 3 0.795609 3 0 \nC 3 -0.795609 2.683901 -1.55874 2.12132 -2.12132 \nC 1.55874 -2.683901 0.795609 -3 0 -3 \nC -0.795609 -3 -1.55874 -2.683901 -2.12132 -2.12132 \nC -2.683901 -1.55874 -3 -0.795609 -3 0 \nC -3 0.795609 -2.683901 1.55874 -2.12132 2.12132 \nC -1.55874 2.683901 -0.795609 3 0 3 \nz\n\" id=\"ma09f338c19\" style=\"stroke:#1f77b4;\"/>\n    </defs>\n    <g clip-path=\"url(#pf17a822240)\">\n     <use style=\"fill:#1f77b4;stroke:#1f77b4;\" x=\"299.406046\" xlink:href=\"#ma09f338c19\" y=\"99.909904\"/>\n     <use style=\"fill:#1f77b4;stroke:#1f77b4;\" x=\"249.16426\" xlink:href=\"#ma09f338c19\" y=\"126.696116\"/>\n     <use style=\"fill:#1f77b4;stroke:#1f77b4;\" x=\"239.165351\" xlink:href=\"#ma09f338c19\" y=\"126.063041\"/>\n     <use style=\"fill:#1f77b4;stroke:#1f77b4;\" x=\"235.756568\" xlink:href=\"#ma09f338c19\" y=\"116.737649\"/>\n     <use style=\"fill:#1f77b4;stroke:#1f77b4;\" x=\"48.924372\" xlink:href=\"#ma09f338c19\" y=\"151.04713\"/>\n     <use style=\"fill:#1f77b4;stroke:#1f77b4;\" x=\"171.561778\" xlink:href=\"#ma09f338c19\" y=\"124.459864\"/>\n     <use style=\"fill:#1f77b4;stroke:#1f77b4;\" x=\"339.007872\" xlink:href=\"#ma09f338c19\" y=\"84.403216\"/>\n     <use style=\"fill:#1f77b4;stroke:#1f77b4;\" x=\"43.515409\" xlink:href=\"#ma09f338c19\" y=\"183.406447\"/>\n     <use style=\"fill:#1f77b4;stroke:#1f77b4;\" x=\"282.329957\" xlink:href=\"#ma09f338c19\" y=\"140.936728\"/>\n     <use style=\"fill:#1f77b4;stroke:#1f77b4;\" x=\"207.047024\" xlink:href=\"#ma09f338c19\" y=\"140.878281\"/>\n     <use style=\"fill:#1f77b4;stroke:#1f77b4;\" x=\"221.374063\" xlink:href=\"#ma09f338c19\" y=\"117.22377\"/>\n     <use style=\"fill:#1f77b4;stroke:#1f77b4;\" x=\"79.255877\" xlink:href=\"#ma09f338c19\" y=\"174.30238\"/>\n     <use style=\"fill:#1f77b4;stroke:#1f77b4;\" x=\"248.876104\" xlink:href=\"#ma09f338c19\" y=\"81.428981\"/>\n     <use style=\"fill:#1f77b4;stroke:#1f77b4;\" x=\"100.049994\" xlink:href=\"#ma09f338c19\" y=\"158.663435\"/>\n     <use style=\"fill:#1f77b4;stroke:#1f77b4;\" x=\"185.803461\" xlink:href=\"#ma09f338c19\" y=\"142.461269\"/>\n     <use style=\"fill:#1f77b4;stroke:#1f77b4;\" x=\"125.102737\" xlink:href=\"#ma09f338c19\" y=\"127.376452\"/>\n     <use style=\"fill:#1f77b4;stroke:#1f77b4;\" x=\"99.766275\" xlink:href=\"#ma09f338c19\" y=\"134.630685\"/>\n     <use style=\"fill:#1f77b4;stroke:#1f77b4;\" x=\"231.175696\" xlink:href=\"#ma09f338c19\" y=\"89.00968\"/>\n     <use style=\"fill:#1f77b4;stroke:#1f77b4;\" x=\"316.84794\" xlink:href=\"#ma09f338c19\" y=\"73.950943\"/>\n     <use style=\"fill:#1f77b4;stroke:#1f77b4;\" x=\"308.681923\" xlink:href=\"#ma09f338c19\" y=\"33.282595\"/>\n     <use style=\"fill:#1f77b4;stroke:#1f77b4;\" x=\"146.256349\" xlink:href=\"#ma09f338c19\" y=\"151.279759\"/>\n     <use style=\"fill:#1f77b4;stroke:#1f77b4;\" x=\"237.533821\" xlink:href=\"#ma09f338c19\" y=\"110.062134\"/>\n     <use style=\"fill:#1f77b4;stroke:#1f77b4;\" x=\"342.169983\" xlink:href=\"#ma09f338c19\" y=\"78.873109\"/>\n     <use style=\"fill:#1f77b4;stroke:#1f77b4;\" x=\"99.084571\" xlink:href=\"#ma09f338c19\" y=\"172.563563\"/>\n     <use style=\"fill:#1f77b4;stroke:#1f77b4;\" x=\"251.405065\" xlink:href=\"#ma09f338c19\" y=\"71.605757\"/>\n     <use style=\"fill:#1f77b4;stroke:#1f77b4;\" x=\"332.713719\" xlink:href=\"#ma09f338c19\" y=\"89.896163\"/>\n     <use style=\"fill:#1f77b4;stroke:#1f77b4;\" x=\"210.448301\" xlink:href=\"#ma09f338c19\" y=\"114.651614\"/>\n     <use style=\"fill:#1f77b4;stroke:#1f77b4;\" x=\"269.345927\" xlink:href=\"#ma09f338c19\" y=\"100.210563\"/>\n     <use style=\"fill:#1f77b4;stroke:#1f77b4;\" x=\"241.325141\" xlink:href=\"#ma09f338c19\" y=\"107.703405\"/>\n     <use style=\"fill:#1f77b4;stroke:#1f77b4;\" x=\"232.472868\" xlink:href=\"#ma09f338c19\" y=\"97.783177\"/>\n     <use style=\"fill:#1f77b4;stroke:#1f77b4;\" x=\"166.553765\" xlink:href=\"#ma09f338c19\" y=\"137.324887\"/>\n     <use style=\"fill:#1f77b4;stroke:#1f77b4;\" x=\"136.165168\" xlink:href=\"#ma09f338c19\" y=\"165.862918\"/>\n     <use style=\"fill:#1f77b4;stroke:#1f77b4;\" x=\"57.675952\" xlink:href=\"#ma09f338c19\" y=\"200.405757\"/>\n     <use style=\"fill:#1f77b4;stroke:#1f77b4;\" x=\"300.134194\" xlink:href=\"#ma09f338c19\" y=\"91.858717\"/>\n     <use style=\"fill:#1f77b4;stroke:#1f77b4;\" x=\"339.765792\" xlink:href=\"#ma09f338c19\" y=\"77.266975\"/>\n     <use style=\"fill:#1f77b4;stroke:#1f77b4;\" x=\"145.778355\" xlink:href=\"#ma09f338c19\" y=\"175.153175\"/>\n     <use style=\"fill:#1f77b4;stroke:#1f77b4;\" x=\"201.837968\" xlink:href=\"#ma09f338c19\" y=\"123.498628\"/>\n     <use style=\"fill:#1f77b4;stroke:#1f77b4;\" x=\"212.401554\" xlink:href=\"#ma09f338c19\" y=\"152.942817\"/>\n     <use style=\"fill:#1f77b4;stroke:#1f77b4;\" x=\"252.138348\" xlink:href=\"#ma09f338c19\" y=\"112.875106\"/>\n     <use style=\"fill:#1f77b4;stroke:#1f77b4;\" x=\"339.026095\" xlink:href=\"#ma09f338c19\" y=\"76.022206\"/>\n     <use style=\"fill:#1f77b4;stroke:#1f77b4;\" x=\"149.648836\" xlink:href=\"#ma09f338c19\" y=\"133.505202\"/>\n     <use style=\"fill:#1f77b4;stroke:#1f77b4;\" x=\"158.558668\" xlink:href=\"#ma09f338c19\" y=\"167.016445\"/>\n     <use style=\"fill:#1f77b4;stroke:#1f77b4;\" x=\"52.813743\" xlink:href=\"#ma09f338c19\" y=\"204.490317\"/>\n     <use style=\"fill:#1f77b4;stroke:#1f77b4;\" x=\"53.061761\" xlink:href=\"#ma09f338c19\" y=\"214.443079\"/>\n     <use style=\"fill:#1f77b4;stroke:#1f77b4;\" x=\"156.71059\" xlink:href=\"#ma09f338c19\" y=\"178.079726\"/>\n     <use style=\"fill:#1f77b4;stroke:#1f77b4;\" x=\"301.063586\" xlink:href=\"#ma09f338c19\" y=\"95.226684\"/>\n     <use style=\"fill:#1f77b4;stroke:#1f77b4;\" x=\"274.133803\" xlink:href=\"#ma09f338c19\" y=\"117.138154\"/>\n     <use style=\"fill:#1f77b4;stroke:#1f77b4;\" x=\"252.016523\" xlink:href=\"#ma09f338c19\" y=\"90.631153\"/>\n     <use style=\"fill:#1f77b4;stroke:#1f77b4;\" x=\"209.4587\" xlink:href=\"#ma09f338c19\" y=\"106.297214\"/>\n     <use style=\"fill:#1f77b4;stroke:#1f77b4;\" x=\"290.629424\" xlink:href=\"#ma09f338c19\" y=\"92.842242\"/>\n     <use style=\"fill:#1f77b4;stroke:#1f77b4;\" x=\"163.510016\" xlink:href=\"#ma09f338c19\" y=\"145.546954\"/>\n     <use style=\"fill:#1f77b4;stroke:#1f77b4;\" x=\"199.661388\" xlink:href=\"#ma09f338c19\" y=\"168.942119\"/>\n     <use style=\"fill:#1f77b4;stroke:#1f77b4;\" x=\"195.76812\" xlink:href=\"#ma09f338c19\" y=\"117.212895\"/>\n     <use style=\"fill:#1f77b4;stroke:#1f77b4;\" x=\"225.768044\" xlink:href=\"#ma09f338c19\" y=\"131.987358\"/>\n     <use style=\"fill:#1f77b4;stroke:#1f77b4;\" x=\"319.594288\" xlink:href=\"#ma09f338c19\" y=\"76.573633\"/>\n     <use style=\"fill:#1f77b4;stroke:#1f77b4;\" x=\"235.708498\" xlink:href=\"#ma09f338c19\" y=\"112.568004\"/>\n     <use style=\"fill:#1f77b4;stroke:#1f77b4;\" x=\"281.931963\" xlink:href=\"#ma09f338c19\" y=\"119.853687\"/>\n     <use style=\"fill:#1f77b4;stroke:#1f77b4;\" x=\"127.101733\" xlink:href=\"#ma09f338c19\" y=\"151.770575\"/>\n     <use style=\"fill:#1f77b4;stroke:#1f77b4;\" x=\"323.076475\" xlink:href=\"#ma09f338c19\" y=\"89.51706\"/>\n     <use style=\"fill:#1f77b4;stroke:#1f77b4;\" x=\"137.17806\" xlink:href=\"#ma09f338c19\" y=\"164.392245\"/>\n     <use style=\"fill:#1f77b4;stroke:#1f77b4;\" x=\"313.688618\" xlink:href=\"#ma09f338c19\" y=\"66.165024\"/>\n     <use style=\"fill:#1f77b4;stroke:#1f77b4;\" x=\"265.301036\" xlink:href=\"#ma09f338c19\" y=\"79.743775\"/>\n     <use style=\"fill:#1f77b4;stroke:#1f77b4;\" x=\"294.468842\" xlink:href=\"#ma09f338c19\" y=\"51.997803\"/>\n     <use style=\"fill:#1f77b4;stroke:#1f77b4;\" x=\"148.963127\" xlink:href=\"#ma09f338c19\" y=\"139.780242\"/>\n     <use style=\"fill:#1f77b4;stroke:#1f77b4;\" x=\"212.425477\" xlink:href=\"#ma09f338c19\" y=\"146.597754\"/>\n     <use style=\"fill:#1f77b4;stroke:#1f77b4;\" x=\"321.389725\" xlink:href=\"#ma09f338c19\" y=\"69.142725\"/>\n     <use style=\"fill:#1f77b4;stroke:#1f77b4;\" x=\"162.899234\" xlink:href=\"#ma09f338c19\" y=\"113.900529\"/>\n     <use style=\"fill:#1f77b4;stroke:#1f77b4;\" x=\"87.51642\" xlink:href=\"#ma09f338c19\" y=\"189.300744\"/>\n     <use style=\"fill:#1f77b4;stroke:#1f77b4;\" x=\"188.322795\" xlink:href=\"#ma09f338c19\" y=\"147.799162\"/>\n     <use style=\"fill:#1f77b4;stroke:#1f77b4;\" x=\"146.478865\" xlink:href=\"#ma09f338c19\" y=\"140.097008\"/>\n     <use style=\"fill:#1f77b4;stroke:#1f77b4;\" x=\"105.605969\" xlink:href=\"#ma09f338c19\" y=\"172.413052\"/>\n     <use style=\"fill:#1f77b4;stroke:#1f77b4;\" x=\"301.273832\" xlink:href=\"#ma09f338c19\" y=\"71.472835\"/>\n     <use style=\"fill:#1f77b4;stroke:#1f77b4;\" x=\"299.762864\" xlink:href=\"#ma09f338c19\" y=\"49.965789\"/>\n     <use style=\"fill:#1f77b4;stroke:#1f77b4;\" x=\"293.498568\" xlink:href=\"#ma09f338c19\" y=\"85.247381\"/>\n     <use style=\"fill:#1f77b4;stroke:#1f77b4;\" x=\"338.168195\" xlink:href=\"#ma09f338c19\" y=\"17.396921\"/>\n     <use style=\"fill:#1f77b4;stroke:#1f77b4;\" x=\"129.176972\" xlink:href=\"#ma09f338c19\" y=\"135.265585\"/>\n     <use style=\"fill:#1f77b4;stroke:#1f77b4;\" x=\"60.74857\" xlink:href=\"#ma09f338c19\" y=\"184.620608\"/>\n     <use style=\"fill:#1f77b4;stroke:#1f77b4;\" x=\"154.65945\" xlink:href=\"#ma09f338c19\" y=\"157.377796\"/>\n     <use style=\"fill:#1f77b4;stroke:#1f77b4;\" x=\"161.600617\" xlink:href=\"#ma09f338c19\" y=\"143.238735\"/>\n     <use style=\"fill:#1f77b4;stroke:#1f77b4;\" x=\"49.465574\" xlink:href=\"#ma09f338c19\" y=\"202.780543\"/>\n     <use style=\"fill:#1f77b4;stroke:#1f77b4;\" x=\"239.735642\" xlink:href=\"#ma09f338c19\" y=\"98.023314\"/>\n     <use style=\"fill:#1f77b4;stroke:#1f77b4;\" x=\"89.736781\" xlink:href=\"#ma09f338c19\" y=\"164.279598\"/>\n     <use style=\"fill:#1f77b4;stroke:#1f77b4;\" x=\"136.394381\" xlink:href=\"#ma09f338c19\" y=\"171.939926\"/>\n     <use style=\"fill:#1f77b4;stroke:#1f77b4;\" x=\"195.210258\" xlink:href=\"#ma09f338c19\" y=\"138.584052\"/>\n     <use style=\"fill:#1f77b4;stroke:#1f77b4;\" x=\"295.999312\" xlink:href=\"#ma09f338c19\" y=\"110.243925\"/>\n     <use style=\"fill:#1f77b4;stroke:#1f77b4;\" x=\"185.796907\" xlink:href=\"#ma09f338c19\" y=\"132.788418\"/>\n     <use style=\"fill:#1f77b4;stroke:#1f77b4;\" x=\"51.423425\" xlink:href=\"#ma09f338c19\" y=\"206.760699\"/>\n     <use style=\"fill:#1f77b4;stroke:#1f77b4;\" x=\"160.789039\" xlink:href=\"#ma09f338c19\" y=\"154.708351\"/>\n     <use style=\"fill:#1f77b4;stroke:#1f77b4;\" x=\"96.250631\" xlink:href=\"#ma09f338c19\" y=\"169.079666\"/>\n     <use style=\"fill:#1f77b4;stroke:#1f77b4;\" x=\"272.773698\" xlink:href=\"#ma09f338c19\" y=\"86.907381\"/>\n     <use style=\"fill:#1f77b4;stroke:#1f77b4;\" x=\"326.830671\" xlink:href=\"#ma09f338c19\" y=\"52.067022\"/>\n     <use style=\"fill:#1f77b4;stroke:#1f77b4;\" x=\"110.423127\" xlink:href=\"#ma09f338c19\" y=\"157.549679\"/>\n     <use style=\"fill:#1f77b4;stroke:#1f77b4;\" x=\"345.134591\" xlink:href=\"#ma09f338c19\" y=\"65.842513\"/>\n     <use style=\"fill:#1f77b4;stroke:#1f77b4;\" x=\"294.724619\" xlink:href=\"#ma09f338c19\" y=\"72.597746\"/>\n     <use style=\"fill:#1f77b4;stroke:#1f77b4;\" x=\"299.026853\" xlink:href=\"#ma09f338c19\" y=\"97.634378\"/>\n     <use style=\"fill:#1f77b4;stroke:#1f77b4;\" x=\"253.399084\" xlink:href=\"#ma09f338c19\" y=\"101.67983\"/>\n     <use style=\"fill:#1f77b4;stroke:#1f77b4;\" x=\"156.80961\" xlink:href=\"#ma09f338c19\" y=\"197.737824\"/>\n     <use style=\"fill:#1f77b4;stroke:#1f77b4;\" x=\"132.37542\" xlink:href=\"#ma09f338c19\" y=\"145.325405\"/>\n     <use style=\"fill:#1f77b4;stroke:#1f77b4;\" x=\"189.63907\" xlink:href=\"#ma09f338c19\" y=\"108.570581\"/>\n     <use style=\"fill:#1f77b4;stroke:#1f77b4;\" x=\"135.772924\" xlink:href=\"#ma09f338c19\" y=\"166.870738\"/>\n    </g>\n   </g>\n   <g id=\"matplotlib.axis_1\">\n    <g id=\"xtick_1\">\n     <g id=\"line2d_1\">\n      <defs>\n       <path d=\"M 0 0 \nL 0 3.5 \n\" id=\"mec2ddded30\" style=\"stroke:#000000;stroke-width:0.8;\"/>\n      </defs>\n      <g>\n       <use style=\"stroke:#000000;stroke-width:0.8;\" x=\"43.333767\" xlink:href=\"#mec2ddded30\" y=\"224.64\"/>\n      </g>\n     </g>\n     <g id=\"text_1\">\n      <!-- 0.00 -->\n      <defs>\n       <path d=\"M 31.78125 66.40625 \nQ 24.171875 66.40625 20.328125 58.90625 \nQ 16.5 51.421875 16.5 36.375 \nQ 16.5 21.390625 20.328125 13.890625 \nQ 24.171875 6.390625 31.78125 6.390625 \nQ 39.453125 6.390625 43.28125 13.890625 \nQ 47.125 21.390625 47.125 36.375 \nQ 47.125 51.421875 43.28125 58.90625 \nQ 39.453125 66.40625 31.78125 66.40625 \nz\nM 31.78125 74.21875 \nQ 44.046875 74.21875 50.515625 64.515625 \nQ 56.984375 54.828125 56.984375 36.375 \nQ 56.984375 17.96875 50.515625 8.265625 \nQ 44.046875 -1.421875 31.78125 -1.421875 \nQ 19.53125 -1.421875 13.0625 8.265625 \nQ 6.59375 17.96875 6.59375 36.375 \nQ 6.59375 54.828125 13.0625 64.515625 \nQ 19.53125 74.21875 31.78125 74.21875 \nz\n\" id=\"DejaVuSans-48\"/>\n       <path d=\"M 10.6875 12.40625 \nL 21 12.40625 \nL 21 0 \nL 10.6875 0 \nz\n\" id=\"DejaVuSans-46\"/>\n      </defs>\n      <g transform=\"translate(32.200954 239.238437)scale(0.1 -0.1)\">\n       <use xlink:href=\"#DejaVuSans-48\"/>\n       <use x=\"63.623047\" xlink:href=\"#DejaVuSans-46\"/>\n       <use x=\"95.410156\" xlink:href=\"#DejaVuSans-48\"/>\n       <use x=\"159.033203\" xlink:href=\"#DejaVuSans-48\"/>\n      </g>\n     </g>\n    </g>\n    <g id=\"xtick_2\">\n     <g id=\"line2d_2\">\n      <g>\n       <use style=\"stroke:#000000;stroke-width:0.8;\" x=\"81.618908\" xlink:href=\"#mec2ddded30\" y=\"224.64\"/>\n      </g>\n     </g>\n     <g id=\"text_2\">\n      <!-- 0.25 -->\n      <defs>\n       <path d=\"M 19.1875 8.296875 \nL 53.609375 8.296875 \nL 53.609375 0 \nL 7.328125 0 \nL 7.328125 8.296875 \nQ 12.9375 14.109375 22.625 23.890625 \nQ 32.328125 33.6875 34.8125 36.53125 \nQ 39.546875 41.84375 41.421875 45.53125 \nQ 43.3125 49.21875 43.3125 52.78125 \nQ 43.3125 58.59375 39.234375 62.25 \nQ 35.15625 65.921875 28.609375 65.921875 \nQ 23.96875 65.921875 18.8125 64.3125 \nQ 13.671875 62.703125 7.8125 59.421875 \nL 7.8125 69.390625 \nQ 13.765625 71.78125 18.9375 73 \nQ 24.125 74.21875 28.421875 74.21875 \nQ 39.75 74.21875 46.484375 68.546875 \nQ 53.21875 62.890625 53.21875 53.421875 \nQ 53.21875 48.921875 51.53125 44.890625 \nQ 49.859375 40.875 45.40625 35.40625 \nQ 44.1875 33.984375 37.640625 27.21875 \nQ 31.109375 20.453125 19.1875 8.296875 \nz\n\" id=\"DejaVuSans-50\"/>\n       <path d=\"M 10.796875 72.90625 \nL 49.515625 72.90625 \nL 49.515625 64.59375 \nL 19.828125 64.59375 \nL 19.828125 46.734375 \nQ 21.96875 47.46875 24.109375 47.828125 \nQ 26.265625 48.1875 28.421875 48.1875 \nQ 40.625 48.1875 47.75 41.5 \nQ 54.890625 34.8125 54.890625 23.390625 \nQ 54.890625 11.625 47.5625 5.09375 \nQ 40.234375 -1.421875 26.90625 -1.421875 \nQ 22.3125 -1.421875 17.546875 -0.640625 \nQ 12.796875 0.140625 7.71875 1.703125 \nL 7.71875 11.625 \nQ 12.109375 9.234375 16.796875 8.0625 \nQ 21.484375 6.890625 26.703125 6.890625 \nQ 35.15625 6.890625 40.078125 11.328125 \nQ 45.015625 15.765625 45.015625 23.390625 \nQ 45.015625 31 40.078125 35.4375 \nQ 35.15625 39.890625 26.703125 39.890625 \nQ 22.75 39.890625 18.8125 39.015625 \nQ 14.890625 38.140625 10.796875 36.28125 \nz\n\" id=\"DejaVuSans-53\"/>\n      </defs>\n      <g transform=\"translate(70.486096 239.238437)scale(0.1 -0.1)\">\n       <use xlink:href=\"#DejaVuSans-48\"/>\n       <use x=\"63.623047\" xlink:href=\"#DejaVuSans-46\"/>\n       <use x=\"95.410156\" xlink:href=\"#DejaVuSans-50\"/>\n       <use x=\"159.033203\" xlink:href=\"#DejaVuSans-53\"/>\n      </g>\n     </g>\n    </g>\n    <g id=\"xtick_3\">\n     <g id=\"line2d_3\">\n      <g>\n       <use style=\"stroke:#000000;stroke-width:0.8;\" x=\"119.904049\" xlink:href=\"#mec2ddded30\" y=\"224.64\"/>\n      </g>\n     </g>\n     <g id=\"text_3\">\n      <!-- 0.50 -->\n      <g transform=\"translate(108.771237 239.238437)scale(0.1 -0.1)\">\n       <use xlink:href=\"#DejaVuSans-48\"/>\n       <use x=\"63.623047\" xlink:href=\"#DejaVuSans-46\"/>\n       <use x=\"95.410156\" xlink:href=\"#DejaVuSans-53\"/>\n       <use x=\"159.033203\" xlink:href=\"#DejaVuSans-48\"/>\n      </g>\n     </g>\n    </g>\n    <g id=\"xtick_4\">\n     <g id=\"line2d_4\">\n      <g>\n       <use style=\"stroke:#000000;stroke-width:0.8;\" x=\"158.18919\" xlink:href=\"#mec2ddded30\" y=\"224.64\"/>\n      </g>\n     </g>\n     <g id=\"text_4\">\n      <!-- 0.75 -->\n      <defs>\n       <path d=\"M 8.203125 72.90625 \nL 55.078125 72.90625 \nL 55.078125 68.703125 \nL 28.609375 0 \nL 18.3125 0 \nL 43.21875 64.59375 \nL 8.203125 64.59375 \nz\n\" id=\"DejaVuSans-55\"/>\n      </defs>\n      <g transform=\"translate(147.056378 239.238437)scale(0.1 -0.1)\">\n       <use xlink:href=\"#DejaVuSans-48\"/>\n       <use x=\"63.623047\" xlink:href=\"#DejaVuSans-46\"/>\n       <use x=\"95.410156\" xlink:href=\"#DejaVuSans-55\"/>\n       <use x=\"159.033203\" xlink:href=\"#DejaVuSans-53\"/>\n      </g>\n     </g>\n    </g>\n    <g id=\"xtick_5\">\n     <g id=\"line2d_5\">\n      <g>\n       <use style=\"stroke:#000000;stroke-width:0.8;\" x=\"196.474332\" xlink:href=\"#mec2ddded30\" y=\"224.64\"/>\n      </g>\n     </g>\n     <g id=\"text_5\">\n      <!-- 1.00 -->\n      <defs>\n       <path d=\"M 12.40625 8.296875 \nL 28.515625 8.296875 \nL 28.515625 63.921875 \nL 10.984375 60.40625 \nL 10.984375 69.390625 \nL 28.421875 72.90625 \nL 38.28125 72.90625 \nL 38.28125 8.296875 \nL 54.390625 8.296875 \nL 54.390625 0 \nL 12.40625 0 \nz\n\" id=\"DejaVuSans-49\"/>\n      </defs>\n      <g transform=\"translate(185.341519 239.238437)scale(0.1 -0.1)\">\n       <use xlink:href=\"#DejaVuSans-49\"/>\n       <use x=\"63.623047\" xlink:href=\"#DejaVuSans-46\"/>\n       <use x=\"95.410156\" xlink:href=\"#DejaVuSans-48\"/>\n       <use x=\"159.033203\" xlink:href=\"#DejaVuSans-48\"/>\n      </g>\n     </g>\n    </g>\n    <g id=\"xtick_6\">\n     <g id=\"line2d_6\">\n      <g>\n       <use style=\"stroke:#000000;stroke-width:0.8;\" x=\"234.759473\" xlink:href=\"#mec2ddded30\" y=\"224.64\"/>\n      </g>\n     </g>\n     <g id=\"text_6\">\n      <!-- 1.25 -->\n      <g transform=\"translate(223.62666 239.238437)scale(0.1 -0.1)\">\n       <use xlink:href=\"#DejaVuSans-49\"/>\n       <use x=\"63.623047\" xlink:href=\"#DejaVuSans-46\"/>\n       <use x=\"95.410156\" xlink:href=\"#DejaVuSans-50\"/>\n       <use x=\"159.033203\" xlink:href=\"#DejaVuSans-53\"/>\n      </g>\n     </g>\n    </g>\n    <g id=\"xtick_7\">\n     <g id=\"line2d_7\">\n      <g>\n       <use style=\"stroke:#000000;stroke-width:0.8;\" x=\"273.044614\" xlink:href=\"#mec2ddded30\" y=\"224.64\"/>\n      </g>\n     </g>\n     <g id=\"text_7\">\n      <!-- 1.50 -->\n      <g transform=\"translate(261.911801 239.238437)scale(0.1 -0.1)\">\n       <use xlink:href=\"#DejaVuSans-49\"/>\n       <use x=\"63.623047\" xlink:href=\"#DejaVuSans-46\"/>\n       <use x=\"95.410156\" xlink:href=\"#DejaVuSans-53\"/>\n       <use x=\"159.033203\" xlink:href=\"#DejaVuSans-48\"/>\n      </g>\n     </g>\n    </g>\n    <g id=\"xtick_8\">\n     <g id=\"line2d_8\">\n      <g>\n       <use style=\"stroke:#000000;stroke-width:0.8;\" x=\"311.329755\" xlink:href=\"#mec2ddded30\" y=\"224.64\"/>\n      </g>\n     </g>\n     <g id=\"text_8\">\n      <!-- 1.75 -->\n      <g transform=\"translate(300.196943 239.238437)scale(0.1 -0.1)\">\n       <use xlink:href=\"#DejaVuSans-49\"/>\n       <use x=\"63.623047\" xlink:href=\"#DejaVuSans-46\"/>\n       <use x=\"95.410156\" xlink:href=\"#DejaVuSans-55\"/>\n       <use x=\"159.033203\" xlink:href=\"#DejaVuSans-53\"/>\n      </g>\n     </g>\n    </g>\n    <g id=\"xtick_9\">\n     <g id=\"line2d_9\">\n      <g>\n       <use style=\"stroke:#000000;stroke-width:0.8;\" x=\"349.614896\" xlink:href=\"#mec2ddded30\" y=\"224.64\"/>\n      </g>\n     </g>\n     <g id=\"text_9\">\n      <!-- 2.00 -->\n      <g transform=\"translate(338.482084 239.238437)scale(0.1 -0.1)\">\n       <use xlink:href=\"#DejaVuSans-50\"/>\n       <use x=\"63.623047\" xlink:href=\"#DejaVuSans-46\"/>\n       <use x=\"95.410156\" xlink:href=\"#DejaVuSans-48\"/>\n       <use x=\"159.033203\" xlink:href=\"#DejaVuSans-48\"/>\n      </g>\n     </g>\n    </g>\n   </g>\n   <g id=\"matplotlib.axis_2\">\n    <g id=\"ytick_1\">\n     <g id=\"line2d_10\">\n      <defs>\n       <path d=\"M 0 0 \nL -3.5 0 \n\" id=\"me3a636e803\" style=\"stroke:#000000;stroke-width:0.8;\"/>\n      </defs>\n      <g>\n       <use style=\"stroke:#000000;stroke-width:0.8;\" x=\"26.925\" xlink:href=\"#me3a636e803\" y=\"199.223123\"/>\n      </g>\n     </g>\n     <g id=\"text_10\">\n      <!-- 4 -->\n      <defs>\n       <path d=\"M 37.796875 64.3125 \nL 12.890625 25.390625 \nL 37.796875 25.390625 \nz\nM 35.203125 72.90625 \nL 47.609375 72.90625 \nL 47.609375 25.390625 \nL 58.015625 25.390625 \nL 58.015625 17.1875 \nL 47.609375 17.1875 \nL 47.609375 0 \nL 37.796875 0 \nL 37.796875 17.1875 \nL 4.890625 17.1875 \nL 4.890625 26.703125 \nz\n\" id=\"DejaVuSans-52\"/>\n      </defs>\n      <g transform=\"translate(13.5625 203.022341)scale(0.1 -0.1)\">\n       <use xlink:href=\"#DejaVuSans-52\"/>\n      </g>\n     </g>\n    </g>\n    <g id=\"ytick_2\">\n     <g id=\"line2d_11\">\n      <g>\n       <use style=\"stroke:#000000;stroke-width:0.8;\" x=\"26.925\" xlink:href=\"#me3a636e803\" y=\"153.809316\"/>\n      </g>\n     </g>\n     <g id=\"text_11\">\n      <!-- 6 -->\n      <defs>\n       <path d=\"M 33.015625 40.375 \nQ 26.375 40.375 22.484375 35.828125 \nQ 18.609375 31.296875 18.609375 23.390625 \nQ 18.609375 15.53125 22.484375 10.953125 \nQ 26.375 6.390625 33.015625 6.390625 \nQ 39.65625 6.390625 43.53125 10.953125 \nQ 47.40625 15.53125 47.40625 23.390625 \nQ 47.40625 31.296875 43.53125 35.828125 \nQ 39.65625 40.375 33.015625 40.375 \nz\nM 52.59375 71.296875 \nL 52.59375 62.3125 \nQ 48.875 64.0625 45.09375 64.984375 \nQ 41.3125 65.921875 37.59375 65.921875 \nQ 27.828125 65.921875 22.671875 59.328125 \nQ 17.53125 52.734375 16.796875 39.40625 \nQ 19.671875 43.65625 24.015625 45.921875 \nQ 28.375 48.1875 33.59375 48.1875 \nQ 44.578125 48.1875 50.953125 41.515625 \nQ 57.328125 34.859375 57.328125 23.390625 \nQ 57.328125 12.15625 50.6875 5.359375 \nQ 44.046875 -1.421875 33.015625 -1.421875 \nQ 20.359375 -1.421875 13.671875 8.265625 \nQ 6.984375 17.96875 6.984375 36.375 \nQ 6.984375 53.65625 15.1875 63.9375 \nQ 23.390625 74.21875 37.203125 74.21875 \nQ 40.921875 74.21875 44.703125 73.484375 \nQ 48.484375 72.75 52.59375 71.296875 \nz\n\" id=\"DejaVuSans-54\"/>\n      </defs>\n      <g transform=\"translate(13.5625 157.608535)scale(0.1 -0.1)\">\n       <use xlink:href=\"#DejaVuSans-54\"/>\n      </g>\n     </g>\n    </g>\n    <g id=\"ytick_3\">\n     <g id=\"line2d_12\">\n      <g>\n       <use style=\"stroke:#000000;stroke-width:0.8;\" x=\"26.925\" xlink:href=\"#me3a636e803\" y=\"108.39551\"/>\n      </g>\n     </g>\n     <g id=\"text_12\">\n      <!-- 8 -->\n      <defs>\n       <path d=\"M 31.78125 34.625 \nQ 24.75 34.625 20.71875 30.859375 \nQ 16.703125 27.09375 16.703125 20.515625 \nQ 16.703125 13.921875 20.71875 10.15625 \nQ 24.75 6.390625 31.78125 6.390625 \nQ 38.8125 6.390625 42.859375 10.171875 \nQ 46.921875 13.96875 46.921875 20.515625 \nQ 46.921875 27.09375 42.890625 30.859375 \nQ 38.875 34.625 31.78125 34.625 \nz\nM 21.921875 38.8125 \nQ 15.578125 40.375 12.03125 44.71875 \nQ 8.5 49.078125 8.5 55.328125 \nQ 8.5 64.0625 14.71875 69.140625 \nQ 20.953125 74.21875 31.78125 74.21875 \nQ 42.671875 74.21875 48.875 69.140625 \nQ 55.078125 64.0625 55.078125 55.328125 \nQ 55.078125 49.078125 51.53125 44.71875 \nQ 48 40.375 41.703125 38.8125 \nQ 48.828125 37.15625 52.796875 32.3125 \nQ 56.78125 27.484375 56.78125 20.515625 \nQ 56.78125 9.90625 50.3125 4.234375 \nQ 43.84375 -1.421875 31.78125 -1.421875 \nQ 19.734375 -1.421875 13.25 4.234375 \nQ 6.78125 9.90625 6.78125 20.515625 \nQ 6.78125 27.484375 10.78125 32.3125 \nQ 14.796875 37.15625 21.921875 38.8125 \nz\nM 18.3125 54.390625 \nQ 18.3125 48.734375 21.84375 45.5625 \nQ 25.390625 42.390625 31.78125 42.390625 \nQ 38.140625 42.390625 41.71875 45.5625 \nQ 45.3125 48.734375 45.3125 54.390625 \nQ 45.3125 60.0625 41.71875 63.234375 \nQ 38.140625 66.40625 31.78125 66.40625 \nQ 25.390625 66.40625 21.84375 63.234375 \nQ 18.3125 60.0625 18.3125 54.390625 \nz\n\" id=\"DejaVuSans-56\"/>\n      </defs>\n      <g transform=\"translate(13.5625 112.194729)scale(0.1 -0.1)\">\n       <use xlink:href=\"#DejaVuSans-56\"/>\n      </g>\n     </g>\n    </g>\n    <g id=\"ytick_4\">\n     <g id=\"line2d_13\">\n      <g>\n       <use style=\"stroke:#000000;stroke-width:0.8;\" x=\"26.925\" xlink:href=\"#me3a636e803\" y=\"62.981704\"/>\n      </g>\n     </g>\n     <g id=\"text_13\">\n      <!-- 10 -->\n      <g transform=\"translate(7.2 66.780922)scale(0.1 -0.1)\">\n       <use xlink:href=\"#DejaVuSans-49\"/>\n       <use x=\"63.623047\" xlink:href=\"#DejaVuSans-48\"/>\n      </g>\n     </g>\n    </g>\n    <g id=\"ytick_5\">\n     <g id=\"line2d_14\">\n      <g>\n       <use style=\"stroke:#000000;stroke-width:0.8;\" x=\"26.925\" xlink:href=\"#me3a636e803\" y=\"17.567897\"/>\n      </g>\n     </g>\n     <g id=\"text_14\">\n      <!-- 12 -->\n      <g transform=\"translate(7.2 21.367116)scale(0.1 -0.1)\">\n       <use xlink:href=\"#DejaVuSans-49\"/>\n       <use x=\"63.623047\" xlink:href=\"#DejaVuSans-50\"/>\n      </g>\n     </g>\n    </g>\n   </g>\n   <g id=\"line2d_15\">\n    <path clip-path=\"url(#pf17a822240)\" d=\"M 299.406046 85.315842 \nL 249.16426 107.66463 \nL 239.165351 112.112392 \nL 235.756568 113.628703 \nL 48.924372 196.736283 \nL 171.561778 142.184133 \nL 339.007872 67.69997 \nL 43.515409 199.142324 \nL 282.329957 92.911708 \nL 207.047024 126.399418 \nL 221.374063 120.026397 \nL 79.255877 183.24408 \nL 248.876104 107.792809 \nL 100.049994 173.994342 \nL 185.803461 135.84908 \nL 125.102737 162.850263 \nL 99.766275 174.120548 \nL 231.175696 115.666388 \nL 316.84794 77.557256 \nL 308.681923 81.189702 \nL 146.256349 153.440613 \nL 237.533821 112.838137 \nL 342.169983 66.293385 \nL 99.084571 174.423787 \nL 251.405065 106.667865 \nL 332.713719 70.499765 \nL 210.448301 124.886446 \nL 269.345927 98.687326 \nL 241.325141 111.151664 \nL 232.472868 115.089374 \nL 166.553765 144.411821 \nL 136.165168 157.92942 \nL 57.675952 192.843364 \nL 300.134194 84.991943 \nL 339.765792 67.362829 \nL 145.778355 153.653237 \nL 201.837968 128.716535 \nL 212.401554 124.017591 \nL 252.138348 106.341682 \nL 339.026095 67.691864 \nL 149.648836 151.931551 \nL 158.558668 147.968238 \nL 52.813743 195.006195 \nL 53.061761 194.895871 \nL 156.71059 148.790308 \nL 301.063586 84.578527 \nL 274.133803 96.55756 \nL 252.016523 106.395873 \nL 209.4587 125.326645 \nL 290.629424 89.2199 \nL 163.510016 145.765756 \nL 199.661388 129.684732 \nL 195.76812 131.416553 \nL 225.768044 118.071845 \nL 319.594288 76.335613 \nL 235.708498 113.650086 \nL 281.931963 93.088746 \nL 127.101733 161.96106 \nL 323.076475 74.78665 \nL 137.17806 157.478861 \nL 313.688618 78.9626 \nL 265.301036 100.486593 \nL 294.468842 87.512032 \nL 148.963127 152.236572 \nL 212.425477 124.006949 \nL 321.389725 75.536958 \nL 162.899234 146.037446 \nL 87.51642 179.569586 \nL 188.322795 134.728418 \nL 146.478865 153.341633 \nL 105.605969 171.522907 \nL 301.273832 84.485004 \nL 299.762864 85.15712 \nL 293.498568 87.943634 \nL 338.168195 68.073479 \nL 129.176972 161.037943 \nL 60.74857 191.476588 \nL 154.65945 149.702706 \nL 161.600617 146.615104 \nL 49.465574 196.495543 \nL 239.735642 111.858713 \nL 89.736781 178.581915 \nL 136.394381 157.827461 \nL 195.210258 131.664705 \nL 295.999312 86.831241 \nL 185.796907 135.851996 \nL 51.423425 195.624643 \nL 160.789039 146.976114 \nL 96.250631 175.684393 \nL 272.773698 97.162568 \nL 326.830671 73.11669 \nL 110.423127 169.380116 \nL 345.134591 64.974654 \nL 294.724619 87.398256 \nL 299.026853 85.484516 \nL 253.399084 105.780876 \nL 156.80961 148.746262 \nL 132.37542 159.615194 \nL 189.63907 134.142907 \nL 135.772924 158.1039 \n\" style=\"fill:none;stroke:#ff0000;stroke-linecap:square;stroke-width:1.5;\"/>\n   </g>\n   <g id=\"patch_3\">\n    <path d=\"M 26.925 224.64 \nL 26.925 7.2 \n\" style=\"fill:none;stroke:#000000;stroke-linecap:square;stroke-linejoin:miter;stroke-width:0.8;\"/>\n   </g>\n   <g id=\"patch_4\">\n    <path d=\"M 361.725 224.64 \nL 361.725 7.2 \n\" style=\"fill:none;stroke:#000000;stroke-linecap:square;stroke-linejoin:miter;stroke-width:0.8;\"/>\n   </g>\n   <g id=\"patch_5\">\n    <path d=\"M 26.925 224.64 \nL 361.725 224.64 \n\" style=\"fill:none;stroke:#000000;stroke-linecap:square;stroke-linejoin:miter;stroke-width:0.8;\"/>\n   </g>\n   <g id=\"patch_6\">\n    <path d=\"M 26.925 7.2 \nL 361.725 7.2 \n\" style=\"fill:none;stroke:#000000;stroke-linecap:square;stroke-linejoin:miter;stroke-width:0.8;\"/>\n   </g>\n  </g>\n </g>\n <defs>\n  <clipPath id=\"pf17a822240\">\n   <rect height=\"217.44\" width=\"334.8\" x=\"26.925\" y=\"7.2\"/>\n  </clipPath>\n </defs>\n</svg>\n",
      "image/png": "[encoded data removed]"
     },
     "metadata": {
      "needs_background": "light"
     }
    }
   ],
   "source": [
    "import numpy as np\n",
    "import pandas as pd\n",
    "import matplotlib.pyplot as plt\n",
    "\n",
    "X = 2 * np.random.rand(100) \n",
    "y = 4 + 3 * X + np.random.randn(100)\n",
    "\n",
    "data = pd.DataFrame({'covariate':X, 'response':y})\n",
    "\n",
    "y_pred = 4 + 3*X\n",
    "\n",
    "plt.scatter(X, y)\n",
    "plt.plot(X, y_pred, color='red')"
   ]
  },
  {
   "cell_type": "markdown",
   "metadata": {},
   "source": [
    "## Residual Sum of Squares"
   ]
  },
  {
   "cell_type": "code",
   "execution_count": 2,
   "metadata": {},
   "outputs": [
    {
     "output_type": "execute_result",
     "data": {
      "text/plain": "73.63338733418597"
     },
     "metadata": {},
     "execution_count": 2
    }
   ],
   "source": [
    "# residual sum of squares\n",
    "def RSS(y, y_pred):\n",
    "    square_errors = [ (real - pred)**2 for real, pred in zip(y, y_pred)]\n",
    "    return sum(square_errors)\n",
    "\n",
    "RSS(y, y_pred)"
   ]
  },
  {
   "cell_type": "code",
   "execution_count": 3,
   "metadata": {},
   "outputs": [
    {
     "output_type": "execute_result",
     "data": {
      "text/plain": "0.7363338733418597"
     },
     "metadata": {},
     "execution_count": 3
    }
   ],
   "source": [
    "# mean squared error\n",
    "def MSE(y, y_pred):\n",
    "    square_errors = [ (real - pred)**2 for real, pred in zip(y, y_pred)]\n",
    "    return sum(square_errors)/len(y)\n",
    "\n",
    "MSE(y, y_pred)"
   ]
  },
  {
   "cell_type": "code",
   "execution_count": 9,
   "metadata": {},
   "outputs": [
    {
     "output_type": "execute_result",
     "data": {
      "text/plain": "0.8580989880787995"
     },
     "metadata": {},
     "execution_count": 9
    }
   ],
   "source": [
    "# root mean square error\n",
    "def RMSE(y, y_pred):\n",
    "    return np.sqrt(MSE(y, y_pred))\n",
    "\n",
    "RMSE(y, y_pred)"
   ]
  },
  {
   "cell_type": "code",
   "execution_count": 6,
   "metadata": {},
   "outputs": [
    {
     "output_type": "execute_result",
     "data": {
      "text/plain": "0.08122315234807999"
     },
     "metadata": {},
     "execution_count": 6
    }
   ],
   "source": [
    "# mean error\n",
    "def ME(y, y_pred):\n",
    "    square_errors = [ (real - pred) for real, pred in zip(y, y_pred)]\n",
    "    return sum(square_errors)/len(y)\n",
    "\n",
    "ME(y, y_pred)"
   ]
  },
  {
   "cell_type": "code",
   "execution_count": 7,
   "metadata": {},
   "outputs": [
    {
     "output_type": "execute_result",
     "data": {
      "text/plain": "0.6765761246501034"
     },
     "metadata": {},
     "execution_count": 7
    }
   ],
   "source": [
    "# mean absolute error\n",
    "def MAE(y, y_pred):\n",
    "    square_errors = [ np.abs(real - pred) for real, pred in zip(y, y_pred)]\n",
    "    return sum(square_errors)/len(y)\n",
    "\n",
    "MAE(y, y_pred)"
   ]
  },
  {
   "cell_type": "code",
   "execution_count": 4,
   "metadata": {},
   "outputs": [
    {
     "output_type": "execute_result",
     "data": {
      "text/plain": "341.82331394535953"
     },
     "metadata": {},
     "execution_count": 4
    }
   ],
   "source": [
    "def TSS(y):\n",
    "    square_variablility = [ (real - np.mean(y))**2 for real in y]\n",
    "    return sum(square_variablility)\n",
    "\n",
    "TSS(y)"
   ]
  },
  {
   "cell_type": "code",
   "execution_count": 5,
   "metadata": {},
   "outputs": [
    {
     "output_type": "execute_result",
     "data": {
      "text/plain": "0.7845864096152427"
     },
     "metadata": {},
     "execution_count": 5
    }
   ],
   "source": [
    "def r_squared(y, y_pred):\n",
    "    tss=TSS(y)\n",
    "    rss=RSS(y, y_pred)\n",
    "    return (tss-rss)/tss\n",
    "\n",
    "r_squared(y, y_pred)"
   ]
  },
  {
   "cell_type": "code",
   "execution_count": null,
   "metadata": {},
   "outputs": [],
   "source": []
  }
 ]
}