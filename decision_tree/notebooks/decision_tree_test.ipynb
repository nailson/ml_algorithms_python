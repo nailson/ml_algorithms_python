{
 "cells": [
  {
   "cell_type": "code",
   "execution_count": 1,
   "metadata": {},
   "outputs": [],
   "source": [
    "import pandas as pd\n",
    "import numpy as np\n",
    "import math\n",
    "import sys\n",
    "sys.path.append('..')\n",
    "from decision_tree import ID3"
   ]
  },
  {
   "cell_type": "markdown",
   "metadata": {},
   "source": [
    "# Test IDF with categorical dataset"
   ]
  },
  {
   "cell_type": "code",
   "execution_count": 2,
   "metadata": {},
   "outputs": [
    {
     "output_type": "execute_result",
     "data": {
      "text/plain": "     outlook  temp humidity  windy play\n0   overcast   hot     high  False  yes\n1   overcast  cool   normal   True  yes\n2   overcast  mild     high   True  yes\n3   overcast   hot   normal  False  yes\n4      rainy  mild     high  False  yes\n5      rainy  cool   normal  False  yes\n6      rainy  cool   normal   True   no\n7      rainy  mild   normal  False  yes\n8      rainy  mild     high   True   no\n9      sunny   hot     high  False   no\n10     sunny   hot     high   True   no\n11     sunny  mild     high  False   no\n12     sunny  cool   normal  False  yes\n13     sunny  mild   normal   True  yes",
      "text/html": "<div>\n<style scoped>\n    .dataframe tbody tr th:only-of-type {\n        vertical-align: middle;\n    }\n\n    .dataframe tbody tr th {\n        vertical-align: top;\n    }\n\n    .dataframe thead th {\n        text-align: right;\n    }\n</style>\n<table border=\"1\" class=\"dataframe\">\n  <thead>\n    <tr style=\"text-align: right;\">\n      <th></th>\n      <th>outlook</th>\n      <th>temp</th>\n      <th>humidity</th>\n      <th>windy</th>\n      <th>play</th>\n    </tr>\n  </thead>\n  <tbody>\n    <tr>\n      <th>0</th>\n      <td>overcast</td>\n      <td>hot</td>\n      <td>high</td>\n      <td>False</td>\n      <td>yes</td>\n    </tr>\n    <tr>\n      <th>1</th>\n      <td>overcast</td>\n      <td>cool</td>\n      <td>normal</td>\n      <td>True</td>\n      <td>yes</td>\n    </tr>\n    <tr>\n      <th>2</th>\n      <td>overcast</td>\n      <td>mild</td>\n      <td>high</td>\n      <td>True</td>\n      <td>yes</td>\n    </tr>\n    <tr>\n      <th>3</th>\n      <td>overcast</td>\n      <td>hot</td>\n      <td>normal</td>\n      <td>False</td>\n      <td>yes</td>\n    </tr>\n    <tr>\n      <th>4</th>\n      <td>rainy</td>\n      <td>mild</td>\n      <td>high</td>\n      <td>False</td>\n      <td>yes</td>\n    </tr>\n    <tr>\n      <th>5</th>\n      <td>rainy</td>\n      <td>cool</td>\n      <td>normal</td>\n      <td>False</td>\n      <td>yes</td>\n    </tr>\n    <tr>\n      <th>6</th>\n      <td>rainy</td>\n      <td>cool</td>\n      <td>normal</td>\n      <td>True</td>\n      <td>no</td>\n    </tr>\n    <tr>\n      <th>7</th>\n      <td>rainy</td>\n      <td>mild</td>\n      <td>normal</td>\n      <td>False</td>\n      <td>yes</td>\n    </tr>\n    <tr>\n      <th>8</th>\n      <td>rainy</td>\n      <td>mild</td>\n      <td>high</td>\n      <td>True</td>\n      <td>no</td>\n    </tr>\n    <tr>\n      <th>9</th>\n      <td>sunny</td>\n      <td>hot</td>\n      <td>high</td>\n      <td>False</td>\n      <td>no</td>\n    </tr>\n    <tr>\n      <th>10</th>\n      <td>sunny</td>\n      <td>hot</td>\n      <td>high</td>\n      <td>True</td>\n      <td>no</td>\n    </tr>\n    <tr>\n      <th>11</th>\n      <td>sunny</td>\n      <td>mild</td>\n      <td>high</td>\n      <td>False</td>\n      <td>no</td>\n    </tr>\n    <tr>\n      <th>12</th>\n      <td>sunny</td>\n      <td>cool</td>\n      <td>normal</td>\n      <td>False</td>\n      <td>yes</td>\n    </tr>\n    <tr>\n      <th>13</th>\n      <td>sunny</td>\n      <td>mild</td>\n      <td>normal</td>\n      <td>True</td>\n      <td>yes</td>\n    </tr>\n  </tbody>\n</table>\n</div>"
     },
     "metadata": {},
     "execution_count": 2
    }
   ],
   "source": [
    "go_out_df = pd.read_csv('../../datasets/go-out2.csv')\n",
    "go_out_df"
   ]
  },
  {
   "cell_type": "code",
   "execution_count": 5,
   "metadata": {},
   "outputs": [
    {
     "output_type": "execute_result",
     "data": {
      "text/plain": "{'outlook': {'overcast': 'yes',\n  'rainy': {'windy': {False: 'yes', True: 'no'}},\n  'sunny': {'humidity': {'high': 'no', 'normal': 'yes'}}}}"
     },
     "metadata": {},
     "execution_count": 5
    }
   ],
   "source": [
    "X = go_out_df[['outlook', 'temp', 'humidity', 'windy']]\n",
    "y = go_out_df.play\n",
    "\n",
    "dt_model = ID3()\n",
    "dt_model.fit(X,y)\n",
    "\n",
    "dt_model.tree"
   ]
  }
 ],
 "metadata": {
  "language_info": {
   "codemirror_mode": {
    "name": "ipython",
    "version": 3
   },
   "file_extension": ".py",
   "mimetype": "text/x-python",
   "name": "python",
   "nbconvert_exporter": "python",
   "pygments_lexer": "ipython3",
   "version": "3.7.6-final"
  },
  "orig_nbformat": 2,
  "kernelspec": {
   "name": "python3",
   "display_name": "Python 3"
  }
 },
 "nbformat": 4,
 "nbformat_minor": 2
}