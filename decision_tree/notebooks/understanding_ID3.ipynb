{
 "cells": [
  {
   "cell_type": "code",
   "execution_count": 2,
   "metadata": {},
   "outputs": [],
   "source": [
    "import pandas as pd\n",
    "import numpy as np\n",
    "import math"
   ]
  },
  {
   "cell_type": "markdown",
   "metadata": {},
   "source": [
    "# Understanding Decision Trees"
   ]
  },
  {
   "cell_type": "code",
   "execution_count": 3,
   "metadata": {},
   "outputs": [
    {
     "output_type": "execute_result",
     "data": {
      "text/plain": "     outlook  temp humidity  windy play\n0   overcast   hot     high  False  yes\n1   overcast  cool   normal   True  yes\n2   overcast  mild     high   True  yes\n3   overcast   hot   normal  False  yes\n4      rainy  mild     high  False  yes\n5      rainy  cool   normal  False  yes\n6      rainy  cool   normal   True   no\n7      rainy  mild   normal  False  yes\n8      rainy  mild     high   True   no\n9      sunny   hot     high  False   no\n10     sunny   hot     high   True   no\n11     sunny  mild     high  False   no\n12     sunny  cool   normal  False  yes\n13     sunny  mild   normal   True  yes",
      "text/html": "<div>\n<style scoped>\n    .dataframe tbody tr th:only-of-type {\n        vertical-align: middle;\n    }\n\n    .dataframe tbody tr th {\n        vertical-align: top;\n    }\n\n    .dataframe thead th {\n        text-align: right;\n    }\n</style>\n<table border=\"1\" class=\"dataframe\">\n  <thead>\n    <tr style=\"text-align: right;\">\n      <th></th>\n      <th>outlook</th>\n      <th>temp</th>\n      <th>humidity</th>\n      <th>windy</th>\n      <th>play</th>\n    </tr>\n  </thead>\n  <tbody>\n    <tr>\n      <th>0</th>\n      <td>overcast</td>\n      <td>hot</td>\n      <td>high</td>\n      <td>False</td>\n      <td>yes</td>\n    </tr>\n    <tr>\n      <th>1</th>\n      <td>overcast</td>\n      <td>cool</td>\n      <td>normal</td>\n      <td>True</td>\n      <td>yes</td>\n    </tr>\n    <tr>\n      <th>2</th>\n      <td>overcast</td>\n      <td>mild</td>\n      <td>high</td>\n      <td>True</td>\n      <td>yes</td>\n    </tr>\n    <tr>\n      <th>3</th>\n      <td>overcast</td>\n      <td>hot</td>\n      <td>normal</td>\n      <td>False</td>\n      <td>yes</td>\n    </tr>\n    <tr>\n      <th>4</th>\n      <td>rainy</td>\n      <td>mild</td>\n      <td>high</td>\n      <td>False</td>\n      <td>yes</td>\n    </tr>\n    <tr>\n      <th>5</th>\n      <td>rainy</td>\n      <td>cool</td>\n      <td>normal</td>\n      <td>False</td>\n      <td>yes</td>\n    </tr>\n    <tr>\n      <th>6</th>\n      <td>rainy</td>\n      <td>cool</td>\n      <td>normal</td>\n      <td>True</td>\n      <td>no</td>\n    </tr>\n    <tr>\n      <th>7</th>\n      <td>rainy</td>\n      <td>mild</td>\n      <td>normal</td>\n      <td>False</td>\n      <td>yes</td>\n    </tr>\n    <tr>\n      <th>8</th>\n      <td>rainy</td>\n      <td>mild</td>\n      <td>high</td>\n      <td>True</td>\n      <td>no</td>\n    </tr>\n    <tr>\n      <th>9</th>\n      <td>sunny</td>\n      <td>hot</td>\n      <td>high</td>\n      <td>False</td>\n      <td>no</td>\n    </tr>\n    <tr>\n      <th>10</th>\n      <td>sunny</td>\n      <td>hot</td>\n      <td>high</td>\n      <td>True</td>\n      <td>no</td>\n    </tr>\n    <tr>\n      <th>11</th>\n      <td>sunny</td>\n      <td>mild</td>\n      <td>high</td>\n      <td>False</td>\n      <td>no</td>\n    </tr>\n    <tr>\n      <th>12</th>\n      <td>sunny</td>\n      <td>cool</td>\n      <td>normal</td>\n      <td>False</td>\n      <td>yes</td>\n    </tr>\n    <tr>\n      <th>13</th>\n      <td>sunny</td>\n      <td>mild</td>\n      <td>normal</td>\n      <td>True</td>\n      <td>yes</td>\n    </tr>\n  </tbody>\n</table>\n</div>"
     },
     "metadata": {},
     "execution_count": 3
    }
   ],
   "source": [
    "go_out_df = pd.read_csv('../../datasets/go-out2.csv')\n",
    "go_out_df"
   ]
  },
  {
   "cell_type": "markdown",
   "metadata": {},
   "source": [
    "## ID3\n",
    "\n",
    "### Steps\n",
    "1. Calculate Entropy for each attribute\n",
    "2. Calculated the avg sum of entropy for that feature\n",
    "3. Calculate the Info Gain\n",
    "3. Pick the attribute with highest gain\n",
    "4. Repeat 1, 2, 3, 4 until a generalized tree has been created"
   ]
  },
  {
   "cell_type": "markdown",
   "metadata": {},
   "source": [
    "## 1. Calculate Entropy\n",
    "\n",
    "![Entropy](../images/entropy.png)\n",
    "\n",
    "![Entropy](../images/entropy_2.png)\n",
    "\n",
    "### Example: Calculate Entropy for Weather\n"
   ]
  },
  {
   "cell_type": "markdown",
   "metadata": {},
   "source": [
    "## 2. Calculate the tnformation Gain\t\t\n",
    "The information gain is based on the decrease in entropy after a dataset is split on an attribute. Constructing a decision tree is all about finding attribute that returns the highest information gain (i.e., the most homogeneous branches).\n",
    "\n",
    "![Information Gain](../images/info_gain.png)\n",
    "\n",
    "\n",
    "\n"
   ]
  },
  {
   "cell_type": "code",
   "execution_count": 4,
   "metadata": {},
   "outputs": [
    {
     "output_type": "execute_result",
     "data": {
      "text/plain": "yes    9\nno     5\nName: play, dtype: int64"
     },
     "metadata": {},
     "execution_count": 4
    }
   ],
   "source": [
    "go_out_df.play.value_counts()"
   ]
  },
  {
   "cell_type": "code",
   "execution_count": 5,
   "metadata": {},
   "outputs": [],
   "source": [
    "X = go_out_df[['outlook','temp','humidity','windy']]\n",
    "y = go_out_df.play"
   ]
  },
  {
   "cell_type": "code",
   "execution_count": 6,
   "metadata": {},
   "outputs": [],
   "source": [
    "def count_classes(label_serie):\n",
    "    return label_serie.value_counts().to_dict()\n",
    "def entropy(y):\n",
    "    \"\"\"Calculate the Gini Impurity for a list of rows.\"\"\"\n",
    "    counts = count_classes(y)\n",
    "    entropy = 0\n",
    "    # for each label calculate the entropy\n",
    "    for lbl in counts:\n",
    "        prob_of_lbl = counts[lbl] / float(len(y))\n",
    "        entropy -= prob_of_lbl * math.log2(prob_of_lbl)\n",
    "    return entropy"
   ]
  },
  {
   "cell_type": "code",
   "execution_count": 7,
   "metadata": {},
   "outputs": [
    {
     "output_type": "execute_result",
     "data": {
      "text/plain": "0.9402859586706309"
     },
     "metadata": {},
     "execution_count": 7
    }
   ],
   "source": [
    "# Calculate the initial entropy (all dataset) \n",
    "entropy_root = entropy(y)\n",
    "entropy_root"
   ]
  },
  {
   "cell_type": "code",
   "execution_count": 8,
   "metadata": {
    "tags": []
   },
   "outputs": [
    {
     "output_type": "stream",
     "name": "stdout",
     "text": "E(outlook=overcast) = 0.0\nE(outlook=rainy) = 0.9709505944546686\nE(outlook=sunny) = 0.9709505944546686\nE(outlook) = 0.6935361388961918\nInfo Gain = 0.2467498197744391\n\nE(temp=hot) = 1.0\nE(temp=cool) = 0.8112781244591328\nE(temp=mild) = 0.9182958340544896\nE(temp) = 0.9110633930116763\nInfo Gain = 0.029222565658954647\n\nE(humidity=high) = 0.9852281360342515\nE(humidity=normal) = 0.5916727785823275\nE(humidity) = 0.7884504573082896\nInfo Gain = 0.15183550136234136\n\nE(windy=False) = 0.8112781244591328\nE(windy=True) = 1.0\nE(windy) = 0.8921589282623617\nInfo Gain = 0.04812703040826927\n\nMax Gain:0.2467498197744391\n"
    },
    {
     "output_type": "execute_result",
     "data": {
      "text/plain": "('outlook',\n [{'class': 'overcast', 'entropy': 0.0},\n  {'class': 'rainy', 'entropy': 0.3467680694480959},\n  {'class': 'sunny', 'entropy': 0.6935361388961918}])"
     },
     "metadata": {},
     "execution_count": 8
    }
   ],
   "source": [
    "\n",
    "def max_gain(X, y):\n",
    "    entropy_root = entropy(y)\n",
    "    max_gain = 0\n",
    "    split_feature = ''\n",
    "    max_gain_dict = []\n",
    "\n",
    "    for feature in X.columns:\n",
    "        gini_index = 0\n",
    "        entropy_list = []\n",
    "        for c_feature in X[feature].unique():\n",
    "            split_feature_x = X.iloc[np.where(X[feature]==c_feature)]\n",
    "            split_y = y[np.where(X[feature]==c_feature)[0]]\n",
    "            print(\"E({}={}) = {}\".format(feature,c_feature, entropy(split_y)))\n",
    "            gini_index +=  len(split_feature_x)/len(X)*entropy(split_y)\n",
    "            entropy_list.append({'class':c_feature, 'entropy':gini_index})\n",
    "\n",
    "        print(\"E({}) = {}\".format(feature, gini_index))\n",
    "        info_gain = entropy_root - gini_index\n",
    "        if(max_gain<info_gain):\n",
    "            max_gain = info_gain\n",
    "            split_feature = feature\n",
    "            max_gain_dict = entropy_list\n",
    "        print(\"Info Gain = {}\\n\".format(info_gain))\n",
    "    print(\"Max Gain:{}\".format(max_gain))\n",
    "    return split_feature, max_gain_dict\n",
    "\n",
    "max_gain(X, y)"
   ]
  },
  {
   "cell_type": "markdown",
   "metadata": {},
   "source": [
    "### Next Step"
   ]
  },
  {
   "cell_type": "code",
   "execution_count": 9,
   "metadata": {
    "tags": []
   },
   "outputs": [
    {
     "output_type": "stream",
     "name": "stdout",
     "text": "E(outlook=overcast) = 0.0\nE(outlook=rainy) = 0.9709505944546686\nE(outlook=sunny) = 0.9709505944546686\nE(outlook) = 0.6935361388961918\nInfo Gain = 0.2467498197744391\n\nE(temp=hot) = 1.0\nE(temp=cool) = 0.8112781244591328\nE(temp=mild) = 0.9182958340544896\nE(temp) = 0.9110633930116763\nInfo Gain = 0.029222565658954647\n\nE(humidity=high) = 0.9852281360342515\nE(humidity=normal) = 0.5916727785823275\nE(humidity) = 0.7884504573082896\nInfo Gain = 0.15183550136234136\n\nE(windy=False) = 0.8112781244591328\nE(windy=True) = 1.0\nE(windy) = 0.8921589282623617\nInfo Gain = 0.04812703040826927\n\nMax Gain:0.2467498197744391\n"
    },
    {
     "output_type": "execute_result",
     "data": {
      "text/plain": "[{'class': 'overcast', 'entropy': 0.0},\n {'class': 'rainy', 'entropy': 0.3467680694480959},\n {'class': 'sunny', 'entropy': 0.6935361388961918}]"
     },
     "metadata": {},
     "execution_count": 9
    }
   ],
   "source": [
    "col_name, parent_class_list = max_gain(X, y)\n",
    "parent_class_list"
   ]
  },
  {
   "cell_type": "code",
   "execution_count": 10,
   "metadata": {},
   "outputs": [
    {
     "output_type": "execute_result",
     "data": {
      "text/plain": "(  outlook  temp humidity  windy\n 0   rainy  mild     high  False\n 1   rainy  cool   normal  False\n 2   rainy  cool   normal   True\n 3   rainy  mild   normal  False\n 4   rainy  mild     high   True,\n 0    yes\n 1    yes\n 2     no\n 3    yes\n 4     no\n Name: play, dtype: object)"
     },
     "metadata": {},
     "execution_count": 10
    }
   ],
   "source": [
    "def get_subtable(X, y, node, class_name):\n",
    "    X1 = X[X[node]==class_name].reset_index(drop=True)\n",
    "    y1 = y[np.where(X[node]==class_name)[0]].reset_index(drop=True)\n",
    "    return X1, y1\n",
    "get_subtable(X, y, 'outlook', 'rainy')"
   ]
  },
  {
   "cell_type": "code",
   "execution_count": 11,
   "metadata": {
    "tags": []
   },
   "outputs": [
    {
     "output_type": "stream",
     "name": "stdout",
     "text": "overcast\nE(outlook=overcast) = 0.0\nE(outlook) = 0.0\nInfo Gain = 0.0\n\nE(temp=hot) = 0.0\nE(temp=cool) = 0.0\nE(temp=mild) = 0.0\nE(temp) = 0.0\nInfo Gain = 0.0\n\nE(humidity=high) = 0.0\nE(humidity=normal) = 0.0\nE(humidity) = 0.0\nInfo Gain = 0.0\n\nE(windy=False) = 0.0\nE(windy=True) = 0.0\nE(windy) = 0.0\nInfo Gain = 0.0\n\nMax Gain:0\nrainy\nE(outlook=rainy) = 0.9709505944546686\nE(outlook) = 0.9709505944546686\nInfo Gain = 0.0\n\nE(temp=mild) = 0.9182958340544896\nE(temp=cool) = 1.0\nE(temp) = 0.9509775004326937\nInfo Gain = 0.01997309402197489\n\nE(humidity=high) = 1.0\nE(humidity=normal) = 0.9182958340544896\nE(humidity) = 0.9509775004326937\nInfo Gain = 0.01997309402197489\n\nE(windy=False) = 0.0\nE(windy=True) = 0.0\nE(windy) = 0.0\nInfo Gain = 0.9709505944546686\n\nMax Gain:0.9709505944546686\nsunny\nE(outlook=sunny) = 0.9709505944546686\nE(outlook) = 0.9709505944546686\nInfo Gain = 0.0\n\nE(temp=hot) = 0.0\nE(temp=mild) = 1.0\nE(temp=cool) = 0.0\nE(temp) = 0.4\nInfo Gain = 0.5709505944546686\n\nE(humidity=high) = 0.0\nE(humidity=normal) = 0.0\nE(humidity) = 0.0\nInfo Gain = 0.9709505944546686\n\nE(windy=False) = 0.9182958340544896\nE(windy=True) = 1.0\nE(windy) = 0.9509775004326937\nInfo Gain = 0.01997309402197489\n\nMax Gain:0.9709505944546686\n"
    }
   ],
   "source": [
    "for c_feature in parent_class_list:\n",
    "    class_name = c_feature['class']\n",
    "    print(class_name)\n",
    "    X1, y1 = get_subtable(X, y, col_name, class_name)\n",
    "    max_gain(X1, y1)"
   ]
  },
  {
   "cell_type": "code",
   "execution_count": 12,
   "metadata": {
    "tags": []
   },
   "outputs": [
    {
     "output_type": "execute_result",
     "data": {
      "text/plain": "{'outlook': {'overcast': 'yes',\n  'rainy': {'windy': {False: 'yes', True: 'no'}},\n  'sunny': {'humidity': {'high': 'no', 'normal': 'yes'}}}}"
     },
     "metadata": {},
     "execution_count": 12
    }
   ],
   "source": [
    "def count_classes(label_serie):\n",
    "    return label_serie.value_counts().to_dict()\n",
    "\n",
    "def entropy(y):\n",
    "    \"\"\"Calculate the Gini Impurity for a list of rows.\"\"\"\n",
    "    counts = count_classes(y)\n",
    "    eps = np.finfo(float).eps\n",
    "    entropy = 0\n",
    "    # for each label calculate the entropy\n",
    "    for lbl in counts:\n",
    "    \n",
    "        prob_of_lbl = counts[lbl] / (float(len(y))+eps)\n",
    "        entropy -= prob_of_lbl * math.log2(prob_of_lbl+eps)\n",
    "    return entropy\n",
    "\n",
    "def max_gain(X, y):\n",
    "    entropy_root = entropy(y)\n",
    "    max_gain = 0\n",
    "    split_feature = ''\n",
    "\n",
    "    for feature in X.columns:\n",
    "        gini_index = 0\n",
    "        entropy_list = []\n",
    "        for c_feature in X[feature].unique():\n",
    "            split_feature_x = X.iloc[np.where(X[feature]==c_feature)]\n",
    "            split_y = y[np.where(X[feature]==c_feature)[0]]\n",
    "            gini_index +=  len(split_feature_x)/len(X)*entropy(split_y)\n",
    "\n",
    "        info_gain = entropy_root - gini_index\n",
    "        if(max_gain<info_gain):\n",
    "            max_gain = info_gain\n",
    "            split_feature = feature\n",
    "\n",
    "    return split_feature\n",
    "\n",
    "def get_subtable(X, y, node, class_name):\n",
    "    X1 = X[X[node]==class_name].reset_index(drop=True)\n",
    "    y1 = y[np.where(X[node]==class_name)[0]].reset_index(drop=True)\n",
    "    return X1, y1\n",
    "\n",
    "def buildTree(X, y, tree=None): \n",
    "    #Get attribute with maximum information gain\n",
    "    node = max_gain(X, y)\n",
    "    \n",
    "    #Get distinct value of that attribute e.g Salary is node and Low,Med and High are values\n",
    "    c_features = X[node].unique()\n",
    "    \n",
    "    #Create an empty dictionary to create tree    \n",
    "    if tree is None:                    \n",
    "        tree={}\n",
    "        tree[node] = {}\n",
    "\n",
    "    for class_name in c_features:\n",
    "        X1, y1 = get_subtable(X, y, node, class_name)\n",
    "        clValue,counts = np.unique(y1,return_counts=True)                        \n",
    "        \n",
    "        if len(counts)==1:#Checking purity of subset\n",
    "            tree[node][class_name] = clValue[0]                                                    \n",
    "        else:        \n",
    "            tree[node][class_name] = buildTree(X1, y1) #Calling the function recursively \n",
    "                   \n",
    "    return tree\n",
    "\n",
    "buildTree(X, y)"
   ]
  },
  {
   "cell_type": "code",
   "execution_count": 14,
   "metadata": {},
   "outputs": [
    {
     "output_type": "execute_result",
     "data": {
      "text/plain": "'yes'"
     },
     "metadata": {},
     "execution_count": 14
    }
   ],
   "source": [
    "def predict(inst,tree):\n",
    "    #This function is used to predict for any input variable \n",
    "    for nodes in tree.keys():        \n",
    "        \n",
    "        value = inst[nodes]\n",
    "        tree = tree[nodes][value]\n",
    "        prediction = 0\n",
    "            \n",
    "        if type(tree) is dict:\n",
    "            prediction = predict(inst, tree)\n",
    "        else:\n",
    "            prediction = tree\n",
    "            break;                            \n",
    "        \n",
    "    return prediction\n",
    "\n",
    "tree = buildTree(X, y)\n",
    "prediction = predict(X.iloc[0], tree)\n",
    "prediction"
   ]
  },
  {
   "cell_type": "code",
   "execution_count": 20,
   "metadata": {},
   "outputs": [
    {
     "output_type": "execute_result",
     "data": {
      "text/plain": "outlook     overcast\ntemp             hot\nhumidity        high\nwindy          False\nName: 0, dtype: object"
     },
     "metadata": {},
     "execution_count": 20
    }
   ],
   "source": [
    "X.iloc[0]"
   ]
  },
  {
   "cell_type": "code",
   "execution_count": 25,
   "metadata": {},
   "outputs": [
    {
     "output_type": "execute_result",
     "data": {
      "text/plain": "0     yes\n1     yes\n2     yes\n3     yes\n4     yes\n5     yes\n6      no\n7     yes\n8      no\n9      no\n10     no\n11     no\n12    yes\n13    yes\nName: play, dtype: object"
     },
     "metadata": {},
     "execution_count": 25
    }
   ],
   "source": [
    "y"
   ]
  },
  {
   "cell_type": "code",
   "execution_count": 32,
   "metadata": {
    "tags": []
   },
   "outputs": [
    {
     "output_type": "execute_result",
     "data": {
      "text/plain": "   play play_pred\n0   yes       yes\n1   yes       yes\n2   yes       yes\n3   yes       yes\n4   yes       yes\n5   yes       yes\n6    no        no\n7   yes       yes\n8    no        no\n9    no        no\n10   no        no\n11   no        no\n12  yes       yes\n13  yes       yes",
      "text/html": "<div>\n<style scoped>\n    .dataframe tbody tr th:only-of-type {\n        vertical-align: middle;\n    }\n\n    .dataframe tbody tr th {\n        vertical-align: top;\n    }\n\n    .dataframe thead th {\n        text-align: right;\n    }\n</style>\n<table border=\"1\" class=\"dataframe\">\n  <thead>\n    <tr style=\"text-align: right;\">\n      <th></th>\n      <th>play</th>\n      <th>play_pred</th>\n    </tr>\n  </thead>\n  <tbody>\n    <tr>\n      <th>0</th>\n      <td>yes</td>\n      <td>yes</td>\n    </tr>\n    <tr>\n      <th>1</th>\n      <td>yes</td>\n      <td>yes</td>\n    </tr>\n    <tr>\n      <th>2</th>\n      <td>yes</td>\n      <td>yes</td>\n    </tr>\n    <tr>\n      <th>3</th>\n      <td>yes</td>\n      <td>yes</td>\n    </tr>\n    <tr>\n      <th>4</th>\n      <td>yes</td>\n      <td>yes</td>\n    </tr>\n    <tr>\n      <th>5</th>\n      <td>yes</td>\n      <td>yes</td>\n    </tr>\n    <tr>\n      <th>6</th>\n      <td>no</td>\n      <td>no</td>\n    </tr>\n    <tr>\n      <th>7</th>\n      <td>yes</td>\n      <td>yes</td>\n    </tr>\n    <tr>\n      <th>8</th>\n      <td>no</td>\n      <td>no</td>\n    </tr>\n    <tr>\n      <th>9</th>\n      <td>no</td>\n      <td>no</td>\n    </tr>\n    <tr>\n      <th>10</th>\n      <td>no</td>\n      <td>no</td>\n    </tr>\n    <tr>\n      <th>11</th>\n      <td>no</td>\n      <td>no</td>\n    </tr>\n    <tr>\n      <th>12</th>\n      <td>yes</td>\n      <td>yes</td>\n    </tr>\n    <tr>\n      <th>13</th>\n      <td>yes</td>\n      <td>yes</td>\n    </tr>\n  </tbody>\n</table>\n</div>"
     },
     "metadata": {},
     "execution_count": 32
    }
   ],
   "source": [
    "predictions = []\n",
    "for _,row in X.iterrows():\n",
    "    predictions.append(predict(row, tree))\n",
    "\n",
    "\n",
    "pd.concat([y, pd.Series(predictions, name='play_pred')],axis=1)"
   ]
  }
 ],
 "metadata": {
  "language_info": {
   "codemirror_mode": {
    "name": "ipython",
    "version": 3
   },
   "file_extension": ".py",
   "mimetype": "text/x-python",
   "name": "python",
   "nbconvert_exporter": "python",
   "pygments_lexer": "ipython3",
   "version": "3.7.6-final"
  },
  "orig_nbformat": 2,
  "kernelspec": {
   "name": "python3",
   "display_name": "Python 3"
  }
 },
 "nbformat": 4,
 "nbformat_minor": 2
}