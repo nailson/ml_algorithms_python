{
 "cells": [
  {
   "cell_type": "code",
   "execution_count": 1,
   "metadata": {},
   "outputs": [],
   "source": [
    "import pandas as pd\n",
    "import numpy as np"
   ]
  },
  {
   "cell_type": "markdown",
   "metadata": {},
   "source": [
    "# Understanding Decision Trees"
   ]
  },
  {
   "cell_type": "code",
   "execution_count": 2,
   "metadata": {},
   "outputs": [
    {
     "output_type": "execute_result",
     "data": {
      "text/plain": "    Day   Outlook  Temp Humidity    Wind Decision\n0     1     Sunny   Hot     High    Weak        0\n1     2     Sunny   Hot     High  Strong        0\n2     3  Overcast   Hot     High    Weak        1\n3     4      Rain  Mild     High    Weak        1\n4     5      Rain  Cool   Normal    Weak        1\n5     6      Rain  Cool   Normal  Strong        0\n6     7  Overcast  Cool   Normal  Strong        1\n7     8     Sunny  Mild     High    Weak        0\n8     9     Sunny  Cool   Normal    Weak        1\n9    10      Rain  Mild   Normal    Weak        1\n10   11     Sunny  Mild   Normal  Strong        1\n11   12  Overcast  Mild     High  Strong        1\n12   13  Overcast   Hot   Normal    Weak        1\n13   14      Rain  Mild     High  Strong        0",
      "text/html": "<div>\n<style scoped>\n    .dataframe tbody tr th:only-of-type {\n        vertical-align: middle;\n    }\n\n    .dataframe tbody tr th {\n        vertical-align: top;\n    }\n\n    .dataframe thead th {\n        text-align: right;\n    }\n</style>\n<table border=\"1\" class=\"dataframe\">\n  <thead>\n    <tr style=\"text-align: right;\">\n      <th></th>\n      <th>Day</th>\n      <th>Outlook</th>\n      <th>Temp</th>\n      <th>Humidity</th>\n      <th>Wind</th>\n      <th>Decision</th>\n    </tr>\n  </thead>\n  <tbody>\n    <tr>\n      <th>0</th>\n      <td>1</td>\n      <td>Sunny</td>\n      <td>Hot</td>\n      <td>High</td>\n      <td>Weak</td>\n      <td>0</td>\n    </tr>\n    <tr>\n      <th>1</th>\n      <td>2</td>\n      <td>Sunny</td>\n      <td>Hot</td>\n      <td>High</td>\n      <td>Strong</td>\n      <td>0</td>\n    </tr>\n    <tr>\n      <th>2</th>\n      <td>3</td>\n      <td>Overcast</td>\n      <td>Hot</td>\n      <td>High</td>\n      <td>Weak</td>\n      <td>1</td>\n    </tr>\n    <tr>\n      <th>3</th>\n      <td>4</td>\n      <td>Rain</td>\n      <td>Mild</td>\n      <td>High</td>\n      <td>Weak</td>\n      <td>1</td>\n    </tr>\n    <tr>\n      <th>4</th>\n      <td>5</td>\n      <td>Rain</td>\n      <td>Cool</td>\n      <td>Normal</td>\n      <td>Weak</td>\n      <td>1</td>\n    </tr>\n    <tr>\n      <th>5</th>\n      <td>6</td>\n      <td>Rain</td>\n      <td>Cool</td>\n      <td>Normal</td>\n      <td>Strong</td>\n      <td>0</td>\n    </tr>\n    <tr>\n      <th>6</th>\n      <td>7</td>\n      <td>Overcast</td>\n      <td>Cool</td>\n      <td>Normal</td>\n      <td>Strong</td>\n      <td>1</td>\n    </tr>\n    <tr>\n      <th>7</th>\n      <td>8</td>\n      <td>Sunny</td>\n      <td>Mild</td>\n      <td>High</td>\n      <td>Weak</td>\n      <td>0</td>\n    </tr>\n    <tr>\n      <th>8</th>\n      <td>9</td>\n      <td>Sunny</td>\n      <td>Cool</td>\n      <td>Normal</td>\n      <td>Weak</td>\n      <td>1</td>\n    </tr>\n    <tr>\n      <th>9</th>\n      <td>10</td>\n      <td>Rain</td>\n      <td>Mild</td>\n      <td>Normal</td>\n      <td>Weak</td>\n      <td>1</td>\n    </tr>\n    <tr>\n      <th>10</th>\n      <td>11</td>\n      <td>Sunny</td>\n      <td>Mild</td>\n      <td>Normal</td>\n      <td>Strong</td>\n      <td>1</td>\n    </tr>\n    <tr>\n      <th>11</th>\n      <td>12</td>\n      <td>Overcast</td>\n      <td>Mild</td>\n      <td>High</td>\n      <td>Strong</td>\n      <td>1</td>\n    </tr>\n    <tr>\n      <th>12</th>\n      <td>13</td>\n      <td>Overcast</td>\n      <td>Hot</td>\n      <td>Normal</td>\n      <td>Weak</td>\n      <td>1</td>\n    </tr>\n    <tr>\n      <th>13</th>\n      <td>14</td>\n      <td>Rain</td>\n      <td>Mild</td>\n      <td>High</td>\n      <td>Strong</td>\n      <td>0</td>\n    </tr>\n  </tbody>\n</table>\n</div>"
     },
     "metadata": {},
     "execution_count": 2
    }
   ],
   "source": [
    "playing_golf = pd.read_csv(\"../../datasets/playing_golf2.csv\", sep='\\t')\n",
    "\n",
    "playing_golf['Decision'] = np.where(playing_golf.Decision=='Yes', 1, 0).astype(str)\n",
    "playing_golf"
   ]
  },
  {
   "cell_type": "markdown",
   "metadata": {},
   "source": [
    "## CART - Classification and regression trees\n",
    "\n",
    "* Top Down\n",
    "* Gini\n",
    "\n",
    "![Gini impurity](images/gini.png)\n",
    "\n",
    "* Categorical and Numerical inputs\n",
    "\n",
    "\n",
    "### Steps\n",
    "1. Calculate Gini Index for each attribute\n",
    "2. Calculated the weighted sum of Gini Indexes for that feature\n",
    "3. Pick the attribute with lowest gini index value\n",
    "4. Repeat 1, 2, 3 until a generalized tree has been created"
   ]
  },
  {
   "cell_type": "code",
   "execution_count": 3,
   "metadata": {
    "tags": []
   },
   "outputs": [
    {
     "output_type": "stream",
     "name": "stdout",
     "text": "Gini(Outlook=Sunny) = 0.48\nGini(Outlook=Overcast) = 0.0\nGini(Outlook=Rain) = 0.48\nGini Index Outlook = 0.34285714285714286\n\nGini(Temp=Hot) = 0.5\nGini(Temp=Mild) = 0.4444444444444444\nGini(Temp=Cool) = 0.375\nGini Index Temp = 0.44047619047619047\n\nGini(Humidity=High) = 0.48979591836734704\nGini(Humidity=Normal) = 0.24489795918367352\nGini Index Humidity = 0.3673469387755103\n\nGini(Wind=Weak) = 0.375\nGini(Wind=Strong) = 0.5\nGini Index Wind = 0.42857142857142855\n\n"
    }
   ],
   "source": [
    "X = playing_golf[['Outlook','Temp','Humidity','Wind']]\n",
    "y = playing_golf.Decision\n",
    "question_dict = []\n",
    "\n",
    "\n",
    "for feature in X.columns:\n",
    "    gini_index = 0\n",
    "    for c_feature in X[feature].unique():\n",
    "        len_feature_c = len(X.iloc[np.where(X[feature]==c_feature)])\n",
    "       \n",
    "        gini_impurity = 1\n",
    "        for c in y.unique():\n",
    "            feature_series = X.iloc[np.where(y == c)][feature]\n",
    "            feature_series = feature_series.iloc[np.where(feature_series==c_feature)]\n",
    "            # calculate the impurity for each class :\n",
    "            # Gini(Outlook=Sunny) = 1 – (2/5)2 – (3/5)2 = 1 – 0.16 – 0.36 = 0.48\n",
    "            # Gini(Outlook=Overcast) = 1 – (4/4)2 – (0/4)2 = 0\n",
    "            # Gini(Outlook=Rain) = 1 – (3/5)2 – (2/5)2 = 1 – 0.36 – 0.16 = 0.48\n",
    "            gini_impurity -= (len(feature_series)/len_feature_c)**2\n",
    "\n",
    "        print(\"Gini({}={}) = {}\".format(feature,c_feature, gini_impurity))\n",
    "        # calculate weighted sum of gini indexes\n",
    "        gini_index +=  len_feature_c/len(X)*gini_impurity\n",
    "    print(\"Gini Index {} = {}\\n\".format(feature, gini_index))\n"
   ]
  },
  {
   "cell_type": "code",
   "execution_count": 48,
   "metadata": {},
   "outputs": [],
   "source": []
  },
  {
   "cell_type": "code",
   "execution_count": 4,
   "metadata": {},
   "outputs": [],
   "source": [
    "def count_classes(label_serie):\n",
    "    return label_serie.value_counts().to_dict()\n",
    "\n",
    "def gini_inpurity(x,y):\n",
    "    \"\"\"Calculate the Gini Impurity for a list of rows.\"\"\"\n",
    "    counts = count_classes(y)\n",
    "    impurity = 1\n",
    "    for lbl in counts:\n",
    "        prob_of_lbl = counts[lbl] / float(len(x))\n",
    "        impurity -= prob_of_lbl**2\n",
    "    return impurity"
   ]
  },
  {
   "cell_type": "code",
   "execution_count": 5,
   "metadata": {
    "tags": []
   },
   "outputs": [
    {
     "output_type": "stream",
     "name": "stdout",
     "text": "0.48\n0.0\n0.48\nGini Index Outlook = 0.34285714285714286\n\n0.5\n0.4444444444444445\n0.375\nGini Index Temp = 0.44047619047619047\n\n0.48979591836734704\n0.24489795918367355\nGini Index Humidity = 0.3673469387755103\n\n0.375\n0.5\nGini Index Wind = 0.42857142857142855\n\n"
    }
   ],
   "source": [
    "for feature in X.columns:\n",
    "    gini_index = 0\n",
    "    for c_feature in X[feature].unique():\n",
    "        split_feature_x = X.iloc[np.where(X[feature]==c_feature)]\n",
    "        split_y = y[np.where(X[feature]==c_feature)[0]]\n",
    "        print(gini_inpurity(split_feature_x, split_y))\n",
    "        gini_index +=  len(split_feature_x)/len(X)*gini_inpurity(split_feature_x, split_y)\n",
    "    print(\"Gini Index {} = {}\\n\".format(feature, gini_index))"
   ]
  }
 ],
 "metadata": {
  "language_info": {
   "codemirror_mode": {
    "name": "ipython",
    "version": 3
   },
   "file_extension": ".py",
   "mimetype": "text/x-python",
   "name": "python",
   "nbconvert_exporter": "python",
   "pygments_lexer": "ipython3",
   "version": "3.7.6-final"
  },
  "orig_nbformat": 2,
  "kernelspec": {
   "name": "python3",
   "display_name": "Python 3"
  }
 },
 "nbformat": 4,
 "nbformat_minor": 2
}