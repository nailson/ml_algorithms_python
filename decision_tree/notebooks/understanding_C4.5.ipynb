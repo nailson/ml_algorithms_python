{
 "cells": [
  {
   "cell_type": "code",
   "execution_count": 8,
   "metadata": {},
   "outputs": [],
   "source": [
    "import pandas as pd\n",
    "import numpy as np\n",
    "import math"
   ]
  },
  {
   "cell_type": "markdown",
   "metadata": {},
   "source": [
    "# Understanding Decision Trees"
   ]
  },
  {
   "cell_type": "code",
   "execution_count": 10,
   "metadata": {},
   "outputs": [
    {
     "output_type": "execute_result",
     "data": {
      "text/plain": "  Weather      Car  Class\n0   sunny  working      1\n1   rainy   broken      1\n2   sunny  working      1\n3   sunny  working      1\n4   sunny  working      1\n5   rainy   broken      0\n6   rainy   broken      0\n7   sunny  working      0\n8   sunny   broken      0\n9   rainy   broken      0",
      "text/html": "<div>\n<style scoped>\n    .dataframe tbody tr th:only-of-type {\n        vertical-align: middle;\n    }\n\n    .dataframe tbody tr th {\n        vertical-align: top;\n    }\n\n    .dataframe thead th {\n        text-align: right;\n    }\n</style>\n<table border=\"1\" class=\"dataframe\">\n  <thead>\n    <tr style=\"text-align: right;\">\n      <th></th>\n      <th>Weather</th>\n      <th>Car</th>\n      <th>Class</th>\n    </tr>\n  </thead>\n  <tbody>\n    <tr>\n      <th>0</th>\n      <td>sunny</td>\n      <td>working</td>\n      <td>1</td>\n    </tr>\n    <tr>\n      <th>1</th>\n      <td>rainy</td>\n      <td>broken</td>\n      <td>1</td>\n    </tr>\n    <tr>\n      <th>2</th>\n      <td>sunny</td>\n      <td>working</td>\n      <td>1</td>\n    </tr>\n    <tr>\n      <th>3</th>\n      <td>sunny</td>\n      <td>working</td>\n      <td>1</td>\n    </tr>\n    <tr>\n      <th>4</th>\n      <td>sunny</td>\n      <td>working</td>\n      <td>1</td>\n    </tr>\n    <tr>\n      <th>5</th>\n      <td>rainy</td>\n      <td>broken</td>\n      <td>0</td>\n    </tr>\n    <tr>\n      <th>6</th>\n      <td>rainy</td>\n      <td>broken</td>\n      <td>0</td>\n    </tr>\n    <tr>\n      <th>7</th>\n      <td>sunny</td>\n      <td>working</td>\n      <td>0</td>\n    </tr>\n    <tr>\n      <th>8</th>\n      <td>sunny</td>\n      <td>broken</td>\n      <td>0</td>\n    </tr>\n    <tr>\n      <th>9</th>\n      <td>rainy</td>\n      <td>broken</td>\n      <td>0</td>\n    </tr>\n  </tbody>\n</table>\n</div>"
     },
     "metadata": {},
     "execution_count": 10
    }
   ],
   "source": [
    "# Read the Toy Dataset\n",
    "go_out_df = pd.read_csv('../../datasets/go-out.csv', sep=';')\n",
    "go_out_df['Class'] = np.where(go_out_df.Class=='go-out', 1, 0)\n",
    "go_out_df"
   ]
  },
  {
   "cell_type": "markdown",
   "metadata": {},
   "source": [
    "## C4.5\n",
    "\n",
    "* Top Down\n",
    "* Entropy\n",
    "\n",
    "![Entropy](../images/entropy.png)\n",
    "![Entropy](../images/entropy_2.png)\n",
    "\n",
    "* Information Gain\n",
    "\n",
    "![Information Gain](../images/info_gain.png)\n",
    "\n",
    "\n",
    "\n",
    "### Steps\n",
    "1. Calculate Entropy for each attribute\n",
    "2. Calculated the avg sum of entropy for that feature\n",
    "3. Calculate the Info Gain\n",
    "3. Pick the attribute with highest gain\n",
    "4. Repeat 1, 2, 3, 4 until a generalized tree has been created"
   ]
  },
  {
   "cell_type": "code",
   "execution_count": 12,
   "metadata": {},
   "outputs": [
    {
     "output_type": "execute_result",
     "data": {
      "text/plain": "               Car\nWeather Class     \nrainy   0        3\n        1        1\nsunny   0        2\n        1        4",
      "text/html": "<div>\n<style scoped>\n    .dataframe tbody tr th:only-of-type {\n        vertical-align: middle;\n    }\n\n    .dataframe tbody tr th {\n        vertical-align: top;\n    }\n\n    .dataframe thead th {\n        text-align: right;\n    }\n</style>\n<table border=\"1\" class=\"dataframe\">\n  <thead>\n    <tr style=\"text-align: right;\">\n      <th></th>\n      <th></th>\n      <th>Car</th>\n    </tr>\n    <tr>\n      <th>Weather</th>\n      <th>Class</th>\n      <th></th>\n    </tr>\n  </thead>\n  <tbody>\n    <tr>\n      <th rowspan=\"2\" valign=\"top\">rainy</th>\n      <th>0</th>\n      <td>3</td>\n    </tr>\n    <tr>\n      <th>1</th>\n      <td>1</td>\n    </tr>\n    <tr>\n      <th rowspan=\"2\" valign=\"top\">sunny</th>\n      <th>0</th>\n      <td>2</td>\n    </tr>\n    <tr>\n      <th>1</th>\n      <td>4</td>\n    </tr>\n  </tbody>\n</table>\n</div>"
     },
     "metadata": {},
     "execution_count": 12
    }
   ],
   "source": [
    "go_out_df.groupby(['Weather','Class']).count()"
   ]
  },
  {
   "cell_type": "code",
   "execution_count": 11,
   "metadata": {
    "tags": []
   },
   "outputs": [
    {
     "output_type": "stream",
     "name": "stdout",
     "text": "E(Weather=sunny) = 0.9182958340544896\nE(Weather=rainy) = 0.8112781244591328\nGini Index Weather = 0.8754887502163469\n\nE(Car=working) = 0.7219280948873623\nE(Car=broken) = 0.7219280948873623\nGini Index Car = 0.7219280948873623\n\n"
    }
   ],
   "source": [
    "X = go_out_df[['Weather', 'Car']]\n",
    "y = go_out_df.Class\n",
    "question_dict = []\n",
    "\n",
    "\n",
    "for feature in X.columns:\n",
    "    gini_index = 0\n",
    "    for c_feature in X[feature].unique():\n",
    "        len_feature_c = len(X.iloc[np.where(X[feature]==c_feature)])\n",
    "       \n",
    "        gini_impurity = 0\n",
    "        for c in y.unique():\n",
    "            feature_series = X.iloc[np.where(y == c)][feature]\n",
    "            feature_series = feature_series.iloc[np.where(feature_series==c_feature)]\n",
    "            # calculate the Entropy for each class :\n",
    "            p_i = (len(feature_series)/len_feature_c)\n",
    "            gini_impurity -= p_i*math.log2(p_i)\n",
    "\n",
    "        print(\"E({}={}) = {}\".format(feature,c_feature, gini_impurity))\n",
    "        # calculate weighted sum of gini indexes\n",
    "        gini_index +=  len_feature_c/len(X)*gini_impurity\n",
    "    print(\"Gini Index {} = {}\\n\".format(feature, gini_index))\n"
   ]
  },
  {
   "cell_type": "code",
   "execution_count": 4,
   "metadata": {},
   "outputs": [],
   "source": [
    "def count_classes(label_serie):\n",
    "    return label_serie.value_counts().to_dict()\n",
    "\n",
    "\n",
    "def gini_inpurity(x,y):\n",
    "    \"\"\"Calculate the Gini Impurity for a list of rows.\"\"\"\n",
    "    counts = count_classes(y)\n",
    "    impurity = 1\n",
    "    for lbl in counts:\n",
    "        prob_of_lbl = counts[lbl] / float(len(x))\n",
    "        impurity -= prob_of_lbl**2\n",
    "    return impurity"
   ]
  },
  {
   "cell_type": "code",
   "execution_count": 5,
   "metadata": {
    "tags": []
   },
   "outputs": [
    {
     "output_type": "error",
     "ename": "NameError",
     "evalue": "name 'X' is not defined",
     "traceback": [
      "\u001b[0;31m---------------------------------------------------------------------------\u001b[0m",
      "\u001b[0;31mNameError\u001b[0m                                 Traceback (most recent call last)",
      "\u001b[0;32m<ipython-input-5-0b6b091c33e0>\u001b[0m in \u001b[0;36m<module>\u001b[0;34m\u001b[0m\n\u001b[0;32m----> 1\u001b[0;31m \u001b[0;32mfor\u001b[0m \u001b[0mfeature\u001b[0m \u001b[0;32min\u001b[0m \u001b[0mX\u001b[0m\u001b[0;34m.\u001b[0m\u001b[0mcolumns\u001b[0m\u001b[0;34m:\u001b[0m\u001b[0;34m\u001b[0m\u001b[0;34m\u001b[0m\u001b[0m\n\u001b[0m\u001b[1;32m      2\u001b[0m     \u001b[0mgini_index\u001b[0m \u001b[0;34m=\u001b[0m \u001b[0;36m0\u001b[0m\u001b[0;34m\u001b[0m\u001b[0;34m\u001b[0m\u001b[0m\n\u001b[1;32m      3\u001b[0m     \u001b[0;32mfor\u001b[0m \u001b[0mc_feature\u001b[0m \u001b[0;32min\u001b[0m \u001b[0mX\u001b[0m\u001b[0;34m[\u001b[0m\u001b[0mfeature\u001b[0m\u001b[0;34m]\u001b[0m\u001b[0;34m.\u001b[0m\u001b[0munique\u001b[0m\u001b[0;34m(\u001b[0m\u001b[0;34m)\u001b[0m\u001b[0;34m:\u001b[0m\u001b[0;34m\u001b[0m\u001b[0;34m\u001b[0m\u001b[0m\n\u001b[1;32m      4\u001b[0m         \u001b[0msplit_feature_x\u001b[0m \u001b[0;34m=\u001b[0m \u001b[0mX\u001b[0m\u001b[0;34m.\u001b[0m\u001b[0miloc\u001b[0m\u001b[0;34m[\u001b[0m\u001b[0mnp\u001b[0m\u001b[0;34m.\u001b[0m\u001b[0mwhere\u001b[0m\u001b[0;34m(\u001b[0m\u001b[0mX\u001b[0m\u001b[0;34m[\u001b[0m\u001b[0mfeature\u001b[0m\u001b[0;34m]\u001b[0m\u001b[0;34m==\u001b[0m\u001b[0mc_feature\u001b[0m\u001b[0;34m)\u001b[0m\u001b[0;34m]\u001b[0m\u001b[0;34m\u001b[0m\u001b[0;34m\u001b[0m\u001b[0m\n\u001b[1;32m      5\u001b[0m         \u001b[0msplit_y\u001b[0m \u001b[0;34m=\u001b[0m \u001b[0my\u001b[0m\u001b[0;34m[\u001b[0m\u001b[0mnp\u001b[0m\u001b[0;34m.\u001b[0m\u001b[0mwhere\u001b[0m\u001b[0;34m(\u001b[0m\u001b[0mX\u001b[0m\u001b[0;34m[\u001b[0m\u001b[0mfeature\u001b[0m\u001b[0;34m]\u001b[0m\u001b[0;34m==\u001b[0m\u001b[0mc_feature\u001b[0m\u001b[0;34m)\u001b[0m\u001b[0;34m[\u001b[0m\u001b[0;36m0\u001b[0m\u001b[0;34m]\u001b[0m\u001b[0;34m]\u001b[0m\u001b[0;34m\u001b[0m\u001b[0;34m\u001b[0m\u001b[0m\n",
      "\u001b[0;31mNameError\u001b[0m: name 'X' is not defined"
     ]
    }
   ],
   "source": [
    "for feature in X.columns:\n",
    "    gini_index = 0\n",
    "    for c_feature in X[feature].unique():\n",
    "        split_feature_x = X.iloc[np.where(X[feature]==c_feature)]\n",
    "        split_y = y[np.where(X[feature]==c_feature)[0]]\n",
    "        print(gini_inpurity(split_feature_x, split_y))\n",
    "        gini_index +=  len(split_feature_x)/len(X)*gini_inpurity(split_feature_x, split_y)\n",
    "    print(\"Gini Index {} = {}\\n\".format(feature, gini_index))"
   ]
  }
 ],
 "metadata": {
  "language_info": {
   "codemirror_mode": {
    "name": "ipython",
    "version": 3
   },
   "file_extension": ".py",
   "mimetype": "text/x-python",
   "name": "python",
   "nbconvert_exporter": "python",
   "pygments_lexer": "ipython3",
   "version": "3.7.6-final"
  },
  "orig_nbformat": 2,
  "kernelspec": {
   "name": "python3",
   "display_name": "Python 3"
  }
 },
 "nbformat": 4,
 "nbformat_minor": 2
}