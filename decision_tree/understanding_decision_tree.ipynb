{
 "cells": [
  {
   "cell_type": "code",
   "execution_count": 7,
   "metadata": {},
   "outputs": [],
   "source": [
    "import pandas as pd\n",
    "import numpy as np"
   ]
  },
  {
   "cell_type": "markdown",
   "metadata": {},
   "source": [
    "# Understanding Decision Trees"
   ]
  },
  {
   "cell_type": "code",
   "execution_count": 8,
   "metadata": {},
   "outputs": [
    {
     "output_type": "execute_result",
     "data": {
      "text/plain": "   index   Outlook Temperature Humidity Wind Play\n0      1     Sunny        high     high    0    0\n1      2     Sunny        high     high    0    0\n2      3  Overcast        high   medium    0    1\n3      4      Rain      medium     high    0    1\n4      5      Rain      medium   medium    0    1\n5      6      Rain         low      low    0    0\n6      7  Overcast         low      low    0    1\n7      8     Sunny      medium     high    0    0\n8      9     Sunny      medium      low    0    1\n9     10      Rain      medium   medium    0    1",
      "text/html": "<div>\n<style scoped>\n    .dataframe tbody tr th:only-of-type {\n        vertical-align: middle;\n    }\n\n    .dataframe tbody tr th {\n        vertical-align: top;\n    }\n\n    .dataframe thead th {\n        text-align: right;\n    }\n</style>\n<table border=\"1\" class=\"dataframe\">\n  <thead>\n    <tr style=\"text-align: right;\">\n      <th></th>\n      <th>index</th>\n      <th>Outlook</th>\n      <th>Temperature</th>\n      <th>Humidity</th>\n      <th>Wind</th>\n      <th>Play</th>\n    </tr>\n  </thead>\n  <tbody>\n    <tr>\n      <th>0</th>\n      <td>1</td>\n      <td>Sunny</td>\n      <td>high</td>\n      <td>high</td>\n      <td>0</td>\n      <td>0</td>\n    </tr>\n    <tr>\n      <th>1</th>\n      <td>2</td>\n      <td>Sunny</td>\n      <td>high</td>\n      <td>high</td>\n      <td>0</td>\n      <td>0</td>\n    </tr>\n    <tr>\n      <th>2</th>\n      <td>3</td>\n      <td>Overcast</td>\n      <td>high</td>\n      <td>medium</td>\n      <td>0</td>\n      <td>1</td>\n    </tr>\n    <tr>\n      <th>3</th>\n      <td>4</td>\n      <td>Rain</td>\n      <td>medium</td>\n      <td>high</td>\n      <td>0</td>\n      <td>1</td>\n    </tr>\n    <tr>\n      <th>4</th>\n      <td>5</td>\n      <td>Rain</td>\n      <td>medium</td>\n      <td>medium</td>\n      <td>0</td>\n      <td>1</td>\n    </tr>\n    <tr>\n      <th>5</th>\n      <td>6</td>\n      <td>Rain</td>\n      <td>low</td>\n      <td>low</td>\n      <td>0</td>\n      <td>0</td>\n    </tr>\n    <tr>\n      <th>6</th>\n      <td>7</td>\n      <td>Overcast</td>\n      <td>low</td>\n      <td>low</td>\n      <td>0</td>\n      <td>1</td>\n    </tr>\n    <tr>\n      <th>7</th>\n      <td>8</td>\n      <td>Sunny</td>\n      <td>medium</td>\n      <td>high</td>\n      <td>0</td>\n      <td>0</td>\n    </tr>\n    <tr>\n      <th>8</th>\n      <td>9</td>\n      <td>Sunny</td>\n      <td>medium</td>\n      <td>low</td>\n      <td>0</td>\n      <td>1</td>\n    </tr>\n    <tr>\n      <th>9</th>\n      <td>10</td>\n      <td>Rain</td>\n      <td>medium</td>\n      <td>medium</td>\n      <td>0</td>\n      <td>1</td>\n    </tr>\n  </tbody>\n</table>\n</div>"
     },
     "metadata": {},
     "execution_count": 8
    }
   ],
   "source": [
    "playing_golf = pd.read_csv(\"../datasets/playing_golf.csv\", sep='\\t')\n",
    "\n",
    "playing_golf['Play'] = np.where(playing_golf.Play=='Yes', 1, 0).astype(str)\n",
    "playing_golf['Temperature'] = pd.cut(playing_golf.Temperature, [0,65,75,200], labels=['low', 'medium', 'high'])\n",
    "playing_golf['Humidity'] = pd.cut(playing_golf.Humidity, [0,70,80,200], labels=['low', 'medium', 'high'])\n",
    "playing_golf['Wind'] = np.where(playing_golf.Wind=='True', 1, 0).astype(str)\n",
    "playing_golf"
   ]
  },
  {
   "cell_type": "markdown",
   "metadata": {},
   "source": [
    "## CART - Classification and regression trees\n",
    "\n",
    "* Top Down\n",
    "* Gini\n",
    "\n",
    "![Gini impurity](images/gini.png)\n",
    "\n",
    "* Categorical and Numerical inputs\n",
    "\n",
    "\n",
    "### Steps\n",
    "1. Calculate Gini Index for each attribute\n",
    "2. Calculated the weighted sum of Gini Indexes for that feature\n",
    "3. Pick the attribute with lowest gini index value\n",
    "4. Repeat 1, 2, 3 until a generalized tree has been created"
   ]
  },
  {
   "cell_type": "code",
   "execution_count": 61,
   "metadata": {
    "tags": []
   },
   "outputs": [
    {
     "output_type": "stream",
     "name": "stdout",
     "text": "Outlook Outlook Outlook\n0   Sunny   Sunny   Sunny\n1   Sunny   Sunny   Sunny\n7   Sunny   Sunny   Sunny\n3 4\n  Outlook\n8   Sunny\n1 4\nGini(Outlook=Sunny) = 0.375\nEmpty DataFrame\nColumns: []\nIndex: []\n0 2\n    Outlook   Outlook\n2  Overcast  Overcast\n6  Overcast  Overcast\n2 2\nGini(Outlook=Overcast) = 0.0\n  Outlook\n5    Rain\n1 4\n  Outlook Outlook Outlook\n3    Rain    Rain    Rain\n4    Rain    Rain    Rain\n9    Rain    Rain    Rain\n3 4\nGini(Outlook=Rain) = 0.375\n  Temperature Humidity Temperature Humidity Humidity\n0        high     high        high     high     high\n0        high     high        high     high     high\n1        high     high        high     high     high\n1        high     high        high     high     high\n7      medium     high      medium     high     high\n5 3\n  Temperature Humidity\n2        high   medium\n3      medium     high\n2 3\nGini(Temperature=high) = -2.2222222222222223\n  Temperature\n7      medium\n1 5\n  Humidity Temperature Temperature Humidity Temperature Temperature Humidity\n2   medium        high        high   medium        high        high   medium\n3     high      medium      medium     high      medium      medium     high\n4   medium      medium      medium   medium      medium      medium   medium\n4   medium      medium      medium   medium      medium      medium   medium\n8      low      medium      medium      low      medium      medium      low\n9   medium      medium      medium   medium      medium      medium   medium\n9   medium      medium      medium   medium      medium      medium   medium\n7 5\nGini(Temperature=medium) = -0.9999999999999998\n  Temperature Humidity\n5         low      low\n5         low      low\n2 2\n  Temperature Humidity Humidity\n6         low      low      low\n6         low      low      low\n8      medium      low      low\n3 2\nGini(Temperature=low) = -2.25\n  Temperature Humidity Temperature Humidity Humidity\n0        high     high        high     high     high\n0        high     high        high     high     high\n1        high     high        high     high     high\n1        high     high        high     high     high\n7      medium     high      medium     high     high\n5 4\n  Temperature Humidity\n2        high   medium\n3      medium     high\n2 4\nGini(Humidity=high) = -0.8125\n  Temperature\n7      medium\n1 3\n  Humidity Temperature Temperature Humidity Temperature Temperature Humidity\n2   medium        high        high   medium        high        high   medium\n3     high      medium      medium     high      medium      medium     high\n4   medium      medium      medium   medium      medium      medium   medium\n4   medium      medium      medium   medium      medium      medium   medium\n8      low      medium      medium      low      medium      medium      low\n9   medium      medium      medium   medium      medium      medium   medium\n9   medium      medium      medium   medium      medium      medium   medium\n7 3\nGini(Humidity=medium) = -4.555555555555557\n  Temperature Humidity\n5         low      low\n5         low      low\n2 3\n  Temperature Humidity Humidity\n6         low      low      low\n6         low      low      low\n8      medium      low      low\n3 3\nGini(Humidity=low) = -0.4444444444444444\n  Wind Wind Wind Wind\n0    0    0    0    0\n1    0    0    0    0\n5    0    0    0    0\n7    0    0    0    0\n4 10\n  Wind Wind Wind Wind Wind Wind\n2    0    0    0    0    0    0\n3    0    0    0    0    0    0\n4    0    0    0    0    0    0\n6    0    0    0    0    0    0\n8    0    0    0    0    0    0\n9    0    0    0    0    0    0\n6 10\nGini(Wind=0) = 0.48\n"
    }
   ],
   "source": [
    "X = playing_golf[['Outlook','Temperature','Humidity','Wind']]\n",
    "y = playing_golf.Play\n",
    "\n",
    "def gini_calculation():\n",
    "    return True\n",
    "\n",
    "for feature in X.columns:\n",
    "    for c_feature in X[feature].unique():\n",
    "        len_feature_c = len(X.iloc[np.where(X[feature]==c_feature)])\n",
    "        gini = 1\n",
    "        for c in y.unique():\n",
    "            feature_series = X.iloc[np.where(y == c)]\n",
    "            feature_series = feature_series.iloc[np.where(feature_series==c_feature)]\n",
    "\n",
    "            print(feature_series)\n",
    "            print(len(feature_series), len_feature_c)\n",
    "            \n",
    "            gini -= (len(feature_series)/len_feature_c)**2\n",
    "        print(\"Gini({}={}) = {}\".format(feature,c_feature, gini))\n",
    "\n",
    "            \n",
    "\n"
   ]
  },
  {
   "cell_type": "code",
   "execution_count": 29,
   "metadata": {},
   "outputs": [
    {
     "output_type": "execute_result",
     "data": {
      "text/plain": "(array([0, 1, 7, 8]),)"
     },
     "metadata": {},
     "execution_count": 29
    }
   ],
   "source": [
    "np.where(X[feature] == c_feature)"
   ]
  },
  {
   "cell_type": "code",
   "execution_count": 53,
   "metadata": {},
   "outputs": [
    {
     "output_type": "execute_result",
     "data": {
      "text/plain": "  Outlook\n0   Sunny\n1   Sunny\n7   Sunny\n8   Sunny",
      "text/html": "<div>\n<style scoped>\n    .dataframe tbody tr th:only-of-type {\n        vertical-align: middle;\n    }\n\n    .dataframe tbody tr th {\n        vertical-align: top;\n    }\n\n    .dataframe thead th {\n        text-align: right;\n    }\n</style>\n<table border=\"1\" class=\"dataframe\">\n  <thead>\n    <tr style=\"text-align: right;\">\n      <th></th>\n      <th>Outlook</th>\n    </tr>\n  </thead>\n  <tbody>\n    <tr>\n      <th>0</th>\n      <td>Sunny</td>\n    </tr>\n    <tr>\n      <th>1</th>\n      <td>Sunny</td>\n    </tr>\n    <tr>\n      <th>7</th>\n      <td>Sunny</td>\n    </tr>\n    <tr>\n      <th>8</th>\n      <td>Sunny</td>\n    </tr>\n  </tbody>\n</table>\n</div>"
     },
     "metadata": {},
     "execution_count": 53
    }
   ],
   "source": [
    "X.iloc[np.where(X[feature]==c_feature)]"
   ]
  },
  {
   "cell_type": "code",
   "execution_count": 22,
   "metadata": {},
   "outputs": [
    {
     "output_type": "execute_result",
     "data": {
      "text/plain": "               index\nOutlook  Play       \nOvercast 1         2\nRain     0         1\n         1         3\nSunny    0         3\n         1         1",
      "text/html": "<div>\n<style scoped>\n    .dataframe tbody tr th:only-of-type {\n        vertical-align: middle;\n    }\n\n    .dataframe tbody tr th {\n        vertical-align: top;\n    }\n\n    .dataframe thead th {\n        text-align: right;\n    }\n</style>\n<table border=\"1\" class=\"dataframe\">\n  <thead>\n    <tr style=\"text-align: right;\">\n      <th></th>\n      <th></th>\n      <th>index</th>\n    </tr>\n    <tr>\n      <th>Outlook</th>\n      <th>Play</th>\n      <th></th>\n    </tr>\n  </thead>\n  <tbody>\n    <tr>\n      <th>Overcast</th>\n      <th>1</th>\n      <td>2</td>\n    </tr>\n    <tr>\n      <th rowspan=\"2\" valign=\"top\">Rain</th>\n      <th>0</th>\n      <td>1</td>\n    </tr>\n    <tr>\n      <th>1</th>\n      <td>3</td>\n    </tr>\n    <tr>\n      <th rowspan=\"2\" valign=\"top\">Sunny</th>\n      <th>0</th>\n      <td>3</td>\n    </tr>\n    <tr>\n      <th>1</th>\n      <td>1</td>\n    </tr>\n  </tbody>\n</table>\n</div>"
     },
     "metadata": {},
     "execution_count": 22
    }
   ],
   "source": [
    "playing_golf.groupby(['Outlook','Play']).agg({'index':'count'})"
   ]
  }
 ],
 "metadata": {
  "language_info": {
   "codemirror_mode": {
    "name": "ipython",
    "version": 3
   },
   "file_extension": ".py",
   "mimetype": "text/x-python",
   "name": "python",
   "nbconvert_exporter": "python",
   "pygments_lexer": "ipython3",
   "version": "3.7.6-final"
  },
  "orig_nbformat": 2,
  "kernelspec": {
   "name": "python3",
   "display_name": "Python 3"
  }
 },
 "nbformat": 4,
 "nbformat_minor": 2
}