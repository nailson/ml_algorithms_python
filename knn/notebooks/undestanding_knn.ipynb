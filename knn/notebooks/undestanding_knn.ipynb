{
 "cells": [
  {
   "cell_type": "code",
   "execution_count": 2,
   "metadata": {},
   "outputs": [],
   "source": [
    "from sklearn import datasets\n",
    "from sklearn.model_selection import train_test_split\n",
    "import numpy as np\n",
    "import pandas as pd"
   ]
  },
  {
   "cell_type": "code",
   "execution_count": 3,
   "metadata": {},
   "outputs": [],
   "source": [
    "# import some data to play with\n",
    "iris = datasets.load_iris()"
   ]
  },
  {
   "cell_type": "code",
   "execution_count": 51,
   "metadata": {},
   "outputs": [
    {
     "output_type": "execute_result",
     "data": {
      "text/plain": "   sepal length (cm)  sepal width (cm)  petal length (cm)  petal width (cm)  \\\n0                5.1               3.5                1.4               0.2   \n1                4.9               3.0                1.4               0.2   \n2                4.7               3.2                1.3               0.2   \n3                4.6               3.1                1.5               0.2   \n4                5.0               3.6                1.4               0.2   \n\n    label  \n0  setosa  \n1  setosa  \n2  setosa  \n3  setosa  \n4  setosa  ",
      "text/html": "<div>\n<style scoped>\n    .dataframe tbody tr th:only-of-type {\n        vertical-align: middle;\n    }\n\n    .dataframe tbody tr th {\n        vertical-align: top;\n    }\n\n    .dataframe thead th {\n        text-align: right;\n    }\n</style>\n<table border=\"1\" class=\"dataframe\">\n  <thead>\n    <tr style=\"text-align: right;\">\n      <th></th>\n      <th>sepal length (cm)</th>\n      <th>sepal width (cm)</th>\n      <th>petal length (cm)</th>\n      <th>petal width (cm)</th>\n      <th>label</th>\n    </tr>\n  </thead>\n  <tbody>\n    <tr>\n      <th>0</th>\n      <td>5.1</td>\n      <td>3.5</td>\n      <td>1.4</td>\n      <td>0.2</td>\n      <td>setosa</td>\n    </tr>\n    <tr>\n      <th>1</th>\n      <td>4.9</td>\n      <td>3.0</td>\n      <td>1.4</td>\n      <td>0.2</td>\n      <td>setosa</td>\n    </tr>\n    <tr>\n      <th>2</th>\n      <td>4.7</td>\n      <td>3.2</td>\n      <td>1.3</td>\n      <td>0.2</td>\n      <td>setosa</td>\n    </tr>\n    <tr>\n      <th>3</th>\n      <td>4.6</td>\n      <td>3.1</td>\n      <td>1.5</td>\n      <td>0.2</td>\n      <td>setosa</td>\n    </tr>\n    <tr>\n      <th>4</th>\n      <td>5.0</td>\n      <td>3.6</td>\n      <td>1.4</td>\n      <td>0.2</td>\n      <td>setosa</td>\n    </tr>\n  </tbody>\n</table>\n</div>"
     },
     "metadata": {},
     "execution_count": 51
    }
   ],
   "source": [
    "iris_df = pd.DataFrame(data= np.c_[iris['data'], iris['target']], columns=iris['feature_names']+['label'])\n",
    "iris_df.label = np.where(iris_df.label==0, 'setosa', np.where(iris_df.label==1, 'versicolor', 'virginica'))\n",
    "\n",
    "iris_df.head()"
   ]
  },
  {
   "cell_type": "code",
   "execution_count": 52,
   "metadata": {},
   "outputs": [
    {
     "output_type": "execute_result",
     "data": {
      "text/plain": "virginica     50\nsetosa        50\nversicolor    50\nName: label, dtype: int64"
     },
     "metadata": {},
     "execution_count": 52
    }
   ],
   "source": [
    "iris_df.label.value_counts()"
   ]
  },
  {
   "cell_type": "code",
   "execution_count": 53,
   "metadata": {},
   "outputs": [],
   "source": [
    "X = iris_df.drop(['label'], axis=1)\n",
    "y = iris_df[['label']]\n",
    "\n",
    "X_train, X_test, y_train, y_test = train_test_split(X, y)"
   ]
  },
  {
   "cell_type": "code",
   "execution_count": 54,
   "metadata": {},
   "outputs": [],
   "source": [
    "def euclidian_distance(v, w):\n",
    "    squared_diff_list = [(a-b)**2 for a, b in zip(v, w)]\n",
    "    return np.sqrt(np.sum(squared_diff_list))\n"
   ]
  },
  {
   "cell_type": "code",
   "execution_count": 55,
   "metadata": {},
   "outputs": [
    {
     "output_type": "execute_result",
     "data": {
      "text/plain": "3.1128764832546763"
     },
     "metadata": {},
     "execution_count": 55
    }
   ],
   "source": [
    "euclidian_distance([5.4, 3.4, 1.7, 0.2], [5.4, 3, 4.5, 1.5])"
   ]
  },
  {
   "cell_type": "code",
   "execution_count": 40,
   "metadata": {},
   "outputs": [],
   "source": [
    "class LabeledPoint():\n",
    "    vector: list\n",
    "    label: str\n",
    "\n",
    "    def __init__(self, vector, label):\n",
    "        self.vector = vector\n",
    "        self.label = label"
   ]
  },
  {
   "cell_type": "code",
   "execution_count": 60,
   "metadata": {},
   "outputs": [],
   "source": [
    "labeled_points_list = []\n",
    "for index, row in X_train.iterrows():\n",
    "    labeled_points_list.append(LabeledPoint(row, y_train.loc[index][0]))"
   ]
  },
  {
   "cell_type": "code",
   "execution_count": 61,
   "metadata": {},
   "outputs": [
    {
     "output_type": "execute_result",
     "data": {
      "text/plain": "'setosa'"
     },
     "metadata": {},
     "execution_count": 61
    }
   ],
   "source": [
    "labeled_points_list[0].label"
   ]
  },
  {
   "cell_type": "code",
   "execution_count": 62,
   "metadata": {},
   "outputs": [
    {
     "output_type": "execute_result",
     "data": {
      "text/plain": "['setosa', 'setosa', 'setosa']"
     },
     "metadata": {},
     "execution_count": 62
    }
   ],
   "source": [
    "by_distance = sorted(labeled_points_list, key=lambda lp: euclidian_distance(lp.vector, X_test.iloc[0].to_numpy()))\n",
    "# Find the labels for the k closest \n",
    "k_nearest_labels = [lp.label for lp in by_distance[ :k] ]\n",
    "\n",
    "k_nearest_labels"
   ]
  },
  {
   "cell_type": "code",
   "execution_count": 64,
   "metadata": {
    "tags": []
   },
   "outputs": [
    {
     "output_type": "stream",
     "name": "stdout",
     "text": "['setosa', 'setosa', 'setosa']\n['setosa', 'setosa', 'setosa']\n['setosa', 'setosa', 'setosa']\n['virginica', 'virginica', 'virginica']\n['versicolor', 'versicolor', 'versicolor']\n['virginica', 'virginica', 'virginica']\n['versicolor', 'versicolor', 'versicolor']\n['setosa', 'setosa', 'setosa']\n['setosa', 'setosa', 'setosa']\n['versicolor', 'versicolor', 'versicolor']\n['virginica', 'virginica', 'virginica']\n['versicolor', 'versicolor', 'versicolor']\n['versicolor', 'versicolor', 'versicolor']\n['versicolor', 'versicolor', 'versicolor']\n['setosa', 'setosa', 'setosa']\n['virginica', 'virginica', 'virginica']\n['versicolor', 'versicolor', 'versicolor']\n['virginica', 'virginica', 'virginica']\n['setosa', 'setosa', 'setosa']\n['virginica', 'virginica', 'virginica']\n['versicolor', 'versicolor', 'versicolor']\n['versicolor', 'versicolor', 'versicolor']\n['versicolor', 'versicolor', 'versicolor']\n['versicolor', 'versicolor', 'versicolor']\n['versicolor', 'versicolor', 'versicolor']\n['versicolor', 'versicolor', 'versicolor']\n['virginica', 'versicolor', 'virginica']\n['setosa', 'setosa', 'setosa']\n['setosa', 'setosa', 'setosa']\n['setosa', 'setosa', 'setosa']\n['versicolor', 'versicolor', 'versicolor']\n['virginica', 'virginica', 'virginica']\n['setosa', 'setosa', 'setosa']\n['versicolor', 'versicolor', 'versicolor']\n['versicolor', 'versicolor', 'versicolor']\n['setosa', 'setosa', 'setosa']\n['setosa', 'setosa', 'setosa']\n['setosa', 'setosa', 'setosa']\n"
    }
   ],
   "source": [
    "k = 3\n",
    "for index, row in X_test.iterrows():\n",
    "    #print(index, row.to_numpy())\n",
    "    labeled_points_ordered = sorted(labeled_points_list, key=lambda lp: euclidian_distance(lp.vector, row.to_numpy()))\n",
    "    k_nearest = [lp.label for lp in labeled_points_ordered[:k]]\n",
    "    print(k_nearest)"
   ]
  },
  {
   "cell_type": "code",
   "execution_count": 67,
   "metadata": {},
   "outputs": [
    {
     "output_type": "execute_result",
     "data": {
      "text/plain": "'virginica'"
     },
     "metadata": {},
     "execution_count": 67
    }
   ],
   "source": [
    "from statistics import mode \n",
    "\n",
    "def count_majority(label_list):\n",
    "    return mode(label_list)\n",
    "\n",
    "count_majoritary(['virginica', 'versicolor', 'virginica'])"
   ]
  },
  {
   "cell_type": "code",
   "execution_count": 68,
   "metadata": {
    "tags": []
   },
   "outputs": [
    {
     "output_type": "stream",
     "name": "stdout",
     "text": "setosa\nsetosa\nsetosa\nvirginica\nversicolor\nvirginica\nversicolor\nsetosa\nsetosa\nversicolor\nvirginica\nversicolor\nversicolor\nversicolor\nsetosa\nvirginica\nversicolor\nvirginica\nsetosa\nvirginica\nversicolor\nversicolor\nversicolor\nversicolor\nversicolor\nversicolor\nvirginica\nsetosa\nsetosa\nsetosa\nversicolor\nvirginica\nsetosa\nversicolor\nversicolor\nsetosa\nsetosa\nsetosa\n"
    }
   ],
   "source": [
    "k = 3\n",
    "for index, row in X_test.iterrows():\n",
    "    #print(index, row.to_numpy())\n",
    "    labeled_points_ordered = sorted(labeled_points_list, key=lambda lp: euclidian_distance(lp.vector, row.to_numpy()))\n",
    "    k_nearest = [lp.label for lp in labeled_points_ordered[:k]]\n",
    "    majority_class = count_majority(k_nearest)\n",
    "    print(majority_class)"
   ]
  }
 ],
 "metadata": {
  "language_info": {
   "codemirror_mode": {
    "name": "ipython",
    "version": 3
   },
   "file_extension": ".py",
   "mimetype": "text/x-python",
   "name": "python",
   "nbconvert_exporter": "python",
   "pygments_lexer": "ipython3",
   "version": "3.7.6-final"
  },
  "orig_nbformat": 2,
  "kernelspec": {
   "name": "python3",
   "display_name": "Python 3"
  }
 },
 "nbformat": 4,
 "nbformat_minor": 2
}