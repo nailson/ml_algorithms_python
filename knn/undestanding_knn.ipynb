{
 "cells": [
  {
   "cell_type": "code",
   "execution_count": 30,
   "metadata": {},
   "outputs": [],
   "source": [
    "from sklearn import datasets\n",
    "from sklearn.model_selection import train_test_split\n",
    "import numpy as np\n",
    "import pandas as pd"
   ]
  },
  {
   "cell_type": "code",
   "execution_count": 21,
   "metadata": {},
   "outputs": [],
   "source": [
    "# import some data to play with\n",
    "iris = datasets.load_iris()"
   ]
  },
  {
   "cell_type": "code",
   "execution_count": 28,
   "metadata": {},
   "outputs": [
    {
     "output_type": "execute_result",
     "data": {
      "text/plain": "   sepal length (cm)  sepal width (cm)  petal length (cm)  petal width (cm)  \\\n0                5.1               3.5                1.4               0.2   \n1                4.9               3.0                1.4               0.2   \n2                4.7               3.2                1.3               0.2   \n3                4.6               3.1                1.5               0.2   \n4                5.0               3.6                1.4               0.2   \n\n   label  \n0    0.0  \n1    0.0  \n2    0.0  \n3    0.0  \n4    0.0  ",
      "text/html": "<div>\n<style scoped>\n    .dataframe tbody tr th:only-of-type {\n        vertical-align: middle;\n    }\n\n    .dataframe tbody tr th {\n        vertical-align: top;\n    }\n\n    .dataframe thead th {\n        text-align: right;\n    }\n</style>\n<table border=\"1\" class=\"dataframe\">\n  <thead>\n    <tr style=\"text-align: right;\">\n      <th></th>\n      <th>sepal length (cm)</th>\n      <th>sepal width (cm)</th>\n      <th>petal length (cm)</th>\n      <th>petal width (cm)</th>\n      <th>label</th>\n    </tr>\n  </thead>\n  <tbody>\n    <tr>\n      <th>0</th>\n      <td>5.1</td>\n      <td>3.5</td>\n      <td>1.4</td>\n      <td>0.2</td>\n      <td>0.0</td>\n    </tr>\n    <tr>\n      <th>1</th>\n      <td>4.9</td>\n      <td>3.0</td>\n      <td>1.4</td>\n      <td>0.2</td>\n      <td>0.0</td>\n    </tr>\n    <tr>\n      <th>2</th>\n      <td>4.7</td>\n      <td>3.2</td>\n      <td>1.3</td>\n      <td>0.2</td>\n      <td>0.0</td>\n    </tr>\n    <tr>\n      <th>3</th>\n      <td>4.6</td>\n      <td>3.1</td>\n      <td>1.5</td>\n      <td>0.2</td>\n      <td>0.0</td>\n    </tr>\n    <tr>\n      <th>4</th>\n      <td>5.0</td>\n      <td>3.6</td>\n      <td>1.4</td>\n      <td>0.2</td>\n      <td>0.0</td>\n    </tr>\n  </tbody>\n</table>\n</div>"
     },
     "metadata": {},
     "execution_count": 28
    }
   ],
   "source": [
    "iris_df = pd.DataFrame(data= np.c_[iris['data'], iris['target']], columns=iris['feature_names']+['label'])\n",
    "iris_df.head()"
   ]
  },
  {
   "cell_type": "code",
   "execution_count": 29,
   "metadata": {},
   "outputs": [
    {
     "output_type": "execute_result",
     "data": {
      "text/plain": "2.0    50\n1.0    50\n0.0    50\nName: label, dtype: int64"
     },
     "metadata": {},
     "execution_count": 29
    }
   ],
   "source": [
    "iris_df.label.value_counts()"
   ]
  },
  {
   "cell_type": "code",
   "execution_count": 32,
   "metadata": {},
   "outputs": [],
   "source": [
    "X = iris_df.drop(['label'], axis=1)\n",
    "y = iris_df[['label']]\n",
    "\n",
    "X_train, X_test, y_train, y_test = train_test_split(X, y)"
   ]
  },
  {
   "cell_type": "code",
   "execution_count": 49,
   "metadata": {},
   "outputs": [],
   "source": [
    "def cosine_distance(list1, list2):\n",
    "    return np.sqrt(np.sum([(list1[i]-list2[i])**2 for i in range(0,len(list1))]))\n"
   ]
  },
  {
   "cell_type": "code",
   "execution_count": 51,
   "metadata": {},
   "outputs": [
    {
     "output_type": "execute_result",
     "data": {
      "text/plain": "3.1128764832546763"
     },
     "metadata": {},
     "execution_count": 51
    }
   ],
   "source": [
    "cosine_distance([5.4, 3.4, 1.7, 0.2], [5.4, 3, 4.5, 1.5])"
   ]
  },
  {
   "cell_type": "code",
   "execution_count": 37,
   "metadata": {
    "tags": []
   },
   "outputs": [
    {
     "output_type": "stream",
     "name": "stdout",
     "text": "20 [5.4 3.4 1.7 0.2]\n84 [5.4 3.  4.5 1.5]\n76 [6.8 2.8 4.8 1.4]\n18 [5.7 3.8 1.7 0.3]\n105 [7.6 3.  6.6 2.1]\n15 [5.7 4.4 1.5 0.4]\n23 [5.1 3.3 1.7 0.5]\n104 [6.5 3.  5.8 2.2]\n46 [5.1 3.8 1.6 0.2]\n65 [6.7 3.1 4.4 1.4]\n90 [5.5 2.6 4.4 1.2]\n0 [5.1 3.5 1.4 0.2]\n26 [5.  3.4 1.6 0.4]\n52 [6.9 3.1 4.9 1.5]\n11 [4.8 3.4 1.6 0.2]\n83 [6.  2.7 5.1 1.6]\n125 [7.2 3.2 6.  1.8]\n142 [5.8 2.7 5.1 1.9]\n43 [5.  3.5 1.6 0.6]\n59 [5.2 2.7 3.9 1.4]\n17 [5.1 3.5 1.4 0.3]\n54 [6.5 2.8 4.6 1.5]\n108 [6.7 2.5 5.8 1.8]\n114 [5.8 2.8 5.1 2.4]\n75 [6.6 3.  4.4 1.4]\n24 [4.8 3.4 1.9 0.2]\n127 [6.1 3.  4.9 1.8]\n40 [5.  3.5 1.3 0.3]\n19 [5.1 3.8 1.5 0.3]\n6 [4.6 3.4 1.4 0.3]\n112 [6.8 3.  5.5 2.1]\n7 [5.  3.4 1.5 0.2]\n73 [6.1 2.8 4.7 1.2]\n58 [6.6 2.9 4.6 1.3]\n101 [5.8 2.7 5.1 1.9]\n98 [5.1 2.5 3.  1.1]\n61 [5.9 3.  4.2 1.5]\n14 [5.8 4.  1.2 0.2]\n"
    }
   ],
   "source": [
    "for index, row in X_test.iterrows():\n",
    "    print(index, row.to_numpy())"
   ]
  },
  {
   "cell_type": "code",
   "execution_count": null,
   "metadata": {},
   "outputs": [],
   "source": []
  }
 ],
 "metadata": {
  "language_info": {
   "codemirror_mode": {
    "name": "ipython",
    "version": 3
   },
   "file_extension": ".py",
   "mimetype": "text/x-python",
   "name": "python",
   "nbconvert_exporter": "python",
   "pygments_lexer": "ipython3",
   "version": "3.7.6-final"
  },
  "orig_nbformat": 2,
  "kernelspec": {
   "name": "python3",
   "display_name": "Python 3"
  }
 },
 "nbformat": 4,
 "nbformat_minor": 2
}