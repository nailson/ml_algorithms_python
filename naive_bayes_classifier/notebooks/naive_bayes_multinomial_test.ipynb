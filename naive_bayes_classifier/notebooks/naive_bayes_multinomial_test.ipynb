{
 "cells": [
  {
   "cell_type": "code",
   "execution_count": 1,
   "metadata": {},
   "outputs": [],
   "source": [
    "import pandas as pd\n",
    "import numpy as np\n",
    "from operator import itemgetter\n",
    "from NaiveBayesClassifier import NaiveBayesMultinomial"
   ]
  },
  {
   "cell_type": "markdown",
   "metadata": {},
   "source": [
    "## Test1 - Bernoulli Naive Bayes"
   ]
  },
  {
   "cell_type": "code",
   "execution_count": 2,
   "metadata": {},
   "outputs": [],
   "source": [
    "# Read the Toy Dataset\n",
    "go_out_df = pd.read_csv('../data/go-out.csv', sep=';')\n",
    "\n",
    "# To simplify transform the features into binaries \n",
    "go_out_df['Weather'] = np.where(go_out_df.Weather=='sunny', 1, 0)\n",
    "go_out_df['Car'] = np.where(go_out_df.Car=='working', 1, 0)\n",
    "go_out_df['Class'] = np.where(go_out_df.Class=='go-out', 1, 0)"
   ]
  },
  {
   "cell_type": "code",
   "execution_count": 3,
   "metadata": {},
   "outputs": [
    {
     "output_type": "execute_result",
     "data": {
      "text/plain": "   Weather  Car  Class  predictions\n0        1    1      1            1\n1        0    0      1            0\n2        1    1      1            1\n3        1    1      1            1\n4        1    1      1            1\n5        0    0      0            0\n6        0    0      0            0\n7        1    1      0            1\n8        1    0      0            0\n9        0    0      0            0",
      "text/html": "<div>\n<style scoped>\n    .dataframe tbody tr th:only-of-type {\n        vertical-align: middle;\n    }\n\n    .dataframe tbody tr th {\n        vertical-align: top;\n    }\n\n    .dataframe thead th {\n        text-align: right;\n    }\n</style>\n<table border=\"1\" class=\"dataframe\">\n  <thead>\n    <tr style=\"text-align: right;\">\n      <th></th>\n      <th>Weather</th>\n      <th>Car</th>\n      <th>Class</th>\n      <th>predictions</th>\n    </tr>\n  </thead>\n  <tbody>\n    <tr>\n      <th>0</th>\n      <td>1</td>\n      <td>1</td>\n      <td>1</td>\n      <td>1</td>\n    </tr>\n    <tr>\n      <th>1</th>\n      <td>0</td>\n      <td>0</td>\n      <td>1</td>\n      <td>0</td>\n    </tr>\n    <tr>\n      <th>2</th>\n      <td>1</td>\n      <td>1</td>\n      <td>1</td>\n      <td>1</td>\n    </tr>\n    <tr>\n      <th>3</th>\n      <td>1</td>\n      <td>1</td>\n      <td>1</td>\n      <td>1</td>\n    </tr>\n    <tr>\n      <th>4</th>\n      <td>1</td>\n      <td>1</td>\n      <td>1</td>\n      <td>1</td>\n    </tr>\n    <tr>\n      <th>5</th>\n      <td>0</td>\n      <td>0</td>\n      <td>0</td>\n      <td>0</td>\n    </tr>\n    <tr>\n      <th>6</th>\n      <td>0</td>\n      <td>0</td>\n      <td>0</td>\n      <td>0</td>\n    </tr>\n    <tr>\n      <th>7</th>\n      <td>1</td>\n      <td>1</td>\n      <td>0</td>\n      <td>1</td>\n    </tr>\n    <tr>\n      <th>8</th>\n      <td>1</td>\n      <td>0</td>\n      <td>0</td>\n      <td>0</td>\n    </tr>\n    <tr>\n      <th>9</th>\n      <td>0</td>\n      <td>0</td>\n      <td>0</td>\n      <td>0</td>\n    </tr>\n  </tbody>\n</table>\n</div>"
     },
     "metadata": {},
     "execution_count": 3
    }
   ],
   "source": [
    "X = go_out_df[['Weather','Car']]\n",
    "y = go_out_df.Class\n",
    "\n",
    "naive_bayes_model = NaiveBayesMultinomial()\n",
    "naive_bayes_model.fit(X, y)\n",
    "\n",
    "go_out_df['predictions'] = naive_bayes_model.predict(X)\n",
    "go_out_df"
   ]
  },
  {
   "cell_type": "markdown",
   "metadata": {},
   "source": [
    "## Test 2 - Multinomial Naive Bayes"
   ]
  },
  {
   "cell_type": "code",
   "execution_count": 6,
   "metadata": {},
   "outputs": [],
   "source": [
    "playing_golf = pd.read_csv(\"playing_golf.csv\", sep='\\t')\n",
    "\n",
    "playing_golf['Play'] = np.where(playing_golf.Play=='Yes', 1, 0)\n",
    "playing_golf['Temperature'] = pd.cut(playing_golf.Temperature, [0,65,75,200], labels=['low', 'medium', 'high'])\n",
    "playing_golf['Humidity'] = pd.cut(playing_golf.Humidity, [0,70,80,200], labels=['low', 'medium', 'high'])\n",
    "playing_golf['Wind'] = np.where(playing_golf.Wind=='True', 1, 0)"
   ]
  },
  {
   "cell_type": "code",
   "execution_count": 7,
   "metadata": {},
   "outputs": [
    {
     "output_type": "execute_result",
     "data": {
      "text/plain": "   index   Outlook Temperature Humidity  Wind  Play  predictions\n0      1     Sunny        high     high     0     0            0\n1      2     Sunny        high     high     0     0            0\n2      3  Overcast        high   medium     0     1            1\n3      4      Rain      medium     high     0     1            1\n4      5      Rain      medium   medium     0     1            1\n5      6      Rain         low      low     0     0            1\n6      7  Overcast         low      low     0     1            1\n7      8     Sunny      medium     high     0     0            0\n8      9     Sunny      medium      low     0     1            1\n9     10      Rain      medium   medium     0     1            1",
      "text/html": "<div>\n<style scoped>\n    .dataframe tbody tr th:only-of-type {\n        vertical-align: middle;\n    }\n\n    .dataframe tbody tr th {\n        vertical-align: top;\n    }\n\n    .dataframe thead th {\n        text-align: right;\n    }\n</style>\n<table border=\"1\" class=\"dataframe\">\n  <thead>\n    <tr style=\"text-align: right;\">\n      <th></th>\n      <th>index</th>\n      <th>Outlook</th>\n      <th>Temperature</th>\n      <th>Humidity</th>\n      <th>Wind</th>\n      <th>Play</th>\n      <th>predictions</th>\n    </tr>\n  </thead>\n  <tbody>\n    <tr>\n      <th>0</th>\n      <td>1</td>\n      <td>Sunny</td>\n      <td>high</td>\n      <td>high</td>\n      <td>0</td>\n      <td>0</td>\n      <td>0</td>\n    </tr>\n    <tr>\n      <th>1</th>\n      <td>2</td>\n      <td>Sunny</td>\n      <td>high</td>\n      <td>high</td>\n      <td>0</td>\n      <td>0</td>\n      <td>0</td>\n    </tr>\n    <tr>\n      <th>2</th>\n      <td>3</td>\n      <td>Overcast</td>\n      <td>high</td>\n      <td>medium</td>\n      <td>0</td>\n      <td>1</td>\n      <td>1</td>\n    </tr>\n    <tr>\n      <th>3</th>\n      <td>4</td>\n      <td>Rain</td>\n      <td>medium</td>\n      <td>high</td>\n      <td>0</td>\n      <td>1</td>\n      <td>1</td>\n    </tr>\n    <tr>\n      <th>4</th>\n      <td>5</td>\n      <td>Rain</td>\n      <td>medium</td>\n      <td>medium</td>\n      <td>0</td>\n      <td>1</td>\n      <td>1</td>\n    </tr>\n    <tr>\n      <th>5</th>\n      <td>6</td>\n      <td>Rain</td>\n      <td>low</td>\n      <td>low</td>\n      <td>0</td>\n      <td>0</td>\n      <td>1</td>\n    </tr>\n    <tr>\n      <th>6</th>\n      <td>7</td>\n      <td>Overcast</td>\n      <td>low</td>\n      <td>low</td>\n      <td>0</td>\n      <td>1</td>\n      <td>1</td>\n    </tr>\n    <tr>\n      <th>7</th>\n      <td>8</td>\n      <td>Sunny</td>\n      <td>medium</td>\n      <td>high</td>\n      <td>0</td>\n      <td>0</td>\n      <td>0</td>\n    </tr>\n    <tr>\n      <th>8</th>\n      <td>9</td>\n      <td>Sunny</td>\n      <td>medium</td>\n      <td>low</td>\n      <td>0</td>\n      <td>1</td>\n      <td>1</td>\n    </tr>\n    <tr>\n      <th>9</th>\n      <td>10</td>\n      <td>Rain</td>\n      <td>medium</td>\n      <td>medium</td>\n      <td>0</td>\n      <td>1</td>\n      <td>1</td>\n    </tr>\n  </tbody>\n</table>\n</div>"
     },
     "metadata": {},
     "execution_count": 7
    }
   ],
   "source": [
    "X_multi = playing_golf[['Outlook','Temperature','Humidity','Wind']]\n",
    "y_multi = playing_golf.Play\n",
    "\n",
    "naive_bayes__multinomial_model = NaiveBayesMultinomial()\n",
    "naive_bayes__multinomial_model.fit(X_multi, y_multi)\n",
    "\n",
    "playing_golf['predictions'] = naive_bayes__multinomial_model.predict(X_multi)\n",
    "playing_golf"
   ]
  },
  {
   "cell_type": "code",
   "execution_count": null,
   "metadata": {},
   "outputs": [],
   "source": []
  }
 ],
 "metadata": {
  "language_info": {
   "codemirror_mode": {
    "name": "ipython",
    "version": 3
   },
   "file_extension": ".py",
   "mimetype": "text/x-python",
   "name": "python",
   "nbconvert_exporter": "python",
   "pygments_lexer": "ipython3",
   "version": "3.7.6-final"
  },
  "orig_nbformat": 2,
  "kernelspec": {
   "name": "python3",
   "display_name": "Python 3"
  }
 },
 "nbformat": 4,
 "nbformat_minor": 2
}