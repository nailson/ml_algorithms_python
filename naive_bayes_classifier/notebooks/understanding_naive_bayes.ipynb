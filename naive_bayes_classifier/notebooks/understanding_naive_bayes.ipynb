{
 "cells": [
  {
   "cell_type": "code",
   "execution_count": 1,
   "metadata": {},
   "outputs": [],
   "source": [
    "import pandas as pd\n",
    "import numpy as np\n",
    "from operator import itemgetter"
   ]
  },
  {
   "cell_type": "code",
   "execution_count": 2,
   "metadata": {},
   "outputs": [
    {
     "output_type": "execute_result",
     "data": {
      "text/plain": "   Weather  Car  Class\n0        1    1      1\n1        0    0      1\n2        1    1      1\n3        1    1      1\n4        1    1      1\n5        0    0      0\n6        0    0      0\n7        1    1      0\n8        1    0      0\n9        0    0      0",
      "text/html": "<div>\n<style scoped>\n    .dataframe tbody tr th:only-of-type {\n        vertical-align: middle;\n    }\n\n    .dataframe tbody tr th {\n        vertical-align: top;\n    }\n\n    .dataframe thead th {\n        text-align: right;\n    }\n</style>\n<table border=\"1\" class=\"dataframe\">\n  <thead>\n    <tr style=\"text-align: right;\">\n      <th></th>\n      <th>Weather</th>\n      <th>Car</th>\n      <th>Class</th>\n    </tr>\n  </thead>\n  <tbody>\n    <tr>\n      <th>0</th>\n      <td>1</td>\n      <td>1</td>\n      <td>1</td>\n    </tr>\n    <tr>\n      <th>1</th>\n      <td>0</td>\n      <td>0</td>\n      <td>1</td>\n    </tr>\n    <tr>\n      <th>2</th>\n      <td>1</td>\n      <td>1</td>\n      <td>1</td>\n    </tr>\n    <tr>\n      <th>3</th>\n      <td>1</td>\n      <td>1</td>\n      <td>1</td>\n    </tr>\n    <tr>\n      <th>4</th>\n      <td>1</td>\n      <td>1</td>\n      <td>1</td>\n    </tr>\n    <tr>\n      <th>5</th>\n      <td>0</td>\n      <td>0</td>\n      <td>0</td>\n    </tr>\n    <tr>\n      <th>6</th>\n      <td>0</td>\n      <td>0</td>\n      <td>0</td>\n    </tr>\n    <tr>\n      <th>7</th>\n      <td>1</td>\n      <td>1</td>\n      <td>0</td>\n    </tr>\n    <tr>\n      <th>8</th>\n      <td>1</td>\n      <td>0</td>\n      <td>0</td>\n    </tr>\n    <tr>\n      <th>9</th>\n      <td>0</td>\n      <td>0</td>\n      <td>0</td>\n    </tr>\n  </tbody>\n</table>\n</div>"
     },
     "metadata": {},
     "execution_count": 2
    }
   ],
   "source": [
    "# Read the Toy Dataset\n",
    "go_out_df = pd.read_csv('../data/go-out.csv', sep=';')\n",
    "\n",
    "# To simplify transform the features into binaries \n",
    "go_out_df['Weather'] = np.where(go_out_df.Weather=='sunny', 1, 0)\n",
    "go_out_df['Car'] = np.where(go_out_df.Car=='working', 1, 0)\n",
    "go_out_df['Class'] = np.where(go_out_df.Class=='go-out', 1, 0)\n",
    "\n",
    "go_out_df"
   ]
  },
  {
   "cell_type": "markdown",
   "metadata": {},
   "source": [
    "## Calculate the Prior Probabilities\n",
    "\n",
    "* P(Class=1) = count(Class==1)/count(Class==1)+count(Class==0)\n",
    "* P(Class=0) = count(Class==0)/count(Class==0)+count(Class==1)\n",
    "\n",
    "\n",
    "\n",
    "## Calculate the Likelihood\n",
    "\n",
    "### Weather\n",
    "\n",
    "* P( Weather = 1 | Class = 1) = count( Weather = 1 and Class = 1) / count(Class = 1)\n",
    "* P( Weather = 0 | Class = 1) = count( Weather = 0 and Class = 1) / count(Class = 1)\n",
    "* P( Weather = 1 | Class = 0) = count( Weather = 1 and Class = 0) / count(Class = 0)\n",
    "* P( Weather = 0 | Class = 0) = count( Weather = 0 and Class = 0) / count(Class = 0)\n",
    "\n",
    "### Car\n",
    "\n",
    "* P( Car = 1 | Class = 1) = count( Car = 1 and Class = 1) / count(Class = 1)\n",
    "* P( Car = 0 | Class = 1) = count( Car = 0 and Class = 1) / count(Class = 1)\n",
    "* P( Car = 1 | Class = 0) = count( Car = 1 and Class = 0) / count(Class = 0)\n",
    "* P( Car = 0 | Class = 0) = count( Car = 0 and Class = 0) / count(Class = 0)\n"
   ]
  },
  {
   "cell_type": "code",
   "execution_count": 3,
   "metadata": {},
   "outputs": [
    {
     "output_type": "stream",
     "name": "stdout",
     "text": "{1: {'prior': 0.5, 'count': 5}, 0: {'prior': 0.5, 'count': 5}}\n{'Weather': {(1, 1): 0.8, (0, 1): 0.2, (0, 0): 0.6, (1, 0): 0.4}, 'Car': {(1, 1): 0.8, (0, 1): 0.2, (0, 0): 0.8, (1, 0): 0.2}}\n"
    }
   ],
   "source": [
    "X = go_out_df[['Weather','Car']]\n",
    "y = go_out_df.Class\n",
    "\n",
    "prior_dict = {}\n",
    "likelyhood_dict = {}\n",
    "\n",
    "# For each Class in y\n",
    "for c in y.unique():\n",
    "    # Calculate the pior and store in the prior_dict dictionary\n",
    "    prior_dict.update({c:{\"prior\":np.mean(y==c), \"count\":np.count_nonzero(y==c)}})\n",
    "\n",
    "    # For each feature into X\n",
    "    for col_name, feature_series in X.iloc[np.where(y == c)].iteritems():\n",
    "        # For each class into feature\n",
    "        for feature_c in feature_series.unique():\n",
    "            # Calculate the Likelihood for each pair (Feature= feature class | Class = c)\n",
    "            # P(Weather=1|Class=1) = 0.8\n",
    "            # P(Weather=0|Class=1) = 0.2\n",
    "\n",
    "            #print(\"P({}={}|Class={}) = {}\".format(col_name, feature_c, c, np.count_nonzero(feature_series==feature_c)/len(feature_series)))\n",
    "            if col_name not in likelyhood_dict.keys():\n",
    "                likelyhood_dict.update({col_name:{(feature_c,c):np.count_nonzero(feature_series==feature_c)/len(feature_series)}})\n",
    "            else:\n",
    "                likelyhood_dict[col_name].update({(feature_c,c):np.count_nonzero(feature_series==feature_c)/len(feature_series)})\n",
    "\n",
    "print(prior_dict)\n",
    "print(likelyhood_dict)"
   ]
  },
  {
   "cell_type": "code",
   "execution_count": 4,
   "metadata": {},
   "outputs": [
    {
     "output_type": "execute_result",
     "data": {
      "text/plain": "[[(1, 0.32000000000000006), (0, 0.04000000000000001)],\n [(1, 0.020000000000000004), (0, 0.24)],\n [(1, 0.32000000000000006), (0, 0.04000000000000001)],\n [(1, 0.32000000000000006), (0, 0.04000000000000001)],\n [(1, 0.32000000000000006), (0, 0.04000000000000001)],\n [(1, 0.020000000000000004), (0, 0.24)],\n [(1, 0.020000000000000004), (0, 0.24)],\n [(1, 0.32000000000000006), (0, 0.04000000000000001)],\n [(1, 0.08000000000000002), (0, 0.16000000000000003)],\n [(1, 0.020000000000000004), (0, 0.24)]]"
     },
     "metadata": {},
     "execution_count": 4
    }
   ],
   "source": [
    "predictions = []\n",
    "def func(x):\n",
    "    \n",
    "    posterior_dict = []\n",
    "    for c in y.unique():\n",
    "        # Initialize posterior as prior\n",
    "        posterior = prior_dict[c]['prior']\n",
    "        for col_name in x.index:\n",
    "            # Naive assumption (independence):\n",
    "            # P(x1,x2,x3|Y) = P(x1|Y)*P(x2|Y)*P(x3|Y)\n",
    "            # Posterior is product of prior and likelihoods (ignoring scaling factor)\n",
    "            posterior *= likelyhood_dict[col_name][(x[col_name],c)]\n",
    "        posterior_dict.append((c,posterior))\n",
    "        \n",
    "    return posterior_dict\n",
    "\n",
    "# For row in dataset\n",
    "results = [ func(row) for index, row in X.iterrows()]\n",
    "results"
   ]
  },
  {
   "cell_type": "code",
   "execution_count": 5,
   "metadata": {},
   "outputs": [
    {
     "output_type": "execute_result",
     "data": {
      "text/plain": "[1, 0, 1, 1, 1, 0, 0, 1, 0, 0]"
     },
     "metadata": {},
     "execution_count": 5
    }
   ],
   "source": [
    "prediction = [max(prob,key=itemgetter(1))[0] for prob in results]\n",
    "prediction"
   ]
  },
  {
   "cell_type": "code",
   "execution_count": 6,
   "metadata": {},
   "outputs": [
    {
     "output_type": "execute_result",
     "data": {
      "text/plain": "   Weather  Car  Class  prediction\n0        1    1      1           1\n1        0    0      1           0\n2        1    1      1           1\n3        1    1      1           1\n4        1    1      1           1\n5        0    0      0           0\n6        0    0      0           0\n7        1    1      0           1\n8        1    0      0           0\n9        0    0      0           0",
      "text/html": "<div>\n<style scoped>\n    .dataframe tbody tr th:only-of-type {\n        vertical-align: middle;\n    }\n\n    .dataframe tbody tr th {\n        vertical-align: top;\n    }\n\n    .dataframe thead th {\n        text-align: right;\n    }\n</style>\n<table border=\"1\" class=\"dataframe\">\n  <thead>\n    <tr style=\"text-align: right;\">\n      <th></th>\n      <th>Weather</th>\n      <th>Car</th>\n      <th>Class</th>\n      <th>prediction</th>\n    </tr>\n  </thead>\n  <tbody>\n    <tr>\n      <th>0</th>\n      <td>1</td>\n      <td>1</td>\n      <td>1</td>\n      <td>1</td>\n    </tr>\n    <tr>\n      <th>1</th>\n      <td>0</td>\n      <td>0</td>\n      <td>1</td>\n      <td>0</td>\n    </tr>\n    <tr>\n      <th>2</th>\n      <td>1</td>\n      <td>1</td>\n      <td>1</td>\n      <td>1</td>\n    </tr>\n    <tr>\n      <th>3</th>\n      <td>1</td>\n      <td>1</td>\n      <td>1</td>\n      <td>1</td>\n    </tr>\n    <tr>\n      <th>4</th>\n      <td>1</td>\n      <td>1</td>\n      <td>1</td>\n      <td>1</td>\n    </tr>\n    <tr>\n      <th>5</th>\n      <td>0</td>\n      <td>0</td>\n      <td>0</td>\n      <td>0</td>\n    </tr>\n    <tr>\n      <th>6</th>\n      <td>0</td>\n      <td>0</td>\n      <td>0</td>\n      <td>0</td>\n    </tr>\n    <tr>\n      <th>7</th>\n      <td>1</td>\n      <td>1</td>\n      <td>0</td>\n      <td>1</td>\n    </tr>\n    <tr>\n      <th>8</th>\n      <td>1</td>\n      <td>0</td>\n      <td>0</td>\n      <td>0</td>\n    </tr>\n    <tr>\n      <th>9</th>\n      <td>0</td>\n      <td>0</td>\n      <td>0</td>\n      <td>0</td>\n    </tr>\n  </tbody>\n</table>\n</div>"
     },
     "metadata": {},
     "execution_count": 6
    }
   ],
   "source": [
    "go_out_df['prediction'] = prediction\n",
    "go_out_df"
   ]
  },
  {
   "cell_type": "code",
   "execution_count": null,
   "metadata": {},
   "outputs": [],
   "source": []
  }
 ],
 "metadata": {
  "language_info": {
   "codemirror_mode": {
    "name": "ipython",
    "version": 3
   },
   "file_extension": ".py",
   "mimetype": "text/x-python",
   "name": "python",
   "nbconvert_exporter": "python",
   "pygments_lexer": "ipython3",
   "version": "3.7.6-final"
  },
  "orig_nbformat": 2,
  "kernelspec": {
   "name": "python3",
   "display_name": "Python 3"
  }
 },
 "nbformat": 4,
 "nbformat_minor": 2
}