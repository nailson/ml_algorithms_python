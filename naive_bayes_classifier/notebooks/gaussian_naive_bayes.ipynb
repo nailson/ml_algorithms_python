{
 "cells": [
  {
   "cell_type": "code",
   "execution_count": 1,
   "metadata": {},
   "outputs": [],
   "source": [
    "import pandas as pd\n",
    "import numpy as np\n",
    "import math"
   ]
  },
  {
   "cell_type": "markdown",
   "metadata": {},
   "source": [
    "## Gaussian Naive Bayes\n"
   ]
  },
  {
   "cell_type": "code",
   "execution_count": 2,
   "metadata": {},
   "outputs": [
    {
     "output_type": "execute_result",
     "data": {
      "text/plain": "   index   Outlook  Temperature  Humidity   Wind Play\n0      1     Sunny           85        85  False   No\n1      2     Sunny           80        90   True   No\n2      3  Overcast           83        78  False  Yes\n3      4      Rain           70        96  False  Yes\n4      5      Rain           68        80  False  Yes\n5      6      Rain           65        70   True   No\n6      7  Overcast           64        65   True  Yes\n7      8     Sunny           72        95  False   No\n8      9     Sunny           69        70  False  Yes\n9     10      Rain           75        80  False  Yes",
      "text/html": "<div>\n<style scoped>\n    .dataframe tbody tr th:only-of-type {\n        vertical-align: middle;\n    }\n\n    .dataframe tbody tr th {\n        vertical-align: top;\n    }\n\n    .dataframe thead th {\n        text-align: right;\n    }\n</style>\n<table border=\"1\" class=\"dataframe\">\n  <thead>\n    <tr style=\"text-align: right;\">\n      <th></th>\n      <th>index</th>\n      <th>Outlook</th>\n      <th>Temperature</th>\n      <th>Humidity</th>\n      <th>Wind</th>\n      <th>Play</th>\n    </tr>\n  </thead>\n  <tbody>\n    <tr>\n      <th>0</th>\n      <td>1</td>\n      <td>Sunny</td>\n      <td>85</td>\n      <td>85</td>\n      <td>False</td>\n      <td>No</td>\n    </tr>\n    <tr>\n      <th>1</th>\n      <td>2</td>\n      <td>Sunny</td>\n      <td>80</td>\n      <td>90</td>\n      <td>True</td>\n      <td>No</td>\n    </tr>\n    <tr>\n      <th>2</th>\n      <td>3</td>\n      <td>Overcast</td>\n      <td>83</td>\n      <td>78</td>\n      <td>False</td>\n      <td>Yes</td>\n    </tr>\n    <tr>\n      <th>3</th>\n      <td>4</td>\n      <td>Rain</td>\n      <td>70</td>\n      <td>96</td>\n      <td>False</td>\n      <td>Yes</td>\n    </tr>\n    <tr>\n      <th>4</th>\n      <td>5</td>\n      <td>Rain</td>\n      <td>68</td>\n      <td>80</td>\n      <td>False</td>\n      <td>Yes</td>\n    </tr>\n    <tr>\n      <th>5</th>\n      <td>6</td>\n      <td>Rain</td>\n      <td>65</td>\n      <td>70</td>\n      <td>True</td>\n      <td>No</td>\n    </tr>\n    <tr>\n      <th>6</th>\n      <td>7</td>\n      <td>Overcast</td>\n      <td>64</td>\n      <td>65</td>\n      <td>True</td>\n      <td>Yes</td>\n    </tr>\n    <tr>\n      <th>7</th>\n      <td>8</td>\n      <td>Sunny</td>\n      <td>72</td>\n      <td>95</td>\n      <td>False</td>\n      <td>No</td>\n    </tr>\n    <tr>\n      <th>8</th>\n      <td>9</td>\n      <td>Sunny</td>\n      <td>69</td>\n      <td>70</td>\n      <td>False</td>\n      <td>Yes</td>\n    </tr>\n    <tr>\n      <th>9</th>\n      <td>10</td>\n      <td>Rain</td>\n      <td>75</td>\n      <td>80</td>\n      <td>False</td>\n      <td>Yes</td>\n    </tr>\n  </tbody>\n</table>\n</div>"
     },
     "metadata": {},
     "execution_count": 2
    }
   ],
   "source": [
    "playing_golf = pd.read_csv(\"../data/playing_golf.csv\", sep='\\t')\n",
    "playing_golf"
   ]
  },
  {
   "cell_type": "code",
   "execution_count": 3,
   "metadata": {},
   "outputs": [
    {
     "output_type": "execute_result",
     "data": {
      "text/plain": "index           int64\nOutlook        object\nTemperature     int64\nHumidity        int64\nWind             bool\nPlay           object\ndtype: object"
     },
     "metadata": {},
     "execution_count": 3
    }
   ],
   "source": [
    "playing_golf.dtypes"
   ]
  },
  {
   "cell_type": "code",
   "execution_count": 4,
   "metadata": {},
   "outputs": [
    {
     "output_type": "stream",
     "name": "stdout",
     "text": "{'Temperature': {'No': {'mean': 75.5, 'sd': 7.632168761236874}, 'Yes': {'mean': 71.5, 'sd': 6.075908711186061}}, 'Humidity': {'No': {'mean': 85.0, 'sd': 9.354143466934854}, 'Yes': {'mean': 78.16666666666667, 'sd': 9.702519718551924}}}\n"
    }
   ],
   "source": [
    "X = playing_golf[['Outlook', 'Temperature', 'Humidity', 'Wind']]\n",
    "y = playing_golf.Play\n",
    "\n",
    "prior_dict = {}\n",
    "likelyhood_dict = {}\n",
    "\n",
    "# For each Class in y\n",
    "for c in y.unique():\n",
    "    # Calculate the pior and store in the prior_dict dictionary\n",
    "    prior_dict.update({c:{\"prior\":np.mean(y==c), \"count\":np.count_nonzero(y==c)}})\n",
    "\n",
    "    # For each feature into X\n",
    "    for col_name, feature_series in X.iloc[np.where(y == c)].iteritems():\n",
    "        \n",
    "        if(str(feature_series.dtype) in ['int64','double']):\n",
    "            if col_name not in likelyhood_dict.keys():\n",
    "                likelyhood_dict.update({col_name:{c:{\"mean\":np.mean(feature_series), \"sd\":np.std(feature_series)}}})\n",
    "            else:\n",
    "                likelyhood_dict[col_name].update({c:{\"mean\":np.mean(feature_series), \"sd\":np.std(feature_series)}})\n",
    "\n",
    "print(likelyhood_dict)"
   ]
  },
  {
   "cell_type": "code",
   "execution_count": 5,
   "metadata": {},
   "outputs": [
    {
     "output_type": "execute_result",
     "data": {
      "text/plain": "[[('No', 0.000437146634151998), ('Yes', 0.0002649064730610991)],\n [('No', 0.0005999138246254644), ('Yes', 0.00031469146232782096)],\n [('No', 0.00041042735867443124), ('Yes', 0.0005065052251517874)],\n [('No', 0.00031921184558675916), ('Yes', 0.00016443418796288793)],\n [('No', 0.0004726595797473193), ('Yes', 0.0011475373743421264)],\n [('No', 0.00010193026997853047), ('Yes', 0.0006204630382086237)],\n [('No', 3.1474630170557416e-05), ('Yes', 0.00028436572403873773)],\n [('No', 0.00040690904482652374), ('Yes', 0.00020814705608512602)],\n [('No', 0.0001599114260384843), ('Yes', 0.0007980843432051244)],\n [('No', 0.0006848750066205949), ('Yes', 0.0011475373743421264)]]"
     },
     "metadata": {},
     "execution_count": 5
    }
   ],
   "source": [
    "\n",
    "def calculate_gaussian_prob(x, colname, c):\n",
    "    mean = likelyhood_dict[colname][c]['mean']\n",
    "    sd = likelyhood_dict[colname][c]['mean']\n",
    "    low_number = 1e-6 # prevent division by zero\n",
    "    \n",
    "    # Gaussian PDF to calculate the probability of a relative likelihood \n",
    "    # that the value of the random variable x would equal that sample (mean and sd)\n",
    "    coeff = 1.0 / math.sqrt(2.0 * math.pi * sd + low_number)\n",
    "    exponent = math.exp(-(math.pow(x - mean, 2) / (2 * sd + low_number)))\n",
    "    return coeff * exponent\n",
    "\n",
    "\n",
    "predictions = []\n",
    "def func(x):\n",
    "    \n",
    "    posterior_dict = []\n",
    "    for c in y.unique():\n",
    "        # Initialize posterior as prior\n",
    "        posterior = prior_dict[c]['prior']\n",
    "        for col_name in x.index:\n",
    "            # Naive assumption (independence):\n",
    "            # P(x1,x2,x3|Y) = P(x1|Y)*P(x2|Y)*P(x3|Y)\n",
    "            # Posterior is product of prior and likelihoods (ignoring scaling factor)\n",
    "            #print(type(x[col_name]))\n",
    "            if(type(x[col_name]) in [int, float, np.int64, np.float]):\n",
    "                posterior *= calculate_gaussian_prob(x[col_name], col_name, c)\n",
    "        posterior_dict.append((c,posterior))\n",
    "        \n",
    "    return posterior_dict\n",
    "\n",
    "# For row in dataset\n",
    "results = [ func(row) for index, row in X.iterrows()]\n",
    "results"
   ]
  },
  {
   "cell_type": "code",
   "execution_count": null,
   "metadata": {},
   "outputs": [],
   "source": []
  },
  {
   "cell_type": "code",
   "execution_count": null,
   "metadata": {},
   "outputs": [],
   "source": []
  }
 ],
 "metadata": {
  "language_info": {
   "codemirror_mode": {
    "name": "ipython",
    "version": 3
   },
   "file_extension": ".py",
   "mimetype": "text/x-python",
   "name": "python",
   "nbconvert_exporter": "python",
   "pygments_lexer": "ipython3",
   "version": "3.7.6-final"
  },
  "orig_nbformat": 2,
  "kernelspec": {
   "name": "python3",
   "display_name": "Python 3"
  }
 },
 "nbformat": 4,
 "nbformat_minor": 2
}