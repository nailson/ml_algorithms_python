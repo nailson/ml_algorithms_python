{
 "cells": [
  {
   "cell_type": "code",
   "execution_count": 9,
   "metadata": {},
   "outputs": [],
   "source": [
    "import pandas as pd\n",
    "import numpy as np"
   ]
  },
  {
   "cell_type": "code",
   "execution_count": 5,
   "metadata": {},
   "outputs": [
    {
     "output_type": "execute_result",
     "data": {
      "text/plain": "   index   Outlook  Temperature  Humidity   Wind Play\n0      1     Sunny           85        85  False   No\n1      2     Sunny           80        90   True   No\n2      3  Overcast           83        78  False  Yes\n3      4      Rain           70        96  False  Yes\n4      5      Rain           68        80  False  Yes\n5      6      Rain           65        70   True   No\n6      7  Overcast           64        65   True  Yes\n7      8     Sunny           72        95  False   No\n8      9     Sunny           69        70  False  Yes\n9     10      Rain           75        80  False  Yes",
      "text/html": "<div>\n<style scoped>\n    .dataframe tbody tr th:only-of-type {\n        vertical-align: middle;\n    }\n\n    .dataframe tbody tr th {\n        vertical-align: top;\n    }\n\n    .dataframe thead th {\n        text-align: right;\n    }\n</style>\n<table border=\"1\" class=\"dataframe\">\n  <thead>\n    <tr style=\"text-align: right;\">\n      <th></th>\n      <th>index</th>\n      <th>Outlook</th>\n      <th>Temperature</th>\n      <th>Humidity</th>\n      <th>Wind</th>\n      <th>Play</th>\n    </tr>\n  </thead>\n  <tbody>\n    <tr>\n      <th>0</th>\n      <td>1</td>\n      <td>Sunny</td>\n      <td>85</td>\n      <td>85</td>\n      <td>False</td>\n      <td>No</td>\n    </tr>\n    <tr>\n      <th>1</th>\n      <td>2</td>\n      <td>Sunny</td>\n      <td>80</td>\n      <td>90</td>\n      <td>True</td>\n      <td>No</td>\n    </tr>\n    <tr>\n      <th>2</th>\n      <td>3</td>\n      <td>Overcast</td>\n      <td>83</td>\n      <td>78</td>\n      <td>False</td>\n      <td>Yes</td>\n    </tr>\n    <tr>\n      <th>3</th>\n      <td>4</td>\n      <td>Rain</td>\n      <td>70</td>\n      <td>96</td>\n      <td>False</td>\n      <td>Yes</td>\n    </tr>\n    <tr>\n      <th>4</th>\n      <td>5</td>\n      <td>Rain</td>\n      <td>68</td>\n      <td>80</td>\n      <td>False</td>\n      <td>Yes</td>\n    </tr>\n    <tr>\n      <th>5</th>\n      <td>6</td>\n      <td>Rain</td>\n      <td>65</td>\n      <td>70</td>\n      <td>True</td>\n      <td>No</td>\n    </tr>\n    <tr>\n      <th>6</th>\n      <td>7</td>\n      <td>Overcast</td>\n      <td>64</td>\n      <td>65</td>\n      <td>True</td>\n      <td>Yes</td>\n    </tr>\n    <tr>\n      <th>7</th>\n      <td>8</td>\n      <td>Sunny</td>\n      <td>72</td>\n      <td>95</td>\n      <td>False</td>\n      <td>No</td>\n    </tr>\n    <tr>\n      <th>8</th>\n      <td>9</td>\n      <td>Sunny</td>\n      <td>69</td>\n      <td>70</td>\n      <td>False</td>\n      <td>Yes</td>\n    </tr>\n    <tr>\n      <th>9</th>\n      <td>10</td>\n      <td>Rain</td>\n      <td>75</td>\n      <td>80</td>\n      <td>False</td>\n      <td>Yes</td>\n    </tr>\n  </tbody>\n</table>\n</div>"
     },
     "metadata": {},
     "execution_count": 5
    }
   ],
   "source": [
    "golf_df = pd.read_csv('playing_golf.csv', sep='\\t')\n",
    "golf_df"
   ]
  },
  {
   "cell_type": "code",
   "execution_count": 7,
   "metadata": {},
   "outputs": [
    {
     "output_type": "execute_result",
     "data": {
      "text/plain": "  Weather      Car      Class\n0   sunny  working     go-out\n1   rainy   broken     go-out\n2   sunny  working     go-out\n3   sunny  working     go-out\n4   sunny  working     go-out\n5   rainy   broken  stay-home\n6   rainy   broken  stay-home\n7   sunny  working  stay-home\n8   sunny   broken  stay-home\n9   rainy   broken  stay-home",
      "text/html": "<div>\n<style scoped>\n    .dataframe tbody tr th:only-of-type {\n        vertical-align: middle;\n    }\n\n    .dataframe tbody tr th {\n        vertical-align: top;\n    }\n\n    .dataframe thead th {\n        text-align: right;\n    }\n</style>\n<table border=\"1\" class=\"dataframe\">\n  <thead>\n    <tr style=\"text-align: right;\">\n      <th></th>\n      <th>Weather</th>\n      <th>Car</th>\n      <th>Class</th>\n    </tr>\n  </thead>\n  <tbody>\n    <tr>\n      <th>0</th>\n      <td>sunny</td>\n      <td>working</td>\n      <td>go-out</td>\n    </tr>\n    <tr>\n      <th>1</th>\n      <td>rainy</td>\n      <td>broken</td>\n      <td>go-out</td>\n    </tr>\n    <tr>\n      <th>2</th>\n      <td>sunny</td>\n      <td>working</td>\n      <td>go-out</td>\n    </tr>\n    <tr>\n      <th>3</th>\n      <td>sunny</td>\n      <td>working</td>\n      <td>go-out</td>\n    </tr>\n    <tr>\n      <th>4</th>\n      <td>sunny</td>\n      <td>working</td>\n      <td>go-out</td>\n    </tr>\n    <tr>\n      <th>5</th>\n      <td>rainy</td>\n      <td>broken</td>\n      <td>stay-home</td>\n    </tr>\n    <tr>\n      <th>6</th>\n      <td>rainy</td>\n      <td>broken</td>\n      <td>stay-home</td>\n    </tr>\n    <tr>\n      <th>7</th>\n      <td>sunny</td>\n      <td>working</td>\n      <td>stay-home</td>\n    </tr>\n    <tr>\n      <th>8</th>\n      <td>sunny</td>\n      <td>broken</td>\n      <td>stay-home</td>\n    </tr>\n    <tr>\n      <th>9</th>\n      <td>rainy</td>\n      <td>broken</td>\n      <td>stay-home</td>\n    </tr>\n  </tbody>\n</table>\n</div>"
     },
     "metadata": {},
     "execution_count": 7
    }
   ],
   "source": [
    "go_out_df = pd.read_csv('go-out.csv', sep=';')\n",
    "go_out_df"
   ]
  },
  {
   "cell_type": "code",
   "execution_count": 10,
   "metadata": {},
   "outputs": [
    {
     "output_type": "execute_result",
     "data": {
      "text/plain": "   Weather  Car  Class\n0        1    1      1\n1        0    0      1\n2        1    1      1\n3        1    1      1\n4        1    1      1\n5        0    0      0\n6        0    0      0\n7        1    1      0\n8        1    0      0\n9        0    0      0",
      "text/html": "<div>\n<style scoped>\n    .dataframe tbody tr th:only-of-type {\n        vertical-align: middle;\n    }\n\n    .dataframe tbody tr th {\n        vertical-align: top;\n    }\n\n    .dataframe thead th {\n        text-align: right;\n    }\n</style>\n<table border=\"1\" class=\"dataframe\">\n  <thead>\n    <tr style=\"text-align: right;\">\n      <th></th>\n      <th>Weather</th>\n      <th>Car</th>\n      <th>Class</th>\n    </tr>\n  </thead>\n  <tbody>\n    <tr>\n      <th>0</th>\n      <td>1</td>\n      <td>1</td>\n      <td>1</td>\n    </tr>\n    <tr>\n      <th>1</th>\n      <td>0</td>\n      <td>0</td>\n      <td>1</td>\n    </tr>\n    <tr>\n      <th>2</th>\n      <td>1</td>\n      <td>1</td>\n      <td>1</td>\n    </tr>\n    <tr>\n      <th>3</th>\n      <td>1</td>\n      <td>1</td>\n      <td>1</td>\n    </tr>\n    <tr>\n      <th>4</th>\n      <td>1</td>\n      <td>1</td>\n      <td>1</td>\n    </tr>\n    <tr>\n      <th>5</th>\n      <td>0</td>\n      <td>0</td>\n      <td>0</td>\n    </tr>\n    <tr>\n      <th>6</th>\n      <td>0</td>\n      <td>0</td>\n      <td>0</td>\n    </tr>\n    <tr>\n      <th>7</th>\n      <td>1</td>\n      <td>1</td>\n      <td>0</td>\n    </tr>\n    <tr>\n      <th>8</th>\n      <td>1</td>\n      <td>0</td>\n      <td>0</td>\n    </tr>\n    <tr>\n      <th>9</th>\n      <td>0</td>\n      <td>0</td>\n      <td>0</td>\n    </tr>\n  </tbody>\n</table>\n</div>"
     },
     "metadata": {},
     "execution_count": 10
    }
   ],
   "source": [
    "go_out_df['Weather'] = np.where(go_out_df.Weather=='sunny', 1, 0)\n",
    "go_out_df['Car'] = np.where(go_out_df.Car=='working', 1, 0)\n",
    "go_out_df['Class'] = np.where(go_out_df.Class=='go-out', 1, 0)\n",
    "go_out_df"
   ]
  },
  {
   "cell_type": "markdown",
   "metadata": {},
   "source": [
    "## Calculate the Prior Probabilities\n",
    "\n",
    "P(Class=1) = count(Class==1)/count(Class==1)+count(Class==0)\n",
    "\n",
    "P(Class=0) = count(Class==0)/count(Class==0)+count(Class==1)\n"
   ]
  },
  {
   "cell_type": "code",
   "execution_count": 24,
   "metadata": {},
   "outputs": [
    {
     "output_type": "stream",
     "name": "stdout",
     "text": "{1: 5, 0: 5}\n{1: 0.5, 0: 0.5}\n"
    }
   ],
   "source": [
    "classes_count = go_out_df.Class.value_counts()\n",
    "classes_count_dict = classes_count.to_dict()\n",
    "print(classes_count_dict)\n",
    "classes_probabilities_dict = (classes_count/len(go_out_df)).to_dict() \n",
    "print(classes_probabilities_dict)"
   ]
  },
  {
   "cell_type": "markdown",
   "metadata": {},
   "source": [
    "## Calculate the Likelyhood\n",
    "\n",
    "### Weather\n",
    "\n",
    "* P( Weather = 1 | Class = 1) = count( Weather = 1 and Class = 1) / count(Class = 1)\n",
    "* P( Weather = 0 | Class = 1) = count( Weather = 0 and Class = 1) / count(Class = 1)\n",
    "* P( Weather = 1 | Class = 0) = count( Weather = 1 and Class = 0) / count(Class = 0)\n",
    "* P( Weather = 0 | Class = 0) = count( Weather = 0 and Class = 0) / count(Class = 0)\n",
    "\n",
    "### Car\n",
    "\n",
    "* P( Car = 1 | Class = 1) = count( Car = 1 and Class = 1) / count(Class = 1)\n",
    "* P( Car = 0 | Class = 1) = count( Car = 0 and Class = 1) / count(Class = 1)\n",
    "* P( Car = 1 | Class = 0) = count( Car = 1 and Class = 0) / count(Class = 0)\n",
    "* P( Car = 0 | Class = 0) = count( Car = 0 and Class = 0) / count(Class = 0)\n"
   ]
  },
  {
   "cell_type": "code",
   "execution_count": 70,
   "metadata": {},
   "outputs": [
    {
     "output_type": "stream",
     "name": "stdout",
     "text": "{1: {'prior': 0.5, 'count': 5}, 0: {'prior': 0.5, 'count': 5}}\n{'Weather': {1: {'likelyhood': 0.6, 'count': 6}, 0: {'likelyhood': 0.4, 'count': 4}}, 'Car': {1: {'likelyhood': 0.5, 'count': 5}, 0: {'likelyhood': 0.5, 'count': 5}}}\n"
    }
   ],
   "source": [
    "X = go_out_df[['Weather','Car']]\n",
    "y = go_out_df.Class\n",
    "\n",
    "prior_dict = {}\n",
    "likelyhood_dict = {}\n",
    "for c in y.unique():\n",
    "    prior_dict.update({c:{\"prior\":np.mean(y==c), \"count\":np.count_nonzero(y==c)}})\n",
    "\n",
    "    for col_name, serie in X.iteritems():\n",
    "        if col_name not in likelyhood_dict.keys():\n",
    "            likelyhood_dict.update({col_name:{c:{\"likelyhood\":np.mean(serie==c), \"count\":np.count_nonzero(serie==c)}}})\n",
    "        else:\n",
    "            likelyhood_dict[col_name].update({c:{\"likelyhood\":np.mean(serie==c), \"count\":np.count_nonzero(serie==c)}})\n",
    "\n",
    "\n",
    "print(prior_dict)\n",
    "print(likelyhood_dict)"
   ]
  },
  {
   "cell_type": "code",
   "execution_count": 63,
   "metadata": {},
   "outputs": [
    {
     "output_type": "execute_result",
     "data": {
      "text/plain": "5"
     },
     "metadata": {},
     "execution_count": 63
    }
   ],
   "source": [
    "np.count_nonzero(serie==c)\n",
    "#np.count_nonzero(y==c)"
   ]
  },
  {
   "cell_type": "code",
   "execution_count": 68,
   "metadata": {},
   "outputs": [],
   "source": [
    "if 'Weather' not in likelyhood_dict.keys():\n",
    "    print('sim')"
   ]
  },
  {
   "cell_type": "code",
   "execution_count": 48,
   "metadata": {},
   "outputs": [
    {
     "output_type": "execute_result",
     "data": {
      "text/plain": "Index(['Weather', 'Car'], dtype='object')"
     },
     "metadata": {},
     "execution_count": 48
    }
   ],
   "source": [
    "X.columns"
   ]
  }
 ],
 "metadata": {
  "language_info": {
   "codemirror_mode": {
    "name": "ipython",
    "version": 3
   },
   "file_extension": ".py",
   "mimetype": "text/x-python",
   "name": "python",
   "nbconvert_exporter": "python",
   "pygments_lexer": "ipython3",
   "version": "3.7.6-final"
  },
  "orig_nbformat": 2,
  "kernelspec": {
   "name": "python3",
   "display_name": "Python 3"
  }
 },
 "nbformat": 4,
 "nbformat_minor": 2
}